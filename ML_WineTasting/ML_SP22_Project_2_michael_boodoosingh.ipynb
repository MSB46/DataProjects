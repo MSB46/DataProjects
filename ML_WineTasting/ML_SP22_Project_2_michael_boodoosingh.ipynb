{
 "cells": [
  {
   "cell_type": "markdown",
   "metadata": {},
   "source": [
    "# ML_SP22_Project_2 (Classical Machine Learning Model Building)"
   ]
  },
  {
   "cell_type": "markdown",
   "metadata": {},
   "source": [
    "### Due Date: 5/2 23:59 pm"
   ]
  },
  {
   "cell_type": "code",
   "execution_count": 1,
   "metadata": {},
   "outputs": [],
   "source": [
    "import pandas as pd\n",
    "import numpy as np\n",
    "import matplotlib.pyplot as plt\n",
    "import seaborn as sns\n",
    "import warnings\n",
    "warnings.filterwarnings('ignore')"
   ]
  },
  {
   "cell_type": "code",
   "execution_count": 2,
   "metadata": {},
   "outputs": [],
   "source": [
    "from sklearn import preprocessing\n",
    "from sklearn.model_selection import train_test_split\n",
    "from sklearn.linear_model import LogisticRegression\n",
    "from sklearn import svm\n",
    "from sklearn.ensemble import RandomForestClassifier\n",
    "from sklearn.tree import DecisionTreeClassifier\n",
    "from sklearn.metrics import classification_report,confusion_matrix,accuracy_score"
   ]
  },
  {
   "cell_type": "code",
   "execution_count": 3,
   "metadata": {},
   "outputs": [],
   "source": [
    "# include your Project 1 Decision Tree Model as well\n",
    "from DT_michael_boodoosingh import DecisionTreeModel"
   ]
  },
  {
   "cell_type": "markdown",
   "metadata": {},
   "source": [
    "### Original dataset was based on\n",
    "https://archive.ics.uci.edu/ml/datasets/wine+quality"
   ]
  },
  {
   "cell_type": "raw",
   "metadata": {},
   "source": [
    "Attribute Information:\n",
    "\n",
    "For more information, read [Cortez et al., 2009].\n",
    "Input variables (based on physicochemical tests):\n",
    "1 - fixed acidity\n",
    "2 - volatile acidity\n",
    "3 - citric acid\n",
    "4 - residual sugar\n",
    "5 - chlorides\n",
    "6 - free sulfur dioxide\n",
    "7 - total sulfur dioxide\n",
    "8 - density\n",
    "9 - pH\n",
    "10 - sulphates\n",
    "11 - alcohol\n",
    "Output variable (based on sensory data):\n",
    "12 - quality (score between 0 and 10)"
   ]
  },
  {
   "cell_type": "markdown",
   "metadata": {},
   "source": [
    "### However, we will be using a slightly modified version of the dataset as follow"
   ]
  },
  {
   "cell_type": "code",
   "execution_count": 4,
   "metadata": {},
   "outputs": [
    {
     "data": {
      "text/html": [
       "<div>\n",
       "<style scoped>\n",
       "    .dataframe tbody tr th:only-of-type {\n",
       "        vertical-align: middle;\n",
       "    }\n",
       "\n",
       "    .dataframe tbody tr th {\n",
       "        vertical-align: top;\n",
       "    }\n",
       "\n",
       "    .dataframe thead th {\n",
       "        text-align: right;\n",
       "    }\n",
       "</style>\n",
       "<table border=\"1\" class=\"dataframe\">\n",
       "  <thead>\n",
       "    <tr style=\"text-align: right;\">\n",
       "      <th></th>\n",
       "      <th>fixed acidity</th>\n",
       "      <th>volatile acidity</th>\n",
       "      <th>citric acid</th>\n",
       "      <th>residual sugar</th>\n",
       "      <th>chlorides</th>\n",
       "      <th>free sulfur dioxide</th>\n",
       "      <th>total sulfur dioxide</th>\n",
       "      <th>density</th>\n",
       "      <th>sulphates</th>\n",
       "      <th>alcohol</th>\n",
       "      <th>type</th>\n",
       "      <th>pHValue</th>\n",
       "      <th>taste</th>\n",
       "    </tr>\n",
       "  </thead>\n",
       "  <tbody>\n",
       "    <tr>\n",
       "      <th>0</th>\n",
       "      <td>7.0</td>\n",
       "      <td>0.27</td>\n",
       "      <td>0.36</td>\n",
       "      <td>20.7</td>\n",
       "      <td>0.045</td>\n",
       "      <td>45.0</td>\n",
       "      <td>170.0</td>\n",
       "      <td>1.0010</td>\n",
       "      <td>0.45</td>\n",
       "      <td>8.8</td>\n",
       "      <td>white</td>\n",
       "      <td>very acidic</td>\n",
       "      <td>normal</td>\n",
       "    </tr>\n",
       "    <tr>\n",
       "      <th>1</th>\n",
       "      <td>6.3</td>\n",
       "      <td>0.30</td>\n",
       "      <td>0.34</td>\n",
       "      <td>1.6</td>\n",
       "      <td>0.049</td>\n",
       "      <td>14.0</td>\n",
       "      <td>132.0</td>\n",
       "      <td>0.9940</td>\n",
       "      <td>0.49</td>\n",
       "      <td>9.5</td>\n",
       "      <td>white</td>\n",
       "      <td>quite acidic</td>\n",
       "      <td>normal</td>\n",
       "    </tr>\n",
       "    <tr>\n",
       "      <th>2</th>\n",
       "      <td>8.1</td>\n",
       "      <td>0.28</td>\n",
       "      <td>0.40</td>\n",
       "      <td>6.9</td>\n",
       "      <td>0.050</td>\n",
       "      <td>30.0</td>\n",
       "      <td>97.0</td>\n",
       "      <td>0.9951</td>\n",
       "      <td>0.44</td>\n",
       "      <td>10.1</td>\n",
       "      <td>white</td>\n",
       "      <td>quite acidic</td>\n",
       "      <td>normal</td>\n",
       "    </tr>\n",
       "    <tr>\n",
       "      <th>3</th>\n",
       "      <td>7.2</td>\n",
       "      <td>0.23</td>\n",
       "      <td>0.32</td>\n",
       "      <td>8.5</td>\n",
       "      <td>0.058</td>\n",
       "      <td>47.0</td>\n",
       "      <td>186.0</td>\n",
       "      <td>0.9956</td>\n",
       "      <td>0.40</td>\n",
       "      <td>9.9</td>\n",
       "      <td>white</td>\n",
       "      <td>very acidic</td>\n",
       "      <td>normal</td>\n",
       "    </tr>\n",
       "    <tr>\n",
       "      <th>4</th>\n",
       "      <td>7.2</td>\n",
       "      <td>0.23</td>\n",
       "      <td>0.32</td>\n",
       "      <td>8.5</td>\n",
       "      <td>0.058</td>\n",
       "      <td>47.0</td>\n",
       "      <td>186.0</td>\n",
       "      <td>0.9956</td>\n",
       "      <td>0.40</td>\n",
       "      <td>9.9</td>\n",
       "      <td>white</td>\n",
       "      <td>very acidic</td>\n",
       "      <td>normal</td>\n",
       "    </tr>\n",
       "  </tbody>\n",
       "</table>\n",
       "</div>"
      ],
      "text/plain": [
       "   fixed acidity  volatile acidity  citric acid  residual sugar  chlorides  \\\n",
       "0            7.0              0.27         0.36            20.7      0.045   \n",
       "1            6.3              0.30         0.34             1.6      0.049   \n",
       "2            8.1              0.28         0.40             6.9      0.050   \n",
       "3            7.2              0.23         0.32             8.5      0.058   \n",
       "4            7.2              0.23         0.32             8.5      0.058   \n",
       "\n",
       "   free sulfur dioxide  total sulfur dioxide  density  sulphates  alcohol  \\\n",
       "0                 45.0                 170.0   1.0010       0.45      8.8   \n",
       "1                 14.0                 132.0   0.9940       0.49      9.5   \n",
       "2                 30.0                  97.0   0.9951       0.44     10.1   \n",
       "3                 47.0                 186.0   0.9956       0.40      9.9   \n",
       "4                 47.0                 186.0   0.9956       0.40      9.9   \n",
       "\n",
       "    type       pHValue   taste  \n",
       "0  white   very acidic  normal  \n",
       "1  white  quite acidic  normal  \n",
       "2  white  quite acidic  normal  \n",
       "3  white   very acidic  normal  \n",
       "4  white   very acidic  normal  "
      ]
     },
     "execution_count": 4,
     "metadata": {},
     "output_type": "execute_result"
    }
   ],
   "source": [
    "df = pd.read_csv(\"wine-tasting.csv\")\n",
    "df.head()"
   ]
  },
  {
   "cell_type": "code",
   "execution_count": 5,
   "metadata": {},
   "outputs": [
    {
     "data": {
      "text/plain": [
       "(6498, 13)"
      ]
     },
     "execution_count": 5,
     "metadata": {},
     "output_type": "execute_result"
    }
   ],
   "source": [
    "df.shape"
   ]
  },
  {
   "cell_type": "code",
   "execution_count": 6,
   "metadata": {},
   "outputs": [
    {
     "data": {
      "text/plain": [
       "<AxesSubplot:xlabel='taste', ylabel='count'>"
      ]
     },
     "execution_count": 6,
     "metadata": {},
     "output_type": "execute_result"
    },
    {
     "data": {
      "image/png": "[encoded data removed]",
      "text/plain": [
       "<Figure size 432x288 with 1 Axes>"
      ]
     },
     "metadata": {
      "needs_background": "light"
     },
     "output_type": "display_data"
    }
   ],
   "source": [
    "sns.countplot(x='taste',data=df)"
   ]
  },
  {
   "cell_type": "code",
   "execution_count": 7,
   "metadata": {},
   "outputs": [
    {
     "data": {
      "text/plain": [
       "<AxesSubplot:xlabel='taste', ylabel='count'>"
      ]
     },
     "execution_count": 7,
     "metadata": {},
     "output_type": "execute_result"
    },
    {
     "data": {
      "image/png": "[encoded data removed]",
      "text/plain": [
       "<Figure size 432x288 with 1 Axes>"
      ]
     },
     "metadata": {
      "needs_background": "light"
     },
     "output_type": "display_data"
    }
   ],
   "source": [
    "sns.countplot(x='taste', hue='type', data=df)"
   ]
  },
  {
   "cell_type": "markdown",
   "metadata": {},
   "source": [
    "### Your task in this Project is to build the best predictive model to predict if a wine will be of good taste (ie we do not care if it is normal or bad taste, just good vs not good taste)"
   ]
  },
  {
   "cell_type": "markdown",
   "metadata": {},
   "source": [
    "***You should follow the usual best practice in building models such as***"
   ]
  },
  {
   "cell_type": "markdown",
   "metadata": {},
   "source": [
    "* EDA (chekcing missing values, removing outliers)\n",
    "* performed basic exploration of relationship, with plots and graphs\n",
    "* separated data set into training and testing\n",
    "* setup dummy variables to take care categorical variables\n",
    "* normalize numerical features if needed\n",
    "* tried at least two models and checked their model performance\n",
    "* performed cross-validations"
   ]
  },
  {
   "cell_type": "markdown",
   "metadata": {},
   "source": [
    "***You should have also done the following***"
   ]
  },
  {
   "cell_type": "markdown",
   "metadata": {},
   "source": [
    "* Try at least 3 models you have learned in class such as Logistic, Decision Tree, Random Forecast.\n",
    "* Compare the sklearn Decision Tree with your own Decision Tree implementation results\n",
    "* Include at least one ensemble models\n",
    "* Identify out of all those you have tried, which one is the best model."
   ]
  },
  {
   "cell_type": "markdown",
   "metadata": {},
   "source": [
    "***And answer the following questions based on what you observe from your model building process***"
   ]
  },
  {
   "cell_type": "markdown",
   "metadata": {},
   "source": [
    "* For the best fitted model, does it work better for the Red wine or White wine or similar\n",
    "* Can ensemble methods improve your models?\n",
    "* Whether the categorical variable pH Value is important or not. If it is important, and you need to make a prediction for one instance where the pH value is missing, how would you proceed?"
   ]
  },
  {
   "cell_type": "markdown",
   "metadata": {},
   "source": [
    "### EDA"
   ]
  },
  {
   "cell_type": "code",
   "execution_count": 8,
   "metadata": {},
   "outputs": [
    {
     "data": {
      "text/plain": [
       "fixed acidity            True\n",
       "volatile acidity        False\n",
       "citric acid             False\n",
       "residual sugar          False\n",
       "chlorides               False\n",
       "free sulfur dioxide     False\n",
       "total sulfur dioxide    False\n",
       "density                 False\n",
       "sulphates               False\n",
       "alcohol                 False\n",
       "type                    False\n",
       "pHValue                 False\n",
       "taste                   False\n",
       "dtype: bool"
      ]
     },
     "execution_count": 8,
     "metadata": {},
     "output_type": "execute_result"
    }
   ],
   "source": [
    "df.isnull().any()"
   ]
  },
  {
   "cell_type": "code",
   "execution_count": 9,
   "metadata": {},
   "outputs": [],
   "source": [
    "var = \"fixed acidity\""
   ]
  },
  {
   "cell_type": "code",
   "execution_count": 10,
   "metadata": {},
   "outputs": [
    {
     "data": {
      "text/plain": [
       "<AxesSubplot:ylabel='fixed acidity'>"
      ]
     },
     "execution_count": 10,
     "metadata": {},
     "output_type": "execute_result"
    },
    {
     "data": {
      "image/png": "[encoded data removed]",
      "text/plain": [
       "<Figure size 432x288 with 1 Axes>"
      ]
     },
     "metadata": {
      "needs_background": "light"
     },
     "output_type": "display_data"
    }
   ],
   "source": [
    "sns.boxplot(y=df[var])"
   ]
  },
  {
   "cell_type": "markdown",
   "metadata": {},
   "source": [
    "#### Instead of removing the null values entirely, I decided to replace them with the median from the fixed acidity column \n",
    "#### I avoided replacement with the mean to consider the outlier present within the values."
   ]
  },
  {
   "cell_type": "code",
   "execution_count": 11,
   "metadata": {},
   "outputs": [
    {
     "data": {
      "text/plain": [
       "fixed acidity           False\n",
       "volatile acidity        False\n",
       "citric acid             False\n",
       "residual sugar          False\n",
       "chlorides               False\n",
       "free sulfur dioxide     False\n",
       "total sulfur dioxide    False\n",
       "density                 False\n",
       "sulphates               False\n",
       "alcohol                 False\n",
       "type                    False\n",
       "pHValue                 False\n",
       "taste                   False\n",
       "dtype: bool"
      ]
     },
     "execution_count": 11,
     "metadata": {},
     "output_type": "execute_result"
    }
   ],
   "source": [
    "nullToMedium = df[var].fillna(df[var].median())\n",
    "df[var] = nullToMedium\n",
    "\n",
    "df.isnull().any()"
   ]
  },
  {
   "cell_type": "code",
   "execution_count": 12,
   "metadata": {},
   "outputs": [
    {
     "data": {
      "text/plain": [
       "(6498, 13)"
      ]
     },
     "execution_count": 12,
     "metadata": {},
     "output_type": "execute_result"
    }
   ],
   "source": [
    "df.shape"
   ]
  },
  {
   "cell_type": "code",
   "execution_count": 13,
   "metadata": {
    "scrolled": true
   },
   "outputs": [
    {
     "data": {
      "text/plain": [
       "<AxesSubplot:ylabel='free sulfur dioxide'>"
      ]
     },
     "execution_count": 13,
     "metadata": {},
     "output_type": "execute_result"
    },
    {
     "data": {
      "image/png": "[encoded data removed]",
      "text/plain": [
       "<Figure size 432x288 with 1 Axes>"
      ]
     },
     "metadata": {
      "needs_background": "light"
     },
     "output_type": "display_data"
    }
   ],
   "source": [
    "var = \"free sulfur dioxide\"\n",
    "sns.boxplot(y=df[var])"
   ]
  },
  {
   "cell_type": "markdown",
   "metadata": {},
   "source": [
    "#### Notable outlier above 250"
   ]
  },
  {
   "cell_type": "code",
   "execution_count": 14,
   "metadata": {},
   "outputs": [
    {
     "data": {
      "text/plain": [
       "<AxesSubplot:ylabel='free sulfur dioxide'>"
      ]
     },
     "execution_count": 14,
     "metadata": {},
     "output_type": "execute_result"
    },
    {
     "data": {
      "image/png": "[encoded data removed]",
      "text/plain": [
       "<Figure size 432x288 with 1 Axes>"
      ]
     },
     "metadata": {
      "needs_background": "light"
     },
     "output_type": "display_data"
    }
   ],
   "source": [
    "df = df[df[var] <= 250]\n",
    "sns.boxplot(y=df[var])"
   ]
  },
  {
   "cell_type": "code",
   "execution_count": 15,
   "metadata": {},
   "outputs": [
    {
     "data": {
      "text/plain": [
       "<AxesSubplot:ylabel='density'>"
      ]
     },
     "execution_count": 15,
     "metadata": {},
     "output_type": "execute_result"
    },
    {
     "data": {
      "image/png": "[encoded data removed]",
      "text/plain": [
       "<Figure size 432x288 with 1 Axes>"
      ]
     },
     "metadata": {
      "needs_background": "light"
     },
     "output_type": "display_data"
    }
   ],
   "source": [
    "var = \"density\"\n",
    "sns.boxplot(y=df[var])"
   ]
  },
  {
   "cell_type": "markdown",
   "metadata": {},
   "source": [
    "#### Notable outlier past 10"
   ]
  },
  {
   "cell_type": "code",
   "execution_count": 16,
   "metadata": {},
   "outputs": [
    {
     "data": {
      "text/plain": [
       "<AxesSubplot:ylabel='density'>"
      ]
     },
     "execution_count": 16,
     "metadata": {},
     "output_type": "execute_result"
    },
    {
     "data": {
      "image/png": "[encoded data removed]",
      "text/plain": [
       "<Figure size 432x288 with 1 Axes>"
      ]
     },
     "metadata": {
      "needs_background": "light"
     },
     "output_type": "display_data"
    }
   ],
   "source": [
    "#Outlier has a noticably high density.\n",
    "df = df[df[var] <= 10]\n",
    "sns.boxplot(y=df[var])"
   ]
  },
  {
   "cell_type": "code",
   "execution_count": 17,
   "metadata": {},
   "outputs": [
    {
     "data": {
      "text/html": [
       "<div>\n",
       "<style scoped>\n",
       "    .dataframe tbody tr th:only-of-type {\n",
       "        vertical-align: middle;\n",
       "    }\n",
       "\n",
       "    .dataframe tbody tr th {\n",
       "        vertical-align: top;\n",
       "    }\n",
       "\n",
       "    .dataframe thead th {\n",
       "        text-align: right;\n",
       "    }\n",
       "</style>\n",
       "<table border=\"1\" class=\"dataframe\">\n",
       "  <thead>\n",
       "    <tr style=\"text-align: right;\">\n",
       "      <th></th>\n",
       "      <th>index</th>\n",
       "      <th>fixed acidity</th>\n",
       "      <th>volatile acidity</th>\n",
       "      <th>citric acid</th>\n",
       "      <th>residual sugar</th>\n",
       "      <th>chlorides</th>\n",
       "      <th>free sulfur dioxide</th>\n",
       "      <th>total sulfur dioxide</th>\n",
       "      <th>density</th>\n",
       "      <th>sulphates</th>\n",
       "      <th>alcohol</th>\n",
       "      <th>type</th>\n",
       "      <th>pHValue</th>\n",
       "      <th>taste</th>\n",
       "    </tr>\n",
       "  </thead>\n",
       "  <tbody>\n",
       "    <tr>\n",
       "      <th>0</th>\n",
       "      <td>0</td>\n",
       "      <td>7.0</td>\n",
       "      <td>0.270</td>\n",
       "      <td>0.36</td>\n",
       "      <td>20.7</td>\n",
       "      <td>0.045</td>\n",
       "      <td>45.0</td>\n",
       "      <td>170.0</td>\n",
       "      <td>1.00100</td>\n",
       "      <td>0.45</td>\n",
       "      <td>8.8</td>\n",
       "      <td>white</td>\n",
       "      <td>very acidic</td>\n",
       "      <td>normal</td>\n",
       "    </tr>\n",
       "    <tr>\n",
       "      <th>1</th>\n",
       "      <td>1</td>\n",
       "      <td>6.3</td>\n",
       "      <td>0.300</td>\n",
       "      <td>0.34</td>\n",
       "      <td>1.6</td>\n",
       "      <td>0.049</td>\n",
       "      <td>14.0</td>\n",
       "      <td>132.0</td>\n",
       "      <td>0.99400</td>\n",
       "      <td>0.49</td>\n",
       "      <td>9.5</td>\n",
       "      <td>white</td>\n",
       "      <td>quite acidic</td>\n",
       "      <td>normal</td>\n",
       "    </tr>\n",
       "    <tr>\n",
       "      <th>2</th>\n",
       "      <td>2</td>\n",
       "      <td>8.1</td>\n",
       "      <td>0.280</td>\n",
       "      <td>0.40</td>\n",
       "      <td>6.9</td>\n",
       "      <td>0.050</td>\n",
       "      <td>30.0</td>\n",
       "      <td>97.0</td>\n",
       "      <td>0.99510</td>\n",
       "      <td>0.44</td>\n",
       "      <td>10.1</td>\n",
       "      <td>white</td>\n",
       "      <td>quite acidic</td>\n",
       "      <td>normal</td>\n",
       "    </tr>\n",
       "    <tr>\n",
       "      <th>3</th>\n",
       "      <td>3</td>\n",
       "      <td>7.2</td>\n",
       "      <td>0.230</td>\n",
       "      <td>0.32</td>\n",
       "      <td>8.5</td>\n",
       "      <td>0.058</td>\n",
       "      <td>47.0</td>\n",
       "      <td>186.0</td>\n",
       "      <td>0.99560</td>\n",
       "      <td>0.40</td>\n",
       "      <td>9.9</td>\n",
       "      <td>white</td>\n",
       "      <td>very acidic</td>\n",
       "      <td>normal</td>\n",
       "    </tr>\n",
       "    <tr>\n",
       "      <th>4</th>\n",
       "      <td>4</td>\n",
       "      <td>7.2</td>\n",
       "      <td>0.230</td>\n",
       "      <td>0.32</td>\n",
       "      <td>8.5</td>\n",
       "      <td>0.058</td>\n",
       "      <td>47.0</td>\n",
       "      <td>186.0</td>\n",
       "      <td>0.99560</td>\n",
       "      <td>0.40</td>\n",
       "      <td>9.9</td>\n",
       "      <td>white</td>\n",
       "      <td>very acidic</td>\n",
       "      <td>normal</td>\n",
       "    </tr>\n",
       "    <tr>\n",
       "      <th>...</th>\n",
       "      <td>...</td>\n",
       "      <td>...</td>\n",
       "      <td>...</td>\n",
       "      <td>...</td>\n",
       "      <td>...</td>\n",
       "      <td>...</td>\n",
       "      <td>...</td>\n",
       "      <td>...</td>\n",
       "      <td>...</td>\n",
       "      <td>...</td>\n",
       "      <td>...</td>\n",
       "      <td>...</td>\n",
       "      <td>...</td>\n",
       "      <td>...</td>\n",
       "    </tr>\n",
       "    <tr>\n",
       "      <th>6491</th>\n",
       "      <td>6493</td>\n",
       "      <td>6.2</td>\n",
       "      <td>0.600</td>\n",
       "      <td>0.08</td>\n",
       "      <td>2.0</td>\n",
       "      <td>0.090</td>\n",
       "      <td>32.0</td>\n",
       "      <td>44.0</td>\n",
       "      <td>0.99490</td>\n",
       "      <td>0.58</td>\n",
       "      <td>10.5</td>\n",
       "      <td>red</td>\n",
       "      <td>midly acidic</td>\n",
       "      <td>bad</td>\n",
       "    </tr>\n",
       "    <tr>\n",
       "      <th>6492</th>\n",
       "      <td>6494</td>\n",
       "      <td>5.9</td>\n",
       "      <td>0.550</td>\n",
       "      <td>0.10</td>\n",
       "      <td>2.2</td>\n",
       "      <td>0.062</td>\n",
       "      <td>39.0</td>\n",
       "      <td>51.0</td>\n",
       "      <td>0.99512</td>\n",
       "      <td>0.76</td>\n",
       "      <td>11.2</td>\n",
       "      <td>red</td>\n",
       "      <td>midly acidic</td>\n",
       "      <td>normal</td>\n",
       "    </tr>\n",
       "    <tr>\n",
       "      <th>6493</th>\n",
       "      <td>6495</td>\n",
       "      <td>6.3</td>\n",
       "      <td>0.510</td>\n",
       "      <td>0.13</td>\n",
       "      <td>2.3</td>\n",
       "      <td>0.076</td>\n",
       "      <td>29.0</td>\n",
       "      <td>40.0</td>\n",
       "      <td>0.99574</td>\n",
       "      <td>0.75</td>\n",
       "      <td>11.0</td>\n",
       "      <td>red</td>\n",
       "      <td>midly acidic</td>\n",
       "      <td>normal</td>\n",
       "    </tr>\n",
       "    <tr>\n",
       "      <th>6494</th>\n",
       "      <td>6496</td>\n",
       "      <td>5.9</td>\n",
       "      <td>0.645</td>\n",
       "      <td>0.12</td>\n",
       "      <td>2.0</td>\n",
       "      <td>0.075</td>\n",
       "      <td>32.0</td>\n",
       "      <td>44.0</td>\n",
       "      <td>0.99547</td>\n",
       "      <td>0.71</td>\n",
       "      <td>10.2</td>\n",
       "      <td>red</td>\n",
       "      <td>midly acidic</td>\n",
       "      <td>bad</td>\n",
       "    </tr>\n",
       "    <tr>\n",
       "      <th>6495</th>\n",
       "      <td>6497</td>\n",
       "      <td>6.0</td>\n",
       "      <td>0.310</td>\n",
       "      <td>0.47</td>\n",
       "      <td>3.6</td>\n",
       "      <td>0.067</td>\n",
       "      <td>18.0</td>\n",
       "      <td>42.0</td>\n",
       "      <td>0.99549</td>\n",
       "      <td>0.66</td>\n",
       "      <td>11.0</td>\n",
       "      <td>red</td>\n",
       "      <td>quite acidic</td>\n",
       "      <td>normal</td>\n",
       "    </tr>\n",
       "  </tbody>\n",
       "</table>\n",
       "<p>6496 rows × 14 columns</p>\n",
       "</div>"
      ],
      "text/plain": [
       "      index  fixed acidity  volatile acidity  citric acid  residual sugar  \\\n",
       "0         0            7.0             0.270         0.36            20.7   \n",
       "1         1            6.3             0.300         0.34             1.6   \n",
       "2         2            8.1             0.280         0.40             6.9   \n",
       "3         3            7.2             0.230         0.32             8.5   \n",
       "4         4            7.2             0.230         0.32             8.5   \n",
       "...     ...            ...               ...          ...             ...   \n",
       "6491   6493            6.2             0.600         0.08             2.0   \n",
       "6492   6494            5.9             0.550         0.10             2.2   \n",
       "6493   6495            6.3             0.510         0.13             2.3   \n",
       "6494   6496            5.9             0.645         0.12             2.0   \n",
       "6495   6497            6.0             0.310         0.47             3.6   \n",
       "\n",
       "      chlorides  free sulfur dioxide  total sulfur dioxide  density  \\\n",
       "0         0.045                 45.0                 170.0  1.00100   \n",
       "1         0.049                 14.0                 132.0  0.99400   \n",
       "2         0.050                 30.0                  97.0  0.99510   \n",
       "3         0.058                 47.0                 186.0  0.99560   \n",
       "4         0.058                 47.0                 186.0  0.99560   \n",
       "...         ...                  ...                   ...      ...   \n",
       "6491      0.090                 32.0                  44.0  0.99490   \n",
       "6492      0.062                 39.0                  51.0  0.99512   \n",
       "6493      0.076                 29.0                  40.0  0.99574   \n",
       "6494      0.075                 32.0                  44.0  0.99547   \n",
       "6495      0.067                 18.0                  42.0  0.99549   \n",
       "\n",
       "      sulphates  alcohol   type       pHValue   taste  \n",
       "0          0.45      8.8  white   very acidic  normal  \n",
       "1          0.49      9.5  white  quite acidic  normal  \n",
       "2          0.44     10.1  white  quite acidic  normal  \n",
       "3          0.40      9.9  white   very acidic  normal  \n",
       "4          0.40      9.9  white   very acidic  normal  \n",
       "...         ...      ...    ...           ...     ...  \n",
       "6491       0.58     10.5    red  midly acidic     bad  \n",
       "6492       0.76     11.2    red  midly acidic  normal  \n",
       "6493       0.75     11.0    red  midly acidic  normal  \n",
       "6494       0.71     10.2    red  midly acidic     bad  \n",
       "6495       0.66     11.0    red  quite acidic  normal  \n",
       "\n",
       "[6496 rows x 14 columns]"
      ]
     },
     "execution_count": 17,
     "metadata": {},
     "output_type": "execute_result"
    }
   ],
   "source": [
    "df.reset_index()"
   ]
  },
  {
   "cell_type": "markdown",
   "metadata": {},
   "source": [
    "### Relationships"
   ]
  },
  {
   "cell_type": "code",
   "execution_count": 18,
   "metadata": {},
   "outputs": [
    {
     "data": {
      "text/html": [
       "<div>\n",
       "<style scoped>\n",
       "    .dataframe tbody tr th:only-of-type {\n",
       "        vertical-align: middle;\n",
       "    }\n",
       "\n",
       "    .dataframe tbody tr th {\n",
       "        vertical-align: top;\n",
       "    }\n",
       "\n",
       "    .dataframe thead th {\n",
       "        text-align: right;\n",
       "    }\n",
       "</style>\n",
       "<table border=\"1\" class=\"dataframe\">\n",
       "  <thead>\n",
       "    <tr style=\"text-align: right;\">\n",
       "      <th></th>\n",
       "      <th>fixed acidity</th>\n",
       "      <th>volatile acidity</th>\n",
       "      <th>citric acid</th>\n",
       "      <th>residual sugar</th>\n",
       "      <th>chlorides</th>\n",
       "      <th>free sulfur dioxide</th>\n",
       "      <th>total sulfur dioxide</th>\n",
       "      <th>density</th>\n",
       "      <th>sulphates</th>\n",
       "      <th>alcohol</th>\n",
       "    </tr>\n",
       "  </thead>\n",
       "  <tbody>\n",
       "    <tr>\n",
       "      <th>fixed acidity</th>\n",
       "      <td>1.000000</td>\n",
       "      <td>0.218950</td>\n",
       "      <td>0.324327</td>\n",
       "      <td>-0.114343</td>\n",
       "      <td>0.298125</td>\n",
       "      <td>-0.285453</td>\n",
       "      <td>-0.329225</td>\n",
       "      <td>0.465708</td>\n",
       "      <td>0.299656</td>\n",
       "      <td>-0.095557</td>\n",
       "    </tr>\n",
       "    <tr>\n",
       "      <th>volatile acidity</th>\n",
       "      <td>0.218950</td>\n",
       "      <td>1.000000</td>\n",
       "      <td>-0.379715</td>\n",
       "      <td>-0.206219</td>\n",
       "      <td>0.377185</td>\n",
       "      <td>-0.357008</td>\n",
       "      <td>-0.416053</td>\n",
       "      <td>0.267487</td>\n",
       "      <td>0.225728</td>\n",
       "      <td>-0.038375</td>\n",
       "    </tr>\n",
       "    <tr>\n",
       "      <th>citric acid</th>\n",
       "      <td>0.324327</td>\n",
       "      <td>-0.379715</td>\n",
       "      <td>1.000000</td>\n",
       "      <td>0.140320</td>\n",
       "      <td>0.038917</td>\n",
       "      <td>0.136800</td>\n",
       "      <td>0.195998</td>\n",
       "      <td>0.093138</td>\n",
       "      <td>0.055864</td>\n",
       "      <td>-0.010567</td>\n",
       "    </tr>\n",
       "    <tr>\n",
       "      <th>residual sugar</th>\n",
       "      <td>-0.114343</td>\n",
       "      <td>-0.206219</td>\n",
       "      <td>0.140320</td>\n",
       "      <td>1.000000</td>\n",
       "      <td>-0.131683</td>\n",
       "      <td>0.418665</td>\n",
       "      <td>0.501932</td>\n",
       "      <td>0.539461</td>\n",
       "      <td>-0.190243</td>\n",
       "      <td>-0.366105</td>\n",
       "    </tr>\n",
       "    <tr>\n",
       "      <th>chlorides</th>\n",
       "      <td>0.298125</td>\n",
       "      <td>0.377185</td>\n",
       "      <td>0.038917</td>\n",
       "      <td>-0.131683</td>\n",
       "      <td>1.000000</td>\n",
       "      <td>-0.197695</td>\n",
       "      <td>-0.280172</td>\n",
       "      <td>0.367450</td>\n",
       "      <td>0.395489</td>\n",
       "      <td>-0.256735</td>\n",
       "    </tr>\n",
       "    <tr>\n",
       "      <th>free sulfur dioxide</th>\n",
       "      <td>-0.285453</td>\n",
       "      <td>-0.357008</td>\n",
       "      <td>0.136800</td>\n",
       "      <td>0.418665</td>\n",
       "      <td>-0.197695</td>\n",
       "      <td>1.000000</td>\n",
       "      <td>0.722007</td>\n",
       "      <td>0.030898</td>\n",
       "      <td>-0.193040</td>\n",
       "      <td>-0.182806</td>\n",
       "    </tr>\n",
       "    <tr>\n",
       "      <th>total sulfur dioxide</th>\n",
       "      <td>-0.329225</td>\n",
       "      <td>-0.416053</td>\n",
       "      <td>0.195998</td>\n",
       "      <td>0.501932</td>\n",
       "      <td>-0.280172</td>\n",
       "      <td>0.722007</td>\n",
       "      <td>1.000000</td>\n",
       "      <td>0.031655</td>\n",
       "      <td>-0.277256</td>\n",
       "      <td>-0.266462</td>\n",
       "    </tr>\n",
       "    <tr>\n",
       "      <th>density</th>\n",
       "      <td>0.465708</td>\n",
       "      <td>0.267487</td>\n",
       "      <td>0.093138</td>\n",
       "      <td>0.539461</td>\n",
       "      <td>0.367450</td>\n",
       "      <td>0.030898</td>\n",
       "      <td>0.031655</td>\n",
       "      <td>1.000000</td>\n",
       "      <td>0.261691</td>\n",
       "      <td>-0.701099</td>\n",
       "    </tr>\n",
       "    <tr>\n",
       "      <th>sulphates</th>\n",
       "      <td>0.299656</td>\n",
       "      <td>0.225728</td>\n",
       "      <td>0.055864</td>\n",
       "      <td>-0.190243</td>\n",
       "      <td>0.395489</td>\n",
       "      <td>-0.193040</td>\n",
       "      <td>-0.277256</td>\n",
       "      <td>0.261691</td>\n",
       "      <td>1.000000</td>\n",
       "      <td>-0.003419</td>\n",
       "    </tr>\n",
       "    <tr>\n",
       "      <th>alcohol</th>\n",
       "      <td>-0.095557</td>\n",
       "      <td>-0.038375</td>\n",
       "      <td>-0.010567</td>\n",
       "      <td>-0.366105</td>\n",
       "      <td>-0.256735</td>\n",
       "      <td>-0.182806</td>\n",
       "      <td>-0.266462</td>\n",
       "      <td>-0.701099</td>\n",
       "      <td>-0.003419</td>\n",
       "      <td>1.000000</td>\n",
       "    </tr>\n",
       "  </tbody>\n",
       "</table>\n",
       "</div>"
      ],
      "text/plain": [
       "                      fixed acidity  volatile acidity  citric acid  \\\n",
       "fixed acidity              1.000000          0.218950     0.324327   \n",
       "volatile acidity           0.218950          1.000000    -0.379715   \n",
       "citric acid                0.324327         -0.379715     1.000000   \n",
       "residual sugar            -0.114343         -0.206219     0.140320   \n",
       "chlorides                  0.298125          0.377185     0.038917   \n",
       "free sulfur dioxide       -0.285453         -0.357008     0.136800   \n",
       "total sulfur dioxide      -0.329225         -0.416053     0.195998   \n",
       "density                    0.465708          0.267487     0.093138   \n",
       "sulphates                  0.299656          0.225728     0.055864   \n",
       "alcohol                   -0.095557         -0.038375    -0.010567   \n",
       "\n",
       "                      residual sugar  chlorides  free sulfur dioxide  \\\n",
       "fixed acidity              -0.114343   0.298125            -0.285453   \n",
       "volatile acidity           -0.206219   0.377185            -0.357008   \n",
       "citric acid                 0.140320   0.038917             0.136800   \n",
       "residual sugar              1.000000  -0.131683             0.418665   \n",
       "chlorides                  -0.131683   1.000000            -0.197695   \n",
       "free sulfur dioxide         0.418665  -0.197695             1.000000   \n",
       "total sulfur dioxide        0.501932  -0.280172             0.722007   \n",
       "density                     0.539461   0.367450             0.030898   \n",
       "sulphates                  -0.190243   0.395489            -0.193040   \n",
       "alcohol                    -0.366105  -0.256735            -0.182806   \n",
       "\n",
       "                      total sulfur dioxide   density  sulphates   alcohol  \n",
       "fixed acidity                    -0.329225  0.465708   0.299656 -0.095557  \n",
       "volatile acidity                 -0.416053  0.267487   0.225728 -0.038375  \n",
       "citric acid                       0.195998  0.093138   0.055864 -0.010567  \n",
       "residual sugar                    0.501932  0.539461  -0.190243 -0.366105  \n",
       "chlorides                        -0.280172  0.367450   0.395489 -0.256735  \n",
       "free sulfur dioxide               0.722007  0.030898  -0.193040 -0.182806  \n",
       "total sulfur dioxide              1.000000  0.031655  -0.277256 -0.266462  \n",
       "density                           0.031655  1.000000   0.261691 -0.701099  \n",
       "sulphates                        -0.277256  0.261691   1.000000 -0.003419  \n",
       "alcohol                          -0.266462 -0.701099  -0.003419  1.000000  "
      ]
     },
     "execution_count": 18,
     "metadata": {},
     "output_type": "execute_result"
    }
   ],
   "source": [
    "df.corr()\n",
    "#total sulfar dioxide and free sulfar dioxide has the second biggest but is the highest positive correlation\n",
    "#density seems to have the second biggest correlation with alcohol and it is the biggest negative correlation"
   ]
  },
  {
   "cell_type": "code",
   "execution_count": 19,
   "metadata": {},
   "outputs": [
    {
     "data": {
      "text/plain": [
       "<AxesSubplot:xlabel='taste', ylabel='count'>"
      ]
     },
     "execution_count": 19,
     "metadata": {},
     "output_type": "execute_result"
    },
    {
     "data": {
      "image/png": "[encoded data removed]",
      "text/plain": [
       "<Figure size 432x288 with 1 Axes>"
      ]
     },
     "metadata": {
      "needs_background": "light"
     },
     "output_type": "display_data"
    }
   ],
   "source": [
    "sns.countplot(x='taste', hue='pHValue', data=df)"
   ]
  },
  {
   "cell_type": "code",
   "execution_count": 20,
   "metadata": {},
   "outputs": [
    {
     "data": {
      "text/plain": [
       "<AxesSubplot:xlabel='type', ylabel='count'>"
      ]
     },
     "execution_count": 20,
     "metadata": {},
     "output_type": "execute_result"
    },
    {
     "data": {
      "image/png": "[encoded data removed]",
      "text/plain": [
       "<Figure size 432x288 with 1 Axes>"
      ]
     },
     "metadata": {
      "needs_background": "light"
     },
     "output_type": "display_data"
    }
   ],
   "source": [
    "sns.countplot(x='type', hue='taste', data=df)"
   ]
  },
  {
   "cell_type": "markdown",
   "metadata": {},
   "source": [
    "### Making the full dataframe by encoding categorical variables "
   ]
  },
  {
   "cell_type": "code",
   "execution_count": 21,
   "metadata": {},
   "outputs": [
    {
     "data": {
      "text/plain": [
       "(6496, 10)"
      ]
     },
     "execution_count": 21,
     "metadata": {},
     "output_type": "execute_result"
    }
   ],
   "source": [
    "categorical_features = ['type', 'pHValue', 'taste']\n",
    "numerical_features = ['fixed acidity', 'volatile acidity', \n",
    "                      'citric acid', 'residual sugar', 'chlorides', \n",
    "                      'free sulfur dioxide', 'total sulfur dioxide', \n",
    "                      'density', 'sulphates', 'alcohol']\n",
    "\n",
    "numerical_df = df[numerical_features]\n",
    "numerical_df.shape"
   ]
  },
  {
   "cell_type": "markdown",
   "metadata": {},
   "source": [
    "#### I've decided to normalize the values. I though that some columns (free/total sulfar dioxide, for example) had noticeably large values compared to the other columns."
   ]
  },
  {
   "cell_type": "code",
   "execution_count": 22,
   "metadata": {},
   "outputs": [
    {
     "data": {
      "text/html": [
       "<div>\n",
       "<style scoped>\n",
       "    .dataframe tbody tr th:only-of-type {\n",
       "        vertical-align: middle;\n",
       "    }\n",
       "\n",
       "    .dataframe tbody tr th {\n",
       "        vertical-align: top;\n",
       "    }\n",
       "\n",
       "    .dataframe thead th {\n",
       "        text-align: right;\n",
       "    }\n",
       "</style>\n",
       "<table border=\"1\" class=\"dataframe\">\n",
       "  <thead>\n",
       "    <tr style=\"text-align: right;\">\n",
       "      <th></th>\n",
       "      <th>fixed acidity</th>\n",
       "      <th>volatile acidity</th>\n",
       "      <th>citric acid</th>\n",
       "      <th>residual sugar</th>\n",
       "      <th>chlorides</th>\n",
       "      <th>free sulfur dioxide</th>\n",
       "      <th>total sulfur dioxide</th>\n",
       "      <th>density</th>\n",
       "      <th>sulphates</th>\n",
       "      <th>alcohol</th>\n",
       "    </tr>\n",
       "  </thead>\n",
       "  <tbody>\n",
       "    <tr>\n",
       "      <th>0</th>\n",
       "      <td>0.264463</td>\n",
       "      <td>0.126667</td>\n",
       "      <td>0.216867</td>\n",
       "      <td>0.648387</td>\n",
       "      <td>0.059801</td>\n",
       "      <td>0.302405</td>\n",
       "      <td>0.454924</td>\n",
       "      <td>0.598965</td>\n",
       "      <td>0.129213</td>\n",
       "      <td>0.115942</td>\n",
       "    </tr>\n",
       "    <tr>\n",
       "      <th>1</th>\n",
       "      <td>0.206612</td>\n",
       "      <td>0.146667</td>\n",
       "      <td>0.204819</td>\n",
       "      <td>0.032258</td>\n",
       "      <td>0.066445</td>\n",
       "      <td>0.089347</td>\n",
       "      <td>0.349515</td>\n",
       "      <td>0.297111</td>\n",
       "      <td>0.151685</td>\n",
       "      <td>0.217391</td>\n",
       "    </tr>\n",
       "    <tr>\n",
       "      <th>2</th>\n",
       "      <td>0.355372</td>\n",
       "      <td>0.133333</td>\n",
       "      <td>0.240964</td>\n",
       "      <td>0.203226</td>\n",
       "      <td>0.068106</td>\n",
       "      <td>0.199313</td>\n",
       "      <td>0.252427</td>\n",
       "      <td>0.344545</td>\n",
       "      <td>0.123596</td>\n",
       "      <td>0.304348</td>\n",
       "    </tr>\n",
       "    <tr>\n",
       "      <th>3</th>\n",
       "      <td>0.280992</td>\n",
       "      <td>0.100000</td>\n",
       "      <td>0.192771</td>\n",
       "      <td>0.254839</td>\n",
       "      <td>0.081395</td>\n",
       "      <td>0.316151</td>\n",
       "      <td>0.499307</td>\n",
       "      <td>0.366106</td>\n",
       "      <td>0.101124</td>\n",
       "      <td>0.275362</td>\n",
       "    </tr>\n",
       "    <tr>\n",
       "      <th>4</th>\n",
       "      <td>0.280992</td>\n",
       "      <td>0.100000</td>\n",
       "      <td>0.192771</td>\n",
       "      <td>0.254839</td>\n",
       "      <td>0.081395</td>\n",
       "      <td>0.316151</td>\n",
       "      <td>0.499307</td>\n",
       "      <td>0.366106</td>\n",
       "      <td>0.101124</td>\n",
       "      <td>0.275362</td>\n",
       "    </tr>\n",
       "    <tr>\n",
       "      <th>...</th>\n",
       "      <td>...</td>\n",
       "      <td>...</td>\n",
       "      <td>...</td>\n",
       "      <td>...</td>\n",
       "      <td>...</td>\n",
       "      <td>...</td>\n",
       "      <td>...</td>\n",
       "      <td>...</td>\n",
       "      <td>...</td>\n",
       "      <td>...</td>\n",
       "    </tr>\n",
       "    <tr>\n",
       "      <th>6491</th>\n",
       "      <td>0.198347</td>\n",
       "      <td>0.346667</td>\n",
       "      <td>0.048193</td>\n",
       "      <td>0.045161</td>\n",
       "      <td>0.134551</td>\n",
       "      <td>0.213058</td>\n",
       "      <td>0.105409</td>\n",
       "      <td>0.335921</td>\n",
       "      <td>0.202247</td>\n",
       "      <td>0.362319</td>\n",
       "    </tr>\n",
       "    <tr>\n",
       "      <th>6492</th>\n",
       "      <td>0.173554</td>\n",
       "      <td>0.313333</td>\n",
       "      <td>0.060241</td>\n",
       "      <td>0.051613</td>\n",
       "      <td>0.088040</td>\n",
       "      <td>0.261168</td>\n",
       "      <td>0.124827</td>\n",
       "      <td>0.345408</td>\n",
       "      <td>0.303371</td>\n",
       "      <td>0.463768</td>\n",
       "    </tr>\n",
       "    <tr>\n",
       "      <th>6493</th>\n",
       "      <td>0.206612</td>\n",
       "      <td>0.286667</td>\n",
       "      <td>0.078313</td>\n",
       "      <td>0.054839</td>\n",
       "      <td>0.111296</td>\n",
       "      <td>0.192440</td>\n",
       "      <td>0.094313</td>\n",
       "      <td>0.372143</td>\n",
       "      <td>0.297753</td>\n",
       "      <td>0.434783</td>\n",
       "    </tr>\n",
       "    <tr>\n",
       "      <th>6494</th>\n",
       "      <td>0.173554</td>\n",
       "      <td>0.376667</td>\n",
       "      <td>0.072289</td>\n",
       "      <td>0.045161</td>\n",
       "      <td>0.109635</td>\n",
       "      <td>0.213058</td>\n",
       "      <td>0.105409</td>\n",
       "      <td>0.360500</td>\n",
       "      <td>0.275281</td>\n",
       "      <td>0.318841</td>\n",
       "    </tr>\n",
       "    <tr>\n",
       "      <th>6495</th>\n",
       "      <td>0.181818</td>\n",
       "      <td>0.153333</td>\n",
       "      <td>0.283133</td>\n",
       "      <td>0.096774</td>\n",
       "      <td>0.096346</td>\n",
       "      <td>0.116838</td>\n",
       "      <td>0.099861</td>\n",
       "      <td>0.361363</td>\n",
       "      <td>0.247191</td>\n",
       "      <td>0.434783</td>\n",
       "    </tr>\n",
       "  </tbody>\n",
       "</table>\n",
       "<p>6496 rows × 10 columns</p>\n",
       "</div>"
      ],
      "text/plain": [
       "      fixed acidity  volatile acidity  citric acid  residual sugar  chlorides  \\\n",
       "0          0.264463          0.126667     0.216867        0.648387   0.059801   \n",
       "1          0.206612          0.146667     0.204819        0.032258   0.066445   \n",
       "2          0.355372          0.133333     0.240964        0.203226   0.068106   \n",
       "3          0.280992          0.100000     0.192771        0.254839   0.081395   \n",
       "4          0.280992          0.100000     0.192771        0.254839   0.081395   \n",
       "...             ...               ...          ...             ...        ...   \n",
       "6491       0.198347          0.346667     0.048193        0.045161   0.134551   \n",
       "6492       0.173554          0.313333     0.060241        0.051613   0.088040   \n",
       "6493       0.206612          0.286667     0.078313        0.054839   0.111296   \n",
       "6494       0.173554          0.376667     0.072289        0.045161   0.109635   \n",
       "6495       0.181818          0.153333     0.283133        0.096774   0.096346   \n",
       "\n",
       "      free sulfur dioxide  total sulfur dioxide   density  sulphates   alcohol  \n",
       "0                0.302405              0.454924  0.598965   0.129213  0.115942  \n",
       "1                0.089347              0.349515  0.297111   0.151685  0.217391  \n",
       "2                0.199313              0.252427  0.344545   0.123596  0.304348  \n",
       "3                0.316151              0.499307  0.366106   0.101124  0.275362  \n",
       "4                0.316151              0.499307  0.366106   0.101124  0.275362  \n",
       "...                   ...                   ...       ...        ...       ...  \n",
       "6491             0.213058              0.105409  0.335921   0.202247  0.362319  \n",
       "6492             0.261168              0.124827  0.345408   0.303371  0.463768  \n",
       "6493             0.192440              0.094313  0.372143   0.297753  0.434783  \n",
       "6494             0.213058              0.105409  0.360500   0.275281  0.318841  \n",
       "6495             0.116838              0.099861  0.361363   0.247191  0.434783  \n",
       "\n",
       "[6496 rows x 10 columns]"
      ]
     },
     "execution_count": 22,
     "metadata": {},
     "output_type": "execute_result"
    }
   ],
   "source": [
    "from sklearn.preprocessing import MinMaxScaler\n",
    "scaler = MinMaxScaler()\n",
    "scaler.fit(numerical_df)\n",
    "scaled = scaler.fit_transform(numerical_df)\n",
    "scaled_df = pd.DataFrame(scaled, columns=numerical_df.columns)\n",
    "\n",
    "scaled_df"
   ]
  },
  {
   "cell_type": "code",
   "execution_count": 23,
   "metadata": {},
   "outputs": [
    {
     "data": {
      "text/html": [
       "<div>\n",
       "<style scoped>\n",
       "    .dataframe tbody tr th:only-of-type {\n",
       "        vertical-align: middle;\n",
       "    }\n",
       "\n",
       "    .dataframe tbody tr th {\n",
       "        vertical-align: top;\n",
       "    }\n",
       "\n",
       "    .dataframe thead th {\n",
       "        text-align: right;\n",
       "    }\n",
       "</style>\n",
       "<table border=\"1\" class=\"dataframe\">\n",
       "  <thead>\n",
       "    <tr style=\"text-align: right;\">\n",
       "      <th></th>\n",
       "      <th>type</th>\n",
       "      <th>pHValue</th>\n",
       "      <th>taste</th>\n",
       "    </tr>\n",
       "  </thead>\n",
       "  <tbody>\n",
       "    <tr>\n",
       "      <th>0</th>\n",
       "      <td>white</td>\n",
       "      <td>very acidic</td>\n",
       "      <td>normal</td>\n",
       "    </tr>\n",
       "    <tr>\n",
       "      <th>1</th>\n",
       "      <td>white</td>\n",
       "      <td>quite acidic</td>\n",
       "      <td>normal</td>\n",
       "    </tr>\n",
       "    <tr>\n",
       "      <th>2</th>\n",
       "      <td>white</td>\n",
       "      <td>quite acidic</td>\n",
       "      <td>normal</td>\n",
       "    </tr>\n",
       "    <tr>\n",
       "      <th>3</th>\n",
       "      <td>white</td>\n",
       "      <td>very acidic</td>\n",
       "      <td>normal</td>\n",
       "    </tr>\n",
       "    <tr>\n",
       "      <th>4</th>\n",
       "      <td>white</td>\n",
       "      <td>very acidic</td>\n",
       "      <td>normal</td>\n",
       "    </tr>\n",
       "  </tbody>\n",
       "</table>\n",
       "</div>"
      ],
      "text/plain": [
       "    type       pHValue   taste\n",
       "0  white   very acidic  normal\n",
       "1  white  quite acidic  normal\n",
       "2  white  quite acidic  normal\n",
       "3  white   very acidic  normal\n",
       "4  white   very acidic  normal"
      ]
     },
     "execution_count": 23,
     "metadata": {},
     "output_type": "execute_result"
    }
   ],
   "source": [
    "categorical_df = df[categorical_features]\n",
    "categorical_df.head()"
   ]
  },
  {
   "cell_type": "code",
   "execution_count": 24,
   "metadata": {},
   "outputs": [
    {
     "data": {
      "text/html": [
       "<div>\n",
       "<style scoped>\n",
       "    .dataframe tbody tr th:only-of-type {\n",
       "        vertical-align: middle;\n",
       "    }\n",
       "\n",
       "    .dataframe tbody tr th {\n",
       "        vertical-align: top;\n",
       "    }\n",
       "\n",
       "    .dataframe thead th {\n",
       "        text-align: right;\n",
       "    }\n",
       "</style>\n",
       "<table border=\"1\" class=\"dataframe\">\n",
       "  <thead>\n",
       "    <tr style=\"text-align: right;\">\n",
       "      <th></th>\n",
       "      <th>type_white</th>\n",
       "      <th>pHValue_acidic</th>\n",
       "      <th>pHValue_extremly acidic</th>\n",
       "      <th>pHValue_lightly acidic</th>\n",
       "      <th>pHValue_midly acidic</th>\n",
       "      <th>pHValue_quite acidic</th>\n",
       "      <th>pHValue_very acidic</th>\n",
       "      <th>taste_good</th>\n",
       "    </tr>\n",
       "  </thead>\n",
       "  <tbody>\n",
       "    <tr>\n",
       "      <th>0</th>\n",
       "      <td>1</td>\n",
       "      <td>0</td>\n",
       "      <td>0</td>\n",
       "      <td>0</td>\n",
       "      <td>0</td>\n",
       "      <td>0</td>\n",
       "      <td>1</td>\n",
       "      <td>0</td>\n",
       "    </tr>\n",
       "    <tr>\n",
       "      <th>1</th>\n",
       "      <td>1</td>\n",
       "      <td>0</td>\n",
       "      <td>0</td>\n",
       "      <td>0</td>\n",
       "      <td>0</td>\n",
       "      <td>1</td>\n",
       "      <td>0</td>\n",
       "      <td>0</td>\n",
       "    </tr>\n",
       "    <tr>\n",
       "      <th>2</th>\n",
       "      <td>1</td>\n",
       "      <td>0</td>\n",
       "      <td>0</td>\n",
       "      <td>0</td>\n",
       "      <td>0</td>\n",
       "      <td>1</td>\n",
       "      <td>0</td>\n",
       "      <td>0</td>\n",
       "    </tr>\n",
       "    <tr>\n",
       "      <th>3</th>\n",
       "      <td>1</td>\n",
       "      <td>0</td>\n",
       "      <td>0</td>\n",
       "      <td>0</td>\n",
       "      <td>0</td>\n",
       "      <td>0</td>\n",
       "      <td>1</td>\n",
       "      <td>0</td>\n",
       "    </tr>\n",
       "    <tr>\n",
       "      <th>4</th>\n",
       "      <td>1</td>\n",
       "      <td>0</td>\n",
       "      <td>0</td>\n",
       "      <td>0</td>\n",
       "      <td>0</td>\n",
       "      <td>0</td>\n",
       "      <td>1</td>\n",
       "      <td>0</td>\n",
       "    </tr>\n",
       "    <tr>\n",
       "      <th>...</th>\n",
       "      <td>...</td>\n",
       "      <td>...</td>\n",
       "      <td>...</td>\n",
       "      <td>...</td>\n",
       "      <td>...</td>\n",
       "      <td>...</td>\n",
       "      <td>...</td>\n",
       "      <td>...</td>\n",
       "    </tr>\n",
       "    <tr>\n",
       "      <th>6493</th>\n",
       "      <td>0</td>\n",
       "      <td>0</td>\n",
       "      <td>0</td>\n",
       "      <td>0</td>\n",
       "      <td>1</td>\n",
       "      <td>0</td>\n",
       "      <td>0</td>\n",
       "      <td>0</td>\n",
       "    </tr>\n",
       "    <tr>\n",
       "      <th>6494</th>\n",
       "      <td>0</td>\n",
       "      <td>0</td>\n",
       "      <td>0</td>\n",
       "      <td>0</td>\n",
       "      <td>1</td>\n",
       "      <td>0</td>\n",
       "      <td>0</td>\n",
       "      <td>0</td>\n",
       "    </tr>\n",
       "    <tr>\n",
       "      <th>6495</th>\n",
       "      <td>0</td>\n",
       "      <td>0</td>\n",
       "      <td>0</td>\n",
       "      <td>0</td>\n",
       "      <td>1</td>\n",
       "      <td>0</td>\n",
       "      <td>0</td>\n",
       "      <td>0</td>\n",
       "    </tr>\n",
       "    <tr>\n",
       "      <th>6496</th>\n",
       "      <td>0</td>\n",
       "      <td>0</td>\n",
       "      <td>0</td>\n",
       "      <td>0</td>\n",
       "      <td>1</td>\n",
       "      <td>0</td>\n",
       "      <td>0</td>\n",
       "      <td>0</td>\n",
       "    </tr>\n",
       "    <tr>\n",
       "      <th>6497</th>\n",
       "      <td>0</td>\n",
       "      <td>0</td>\n",
       "      <td>0</td>\n",
       "      <td>0</td>\n",
       "      <td>0</td>\n",
       "      <td>1</td>\n",
       "      <td>0</td>\n",
       "      <td>0</td>\n",
       "    </tr>\n",
       "  </tbody>\n",
       "</table>\n",
       "<p>6496 rows × 8 columns</p>\n",
       "</div>"
      ],
      "text/plain": [
       "      type_white  pHValue_acidic  pHValue_extremly acidic  \\\n",
       "0              1               0                        0   \n",
       "1              1               0                        0   \n",
       "2              1               0                        0   \n",
       "3              1               0                        0   \n",
       "4              1               0                        0   \n",
       "...          ...             ...                      ...   \n",
       "6493           0               0                        0   \n",
       "6494           0               0                        0   \n",
       "6495           0               0                        0   \n",
       "6496           0               0                        0   \n",
       "6497           0               0                        0   \n",
       "\n",
       "      pHValue_lightly acidic  pHValue_midly acidic  pHValue_quite acidic  \\\n",
       "0                          0                     0                     0   \n",
       "1                          0                     0                     1   \n",
       "2                          0                     0                     1   \n",
       "3                          0                     0                     0   \n",
       "4                          0                     0                     0   \n",
       "...                      ...                   ...                   ...   \n",
       "6493                       0                     1                     0   \n",
       "6494                       0                     1                     0   \n",
       "6495                       0                     1                     0   \n",
       "6496                       0                     1                     0   \n",
       "6497                       0                     0                     1   \n",
       "\n",
       "      pHValue_very acidic  taste_good  \n",
       "0                       1           0  \n",
       "1                       0           0  \n",
       "2                       0           0  \n",
       "3                       1           0  \n",
       "4                       1           0  \n",
       "...                   ...         ...  \n",
       "6493                    0           0  \n",
       "6494                    0           0  \n",
       "6495                    0           0  \n",
       "6496                    0           0  \n",
       "6497                    0           0  \n",
       "\n",
       "[6496 rows x 8 columns]"
      ]
     },
     "execution_count": 24,
     "metadata": {},
     "output_type": "execute_result"
    }
   ],
   "source": [
    "white_dummy_df = pd.get_dummies(df[categorical_features],drop_first=False)\n",
    "white_dummy_df = white_dummy_df.drop(['type_red','taste_bad','taste_normal'],axis=1)\n",
    "white_dummy_df"
   ]
  },
  {
   "cell_type": "code",
   "execution_count": 25,
   "metadata": {},
   "outputs": [],
   "source": [
    "# resetting the index of both the numerical and one hot dataframes seems to prevent an issue where\n",
    "# the full dataframe unexpectedly adds an additional row.\n",
    "scaled_df.reset_index(inplace=True, drop=True)\n",
    "white_dummy_df.reset_index(inplace=True, drop=True)"
   ]
  },
  {
   "cell_type": "code",
   "execution_count": 26,
   "metadata": {},
   "outputs": [],
   "source": [
    "white_full_df = pd.concat([scaled_df, white_dummy_df], axis=1)\n",
    "pd.set_option(\"display.max_columns\", 24)"
   ]
  },
  {
   "cell_type": "code",
   "execution_count": 27,
   "metadata": {},
   "outputs": [
    {
     "data": {
      "text/html": [
       "<div>\n",
       "<style scoped>\n",
       "    .dataframe tbody tr th:only-of-type {\n",
       "        vertical-align: middle;\n",
       "    }\n",
       "\n",
       "    .dataframe tbody tr th {\n",
       "        vertical-align: top;\n",
       "    }\n",
       "\n",
       "    .dataframe thead th {\n",
       "        text-align: right;\n",
       "    }\n",
       "</style>\n",
       "<table border=\"1\" class=\"dataframe\">\n",
       "  <thead>\n",
       "    <tr style=\"text-align: right;\">\n",
       "      <th></th>\n",
       "      <th>fixed acidity</th>\n",
       "      <th>volatile acidity</th>\n",
       "      <th>citric acid</th>\n",
       "      <th>residual sugar</th>\n",
       "      <th>chlorides</th>\n",
       "      <th>free sulfur dioxide</th>\n",
       "      <th>total sulfur dioxide</th>\n",
       "      <th>density</th>\n",
       "      <th>sulphates</th>\n",
       "      <th>alcohol</th>\n",
       "      <th>type_white</th>\n",
       "      <th>pHValue_acidic</th>\n",
       "      <th>pHValue_extremly acidic</th>\n",
       "      <th>pHValue_lightly acidic</th>\n",
       "      <th>pHValue_midly acidic</th>\n",
       "      <th>pHValue_quite acidic</th>\n",
       "      <th>pHValue_very acidic</th>\n",
       "      <th>taste_good</th>\n",
       "    </tr>\n",
       "  </thead>\n",
       "  <tbody>\n",
       "    <tr>\n",
       "      <th>0</th>\n",
       "      <td>0.264463</td>\n",
       "      <td>0.126667</td>\n",
       "      <td>0.216867</td>\n",
       "      <td>0.648387</td>\n",
       "      <td>0.059801</td>\n",
       "      <td>0.302405</td>\n",
       "      <td>0.454924</td>\n",
       "      <td>0.598965</td>\n",
       "      <td>0.129213</td>\n",
       "      <td>0.115942</td>\n",
       "      <td>1</td>\n",
       "      <td>0</td>\n",
       "      <td>0</td>\n",
       "      <td>0</td>\n",
       "      <td>0</td>\n",
       "      <td>0</td>\n",
       "      <td>1</td>\n",
       "      <td>0</td>\n",
       "    </tr>\n",
       "    <tr>\n",
       "      <th>1</th>\n",
       "      <td>0.206612</td>\n",
       "      <td>0.146667</td>\n",
       "      <td>0.204819</td>\n",
       "      <td>0.032258</td>\n",
       "      <td>0.066445</td>\n",
       "      <td>0.089347</td>\n",
       "      <td>0.349515</td>\n",
       "      <td>0.297111</td>\n",
       "      <td>0.151685</td>\n",
       "      <td>0.217391</td>\n",
       "      <td>1</td>\n",
       "      <td>0</td>\n",
       "      <td>0</td>\n",
       "      <td>0</td>\n",
       "      <td>0</td>\n",
       "      <td>1</td>\n",
       "      <td>0</td>\n",
       "      <td>0</td>\n",
       "    </tr>\n",
       "    <tr>\n",
       "      <th>2</th>\n",
       "      <td>0.355372</td>\n",
       "      <td>0.133333</td>\n",
       "      <td>0.240964</td>\n",
       "      <td>0.203226</td>\n",
       "      <td>0.068106</td>\n",
       "      <td>0.199313</td>\n",
       "      <td>0.252427</td>\n",
       "      <td>0.344545</td>\n",
       "      <td>0.123596</td>\n",
       "      <td>0.304348</td>\n",
       "      <td>1</td>\n",
       "      <td>0</td>\n",
       "      <td>0</td>\n",
       "      <td>0</td>\n",
       "      <td>0</td>\n",
       "      <td>1</td>\n",
       "      <td>0</td>\n",
       "      <td>0</td>\n",
       "    </tr>\n",
       "    <tr>\n",
       "      <th>3</th>\n",
       "      <td>0.280992</td>\n",
       "      <td>0.100000</td>\n",
       "      <td>0.192771</td>\n",
       "      <td>0.254839</td>\n",
       "      <td>0.081395</td>\n",
       "      <td>0.316151</td>\n",
       "      <td>0.499307</td>\n",
       "      <td>0.366106</td>\n",
       "      <td>0.101124</td>\n",
       "      <td>0.275362</td>\n",
       "      <td>1</td>\n",
       "      <td>0</td>\n",
       "      <td>0</td>\n",
       "      <td>0</td>\n",
       "      <td>0</td>\n",
       "      <td>0</td>\n",
       "      <td>1</td>\n",
       "      <td>0</td>\n",
       "    </tr>\n",
       "    <tr>\n",
       "      <th>4</th>\n",
       "      <td>0.280992</td>\n",
       "      <td>0.100000</td>\n",
       "      <td>0.192771</td>\n",
       "      <td>0.254839</td>\n",
       "      <td>0.081395</td>\n",
       "      <td>0.316151</td>\n",
       "      <td>0.499307</td>\n",
       "      <td>0.366106</td>\n",
       "      <td>0.101124</td>\n",
       "      <td>0.275362</td>\n",
       "      <td>1</td>\n",
       "      <td>0</td>\n",
       "      <td>0</td>\n",
       "      <td>0</td>\n",
       "      <td>0</td>\n",
       "      <td>0</td>\n",
       "      <td>1</td>\n",
       "      <td>0</td>\n",
       "    </tr>\n",
       "    <tr>\n",
       "      <th>...</th>\n",
       "      <td>...</td>\n",
       "      <td>...</td>\n",
       "      <td>...</td>\n",
       "      <td>...</td>\n",
       "      <td>...</td>\n",
       "      <td>...</td>\n",
       "      <td>...</td>\n",
       "      <td>...</td>\n",
       "      <td>...</td>\n",
       "      <td>...</td>\n",
       "      <td>...</td>\n",
       "      <td>...</td>\n",
       "      <td>...</td>\n",
       "      <td>...</td>\n",
       "      <td>...</td>\n",
       "      <td>...</td>\n",
       "      <td>...</td>\n",
       "      <td>...</td>\n",
       "    </tr>\n",
       "    <tr>\n",
       "      <th>6491</th>\n",
       "      <td>0.198347</td>\n",
       "      <td>0.346667</td>\n",
       "      <td>0.048193</td>\n",
       "      <td>0.045161</td>\n",
       "      <td>0.134551</td>\n",
       "      <td>0.213058</td>\n",
       "      <td>0.105409</td>\n",
       "      <td>0.335921</td>\n",
       "      <td>0.202247</td>\n",
       "      <td>0.362319</td>\n",
       "      <td>0</td>\n",
       "      <td>0</td>\n",
       "      <td>0</td>\n",
       "      <td>0</td>\n",
       "      <td>1</td>\n",
       "      <td>0</td>\n",
       "      <td>0</td>\n",
       "      <td>0</td>\n",
       "    </tr>\n",
       "    <tr>\n",
       "      <th>6492</th>\n",
       "      <td>0.173554</td>\n",
       "      <td>0.313333</td>\n",
       "      <td>0.060241</td>\n",
       "      <td>0.051613</td>\n",
       "      <td>0.088040</td>\n",
       "      <td>0.261168</td>\n",
       "      <td>0.124827</td>\n",
       "      <td>0.345408</td>\n",
       "      <td>0.303371</td>\n",
       "      <td>0.463768</td>\n",
       "      <td>0</td>\n",
       "      <td>0</td>\n",
       "      <td>0</td>\n",
       "      <td>0</td>\n",
       "      <td>1</td>\n",
       "      <td>0</td>\n",
       "      <td>0</td>\n",
       "      <td>0</td>\n",
       "    </tr>\n",
       "    <tr>\n",
       "      <th>6493</th>\n",
       "      <td>0.206612</td>\n",
       "      <td>0.286667</td>\n",
       "      <td>0.078313</td>\n",
       "      <td>0.054839</td>\n",
       "      <td>0.111296</td>\n",
       "      <td>0.192440</td>\n",
       "      <td>0.094313</td>\n",
       "      <td>0.372143</td>\n",
       "      <td>0.297753</td>\n",
       "      <td>0.434783</td>\n",
       "      <td>0</td>\n",
       "      <td>0</td>\n",
       "      <td>0</td>\n",
       "      <td>0</td>\n",
       "      <td>1</td>\n",
       "      <td>0</td>\n",
       "      <td>0</td>\n",
       "      <td>0</td>\n",
       "    </tr>\n",
       "    <tr>\n",
       "      <th>6494</th>\n",
       "      <td>0.173554</td>\n",
       "      <td>0.376667</td>\n",
       "      <td>0.072289</td>\n",
       "      <td>0.045161</td>\n",
       "      <td>0.109635</td>\n",
       "      <td>0.213058</td>\n",
       "      <td>0.105409</td>\n",
       "      <td>0.360500</td>\n",
       "      <td>0.275281</td>\n",
       "      <td>0.318841</td>\n",
       "      <td>0</td>\n",
       "      <td>0</td>\n",
       "      <td>0</td>\n",
       "      <td>0</td>\n",
       "      <td>1</td>\n",
       "      <td>0</td>\n",
       "      <td>0</td>\n",
       "      <td>0</td>\n",
       "    </tr>\n",
       "    <tr>\n",
       "      <th>6495</th>\n",
       "      <td>0.181818</td>\n",
       "      <td>0.153333</td>\n",
       "      <td>0.283133</td>\n",
       "      <td>0.096774</td>\n",
       "      <td>0.096346</td>\n",
       "      <td>0.116838</td>\n",
       "      <td>0.099861</td>\n",
       "      <td>0.361363</td>\n",
       "      <td>0.247191</td>\n",
       "      <td>0.434783</td>\n",
       "      <td>0</td>\n",
       "      <td>0</td>\n",
       "      <td>0</td>\n",
       "      <td>0</td>\n",
       "      <td>0</td>\n",
       "      <td>1</td>\n",
       "      <td>0</td>\n",
       "      <td>0</td>\n",
       "    </tr>\n",
       "  </tbody>\n",
       "</table>\n",
       "<p>6496 rows × 18 columns</p>\n",
       "</div>"
      ],
      "text/plain": [
       "      fixed acidity  volatile acidity  citric acid  residual sugar  chlorides  \\\n",
       "0          0.264463          0.126667     0.216867        0.648387   0.059801   \n",
       "1          0.206612          0.146667     0.204819        0.032258   0.066445   \n",
       "2          0.355372          0.133333     0.240964        0.203226   0.068106   \n",
       "3          0.280992          0.100000     0.192771        0.254839   0.081395   \n",
       "4          0.280992          0.100000     0.192771        0.254839   0.081395   \n",
       "...             ...               ...          ...             ...        ...   \n",
       "6491       0.198347          0.346667     0.048193        0.045161   0.134551   \n",
       "6492       0.173554          0.313333     0.060241        0.051613   0.088040   \n",
       "6493       0.206612          0.286667     0.078313        0.054839   0.111296   \n",
       "6494       0.173554          0.376667     0.072289        0.045161   0.109635   \n",
       "6495       0.181818          0.153333     0.283133        0.096774   0.096346   \n",
       "\n",
       "      free sulfur dioxide  total sulfur dioxide   density  sulphates  \\\n",
       "0                0.302405              0.454924  0.598965   0.129213   \n",
       "1                0.089347              0.349515  0.297111   0.151685   \n",
       "2                0.199313              0.252427  0.344545   0.123596   \n",
       "3                0.316151              0.499307  0.366106   0.101124   \n",
       "4                0.316151              0.499307  0.366106   0.101124   \n",
       "...                   ...                   ...       ...        ...   \n",
       "6491             0.213058              0.105409  0.335921   0.202247   \n",
       "6492             0.261168              0.124827  0.345408   0.303371   \n",
       "6493             0.192440              0.094313  0.372143   0.297753   \n",
       "6494             0.213058              0.105409  0.360500   0.275281   \n",
       "6495             0.116838              0.099861  0.361363   0.247191   \n",
       "\n",
       "       alcohol  type_white  pHValue_acidic  pHValue_extremly acidic  \\\n",
       "0     0.115942           1               0                        0   \n",
       "1     0.217391           1               0                        0   \n",
       "2     0.304348           1               0                        0   \n",
       "3     0.275362           1               0                        0   \n",
       "4     0.275362           1               0                        0   \n",
       "...        ...         ...             ...                      ...   \n",
       "6491  0.362319           0               0                        0   \n",
       "6492  0.463768           0               0                        0   \n",
       "6493  0.434783           0               0                        0   \n",
       "6494  0.318841           0               0                        0   \n",
       "6495  0.434783           0               0                        0   \n",
       "\n",
       "      pHValue_lightly acidic  pHValue_midly acidic  pHValue_quite acidic  \\\n",
       "0                          0                     0                     0   \n",
       "1                          0                     0                     1   \n",
       "2                          0                     0                     1   \n",
       "3                          0                     0                     0   \n",
       "4                          0                     0                     0   \n",
       "...                      ...                   ...                   ...   \n",
       "6491                       0                     1                     0   \n",
       "6492                       0                     1                     0   \n",
       "6493                       0                     1                     0   \n",
       "6494                       0                     1                     0   \n",
       "6495                       0                     0                     1   \n",
       "\n",
       "      pHValue_very acidic  taste_good  \n",
       "0                       1           0  \n",
       "1                       0           0  \n",
       "2                       0           0  \n",
       "3                       1           0  \n",
       "4                       1           0  \n",
       "...                   ...         ...  \n",
       "6491                    0           0  \n",
       "6492                    0           0  \n",
       "6493                    0           0  \n",
       "6494                    0           0  \n",
       "6495                    0           0  \n",
       "\n",
       "[6496 rows x 18 columns]"
      ]
     },
     "execution_count": 27,
     "metadata": {},
     "output_type": "execute_result"
    }
   ],
   "source": [
    "white_full_df"
   ]
  },
  {
   "cell_type": "markdown",
   "metadata": {},
   "source": [
    "We'll focus on the dataframe with white wine for now"
   ]
  },
  {
   "cell_type": "code",
   "execution_count": 28,
   "metadata": {},
   "outputs": [],
   "source": [
    "X=white_full_df.drop('taste_good',axis=1)\n",
    "y=white_full_df['taste_good']"
   ]
  },
  {
   "cell_type": "markdown",
   "metadata": {},
   "source": [
    "### Logistic"
   ]
  },
  {
   "cell_type": "code",
   "execution_count": 29,
   "metadata": {},
   "outputs": [
    {
     "name": "stdout",
     "output_type": "stream",
     "text": [
      "              precision    recall  f1-score   support\n",
      "\n",
      "           0       0.84      0.95      0.89      1578\n",
      "           1       0.53      0.22      0.31       371\n",
      "\n",
      "    accuracy                           0.81      1949\n",
      "   macro avg       0.68      0.59      0.60      1949\n",
      "weighted avg       0.78      0.81      0.78      1949\n",
      "\n",
      "0.8137506413545408\n",
      "              precision    recall  f1-score   support\n",
      "\n",
      "           0       0.83      0.97      0.90      1569\n",
      "           1       0.62      0.21      0.31       380\n",
      "\n",
      "    accuracy                           0.82      1949\n",
      "   macro avg       0.73      0.59      0.60      1949\n",
      "weighted avg       0.79      0.82      0.78      1949\n",
      "\n",
      "0.8209338122113905\n",
      "              precision    recall  f1-score   support\n",
      "\n",
      "           0       0.83      0.97      0.90      1564\n",
      "           1       0.64      0.22      0.33       385\n",
      "\n",
      "    accuracy                           0.82      1949\n",
      "   macro avg       0.74      0.60      0.61      1949\n",
      "weighted avg       0.80      0.82      0.79      1949\n",
      "\n",
      "0.8219599794766547\n",
      "              precision    recall  f1-score   support\n",
      "\n",
      "           0       0.84      0.96      0.90      1571\n",
      "           1       0.60      0.26      0.37       378\n",
      "\n",
      "    accuracy                           0.82      1949\n",
      "   macro avg       0.72      0.61      0.63      1949\n",
      "weighted avg       0.80      0.82      0.79      1949\n",
      "\n",
      "0.8224730631092868\n",
      "              precision    recall  f1-score   support\n",
      "\n",
      "           0       0.84      0.97      0.90      1579\n",
      "           1       0.63      0.24      0.35       370\n",
      "\n",
      "    accuracy                           0.83      1949\n",
      "   macro avg       0.74      0.60      0.63      1949\n",
      "weighted avg       0.80      0.83      0.80      1949\n",
      "\n",
      "0.8291431503335044\n",
      "              precision    recall  f1-score   support\n",
      "\n",
      "           0       0.84      0.95      0.89      1585\n",
      "           1       0.53      0.23      0.32       364\n",
      "\n",
      "    accuracy                           0.82      1949\n",
      "   macro avg       0.69      0.59      0.61      1949\n",
      "weighted avg       0.78      0.82      0.79      1949\n",
      "\n",
      "0.8178553104155978\n",
      "              precision    recall  f1-score   support\n",
      "\n",
      "           0       0.84      0.97      0.90      1573\n",
      "           1       0.59      0.20      0.30       376\n",
      "\n",
      "    accuracy                           0.82      1949\n",
      "   macro avg       0.71      0.59      0.60      1949\n",
      "weighted avg       0.79      0.82      0.78      1949\n",
      "\n",
      "0.818881477680862\n",
      "              precision    recall  f1-score   support\n",
      "\n",
      "           0       0.83      0.96      0.89      1561\n",
      "           1       0.57      0.20      0.30       388\n",
      "\n",
      "    accuracy                           0.81      1949\n",
      "   macro avg       0.70      0.58      0.60      1949\n",
      "weighted avg       0.78      0.81      0.77      1949\n",
      "\n",
      "0.8111852231913802\n",
      "              precision    recall  f1-score   support\n",
      "\n",
      "           0       0.84      0.97      0.90      1565\n",
      "           1       0.65      0.24      0.36       384\n",
      "\n",
      "    accuracy                           0.83      1949\n",
      "   macro avg       0.75      0.61      0.63      1949\n",
      "weighted avg       0.80      0.83      0.79      1949\n",
      "\n",
      "0.8255515649050795\n",
      "              precision    recall  f1-score   support\n",
      "\n",
      "           0       0.83      0.97      0.89      1551\n",
      "           1       0.65      0.21      0.32       398\n",
      "\n",
      "    accuracy                           0.82      1949\n",
      "   macro avg       0.74      0.59      0.61      1949\n",
      "weighted avg       0.79      0.82      0.78      1949\n",
      "\n",
      "0.8152898922524372\n"
     ]
    },
    {
     "data": {
      "text/plain": [
       "<AxesSubplot:xlabel='trial'>"
      ]
     },
     "execution_count": 29,
     "metadata": {},
     "output_type": "execute_result"
    },
    {
     "data": {
      "image/png": "[encoded data removed]",
      "text/plain": [
       "<Figure size 432x288 with 1 Axes>"
      ]
     },
     "metadata": {
      "needs_background": "light"
     },
     "output_type": "display_data"
    }
   ],
   "source": [
    "import random\n",
    "from sklearn import metrics\n",
    "from statistics import mean\n",
    "\n",
    "f1_logistic = []\n",
    "\n",
    "for i in range(10):\n",
    "    X_train, X_test, y_train, y_test = train_test_split(X,y,test_size=0.30,random_state=random.randint(1,1000))\n",
    "    model = LogisticRegression()\n",
    "    model.fit(X_train,y_train)\n",
    "    predictions = model.predict(X_test)\n",
    "    \n",
    "    f1_logistic.append(metrics.f1_score(y_test, predictions))\n",
    "    \n",
    "    print(classification_report(y_test,predictions))\n",
    "    print(accuracy_score(y_test, predictions))\n",
    "\n",
    "rdf = pd.DataFrame( {'trial': range(10), 'F1': f1_logistic})\n",
    "rdf.plot.bar(x='trial', y='F1')"
   ]
  },
  {
   "cell_type": "code",
   "execution_count": 30,
   "metadata": {},
   "outputs": [
    {
     "data": {
      "text/plain": [
       "0.3273614088838593"
      ]
     },
     "execution_count": 30,
     "metadata": {},
     "output_type": "execute_result"
    }
   ],
   "source": [
    "mean(f1_logistic)"
   ]
  },
  {
   "cell_type": "markdown",
   "metadata": {},
   "source": [
    "### Decision Tree"
   ]
  },
  {
   "cell_type": "code",
   "execution_count": 31,
   "metadata": {},
   "outputs": [
    {
     "name": "stdout",
     "output_type": "stream",
     "text": [
      "Done fitting\n",
      "              precision    recall  f1-score   support\n",
      "\n",
      "           0       0.89      0.91      0.90      1575\n",
      "           1       0.58      0.50      0.54       374\n",
      "\n",
      "    accuracy                           0.84      1949\n",
      "   macro avg       0.73      0.71      0.72      1949\n",
      "weighted avg       0.83      0.84      0.83      1949\n",
      "\n",
      "0.8358132375577219\n"
     ]
    }
   ],
   "source": [
    "X_train, X_test, y_train, y_test = train_test_split(X, \n",
    "                                                        y, test_size=0.30, \n",
    "                                                        random_state=random.randint(1,1000))\n",
    "    \n",
    "model = DecisionTreeModel(max_depth=10)\n",
    "model.fit(X_train, y_train)\n",
    "predictions = model.predict(X_test)\n",
    "\n",
    "print(classification_report(y_test,predictions))\n",
    "print(accuracy_score(y_test, predictions))"
   ]
  },
  {
   "cell_type": "code",
   "execution_count": 32,
   "metadata": {
    "scrolled": true
   },
   "outputs": [
    {
     "name": "stdout",
     "output_type": "stream",
     "text": [
      "              precision    recall  f1-score   support\n",
      "\n",
      "           0       0.89      0.90      0.89      1559\n",
      "           1       0.57      0.56      0.56       390\n",
      "\n",
      "    accuracy                           0.83      1949\n",
      "   macro avg       0.73      0.73      0.73      1949\n",
      "weighted avg       0.83      0.83      0.83      1949\n",
      "\n",
      "0.8281169830682401\n",
      "              precision    recall  f1-score   support\n",
      "\n",
      "           0       0.87      0.92      0.89      1551\n",
      "           1       0.59      0.46      0.52       398\n",
      "\n",
      "    accuracy                           0.82      1949\n",
      "   macro avg       0.73      0.69      0.70      1949\n",
      "weighted avg       0.81      0.82      0.82      1949\n",
      "\n",
      "0.8240123140071832\n",
      "              precision    recall  f1-score   support\n",
      "\n",
      "           0       0.88      0.91      0.90      1565\n",
      "           1       0.58      0.50      0.54       384\n",
      "\n",
      "    accuracy                           0.83      1949\n",
      "   macro avg       0.73      0.71      0.72      1949\n",
      "weighted avg       0.82      0.83      0.83      1949\n",
      "\n",
      "0.8306824012314007\n",
      "              precision    recall  f1-score   support\n",
      "\n",
      "           0       0.89      0.92      0.90      1597\n",
      "           1       0.57      0.47      0.51       352\n",
      "\n",
      "    accuracy                           0.84      1949\n",
      "   macro avg       0.73      0.69      0.71      1949\n",
      "weighted avg       0.83      0.84      0.83      1949\n",
      "\n",
      "0.8388917393535146\n",
      "              precision    recall  f1-score   support\n",
      "\n",
      "           0       0.90      0.91      0.91      1570\n",
      "           1       0.62      0.59      0.61       379\n",
      "\n",
      "    accuracy                           0.85      1949\n",
      "   macro avg       0.76      0.75      0.76      1949\n",
      "weighted avg       0.85      0.85      0.85      1949\n",
      "\n",
      "0.8501795792714213\n",
      "              precision    recall  f1-score   support\n",
      "\n",
      "           0       0.88      0.91      0.89      1555\n",
      "           1       0.59      0.49      0.53       394\n",
      "\n",
      "    accuracy                           0.83      1949\n",
      "   macro avg       0.73      0.70      0.71      1949\n",
      "weighted avg       0.82      0.83      0.82      1949\n",
      "\n",
      "0.8270908158029758\n",
      "              precision    recall  f1-score   support\n",
      "\n",
      "           0       0.88      0.91      0.89      1593\n",
      "           1       0.53      0.46      0.49       356\n",
      "\n",
      "    accuracy                           0.83      1949\n",
      "   macro avg       0.70      0.68      0.69      1949\n",
      "weighted avg       0.82      0.83      0.82      1949\n",
      "\n",
      "0.8255515649050795\n",
      "              precision    recall  f1-score   support\n",
      "\n",
      "           0       0.89      0.90      0.89      1571\n",
      "           1       0.55      0.52      0.54       378\n",
      "\n",
      "    accuracy                           0.83      1949\n",
      "   macro avg       0.72      0.71      0.71      1949\n",
      "weighted avg       0.82      0.83      0.82      1949\n",
      "\n",
      "0.8255515649050795\n",
      "              precision    recall  f1-score   support\n",
      "\n",
      "           0       0.87      0.90      0.88      1554\n",
      "           1       0.55      0.49      0.52       395\n",
      "\n",
      "    accuracy                           0.81      1949\n",
      "   macro avg       0.71      0.69      0.70      1949\n",
      "weighted avg       0.81      0.81      0.81      1949\n",
      "\n",
      "0.8137506413545408\n",
      "              precision    recall  f1-score   support\n",
      "\n",
      "           0       0.88      0.90      0.89      1560\n",
      "           1       0.55      0.52      0.54       389\n",
      "\n",
      "    accuracy                           0.82      1949\n",
      "   macro avg       0.72      0.71      0.71      1949\n",
      "weighted avg       0.82      0.82      0.82      1949\n",
      "\n",
      "0.8209338122113905\n"
     ]
    },
    {
     "data": {
      "text/plain": [
       "<AxesSubplot:xlabel='trial'>"
      ]
     },
     "execution_count": 32,
     "metadata": {},
     "output_type": "execute_result"
    },
    {
     "data": {
      "image/png": "[encoded data removed]",
      "text/plain": [
       "<Figure size 432x288 with 1 Axes>"
      ]
     },
     "metadata": {
      "needs_background": "light"
     },
     "output_type": "display_data"
    }
   ],
   "source": [
    "from sklearn.tree import DecisionTreeClassifier\n",
    "\n",
    "f1_dt_sklearn = []\n",
    "\n",
    "for i in range(10):\n",
    "    X_train, X_test, y_train, y_test = train_test_split(X, \n",
    "                                                        y, test_size=0.30, \n",
    "                                                        random_state=random.randint(1,1000))\n",
    "    \n",
    "    model = DecisionTreeClassifier(max_depth=10)\n",
    "    model.fit(X_train, y_train)\n",
    "    predictions = model.predict(X_test)\n",
    "    \n",
    "    f1_dt_sklearn.append(metrics.f1_score(y_test, predictions))\n",
    "\n",
    "    print(classification_report(y_test,predictions))\n",
    "    print(accuracy_score(y_test, predictions))\n",
    "\n",
    "rdf = pd.DataFrame( {'trial': range(10), 'F1': f1_dt_sklearn})\n",
    "rdf.plot.bar(x='trial', y='F1')"
   ]
  },
  {
   "cell_type": "code",
   "execution_count": 33,
   "metadata": {},
   "outputs": [
    {
     "data": {
      "text/plain": [
       "0.5350857561788557"
      ]
     },
     "execution_count": 33,
     "metadata": {},
     "output_type": "execute_result"
    }
   ],
   "source": [
    "mean(f1_dt_sklearn)"
   ]
  },
  {
   "cell_type": "code",
   "execution_count": 34,
   "metadata": {},
   "outputs": [
    {
     "data": {
      "image/png": "[encoded data removed]",
      "text/plain": [
       "<Figure size 2880x1440 with 1 Axes>"
      ]
     },
     "metadata": {
      "needs_background": "light"
     },
     "output_type": "display_data"
    }
   ],
   "source": [
    "from sklearn import tree\n",
    "fig=plt.figure(figsize=(40,20))\n",
    "_=tree.plot_tree(model,feature_names=X.columns,filled=True)"
   ]
  },
  {
   "cell_type": "markdown",
   "metadata": {},
   "source": [
    "### Random Forest"
   ]
  },
  {
   "cell_type": "code",
   "execution_count": 35,
   "metadata": {},
   "outputs": [
    {
     "name": "stdout",
     "output_type": "stream",
     "text": [
      "              precision    recall  f1-score   support\n",
      "\n",
      "           0       0.90      0.97      0.93      1573\n",
      "           1       0.80      0.56      0.66       376\n",
      "\n",
      "    accuracy                           0.89      1949\n",
      "   macro avg       0.85      0.76      0.79      1949\n",
      "weighted avg       0.88      0.89      0.88      1949\n",
      "\n",
      "0.8871216008209338\n",
      "              precision    recall  f1-score   support\n",
      "\n",
      "           0       0.89      0.96      0.92      1535\n",
      "           1       0.77      0.55      0.64       414\n",
      "\n",
      "    accuracy                           0.87      1949\n",
      "   macro avg       0.83      0.75      0.78      1949\n",
      "weighted avg       0.86      0.87      0.86      1949\n",
      "\n",
      "0.8701898409440739\n",
      "              precision    recall  f1-score   support\n",
      "\n",
      "           0       0.91      0.96      0.93      1588\n",
      "           1       0.78      0.56      0.65       361\n",
      "\n",
      "    accuracy                           0.89      1949\n",
      "   macro avg       0.84      0.76      0.79      1949\n",
      "weighted avg       0.88      0.89      0.88      1949\n",
      "\n",
      "0.8886608517188301\n",
      "              precision    recall  f1-score   support\n",
      "\n",
      "           0       0.90      0.95      0.92      1578\n",
      "           1       0.73      0.54      0.62       371\n",
      "\n",
      "    accuracy                           0.87      1949\n",
      "   macro avg       0.81      0.75      0.77      1949\n",
      "weighted avg       0.87      0.87      0.87      1949\n",
      "\n",
      "0.8737814263724987\n",
      "              precision    recall  f1-score   support\n",
      "\n",
      "           0       0.90      0.96      0.93      1558\n",
      "           1       0.78      0.57      0.66       391\n",
      "\n",
      "    accuracy                           0.88      1949\n",
      "   macro avg       0.84      0.76      0.79      1949\n",
      "weighted avg       0.87      0.88      0.87      1949\n",
      "\n",
      "0.8809645972293484\n",
      "              precision    recall  f1-score   support\n",
      "\n",
      "           0       0.89      0.97      0.93      1560\n",
      "           1       0.80      0.53      0.64       389\n",
      "\n",
      "    accuracy                           0.88      1949\n",
      "   macro avg       0.85      0.75      0.78      1949\n",
      "weighted avg       0.87      0.88      0.87      1949\n",
      "\n",
      "0.8799384299640841\n",
      "              precision    recall  f1-score   support\n",
      "\n",
      "           0       0.90      0.97      0.93      1571\n",
      "           1       0.80      0.56      0.66       378\n",
      "\n",
      "    accuracy                           0.89      1949\n",
      "   macro avg       0.85      0.76      0.80      1949\n",
      "weighted avg       0.88      0.89      0.88      1949\n",
      "\n",
      "0.887634684453566\n",
      "              precision    recall  f1-score   support\n",
      "\n",
      "           0       0.91      0.97      0.94      1587\n",
      "           1       0.83      0.58      0.68       362\n",
      "\n",
      "    accuracy                           0.90      1949\n",
      "   macro avg       0.87      0.77      0.81      1949\n",
      "weighted avg       0.89      0.90      0.89      1949\n",
      "\n",
      "0.8989225243714726\n",
      "              precision    recall  f1-score   support\n",
      "\n",
      "           0       0.90      0.97      0.93      1580\n",
      "           1       0.80      0.53      0.64       369\n",
      "\n",
      "    accuracy                           0.89      1949\n",
      "   macro avg       0.85      0.75      0.78      1949\n",
      "weighted avg       0.88      0.89      0.88      1949\n",
      "\n",
      "0.8860954335556696\n",
      "              precision    recall  f1-score   support\n",
      "\n",
      "           0       0.90      0.97      0.93      1570\n",
      "           1       0.80      0.54      0.65       379\n",
      "\n",
      "    accuracy                           0.88      1949\n",
      "   macro avg       0.85      0.76      0.79      1949\n",
      "weighted avg       0.88      0.88      0.88      1949\n",
      "\n",
      "0.8845561826577732\n"
     ]
    },
    {
     "data": {
      "text/plain": [
       "<AxesSubplot:xlabel='trial'>"
      ]
     },
     "execution_count": 35,
     "metadata": {},
     "output_type": "execute_result"
    },
    {
     "data": {
      "image/png": "[encoded data removed]",
      "text/plain": [
       "<Figure size 432x288 with 1 Axes>"
      ]
     },
     "metadata": {
      "needs_background": "light"
     },
     "output_type": "display_data"
    }
   ],
   "source": [
    "f1_rf = []\n",
    "\n",
    "for i in range(10):\n",
    "    X_train, X_test, y_train, y_test = train_test_split(X, \n",
    "                                                        y, test_size=0.30, \n",
    "                                                        random_state=random.randint(1,1000))\n",
    "    \n",
    "    rfModel = RandomForestClassifier(n_estimators=100)\n",
    "    rfModel.fit(X_train, y_train)\n",
    "    rf_predictions = rfModel.predict(X_test)\n",
    "    \n",
    "    f1_rf.append(metrics.f1_score(y_test, rf_predictions))\n",
    "\n",
    "    print(classification_report(y_test,rf_predictions))\n",
    "    print(accuracy_score(y_test, rf_predictions))\n",
    "\n",
    "rdf = pd.DataFrame( {'trial': range(10), 'F1': f1_rf})\n",
    "rdf.plot.bar(x='trial', y='F1')"
   ]
  },
  {
   "cell_type": "code",
   "execution_count": 36,
   "metadata": {},
   "outputs": [
    {
     "data": {
      "text/plain": [
       "0.648673094092968"
      ]
     },
     "execution_count": 36,
     "metadata": {},
     "output_type": "execute_result"
    }
   ],
   "source": [
    "mean(f1_rf)"
   ]
  },
  {
   "cell_type": "markdown",
   "metadata": {},
   "source": [
    "### AdaBoost"
   ]
  },
  {
   "cell_type": "code",
   "execution_count": 37,
   "metadata": {},
   "outputs": [
    {
     "name": "stdout",
     "output_type": "stream",
     "text": [
      "              precision    recall  f1-score   support\n",
      "\n",
      "           0       0.89      0.96      0.93      1560\n",
      "           1       0.78      0.54      0.64       389\n",
      "\n",
      "    accuracy                           0.88      1949\n",
      "   macro avg       0.84      0.75      0.78      1949\n",
      "weighted avg       0.87      0.88      0.87      1949\n",
      "\n",
      "0.8783991790661878\n",
      "              precision    recall  f1-score   support\n",
      "\n",
      "           0       0.89      0.95      0.92      1551\n",
      "           1       0.74      0.57      0.64       398\n",
      "\n",
      "    accuracy                           0.87      1949\n",
      "   macro avg       0.81      0.76      0.78      1949\n",
      "weighted avg       0.86      0.87      0.86      1949\n",
      "\n",
      "0.8696767573114418\n",
      "              precision    recall  f1-score   support\n",
      "\n",
      "           0       0.89      0.96      0.93      1562\n",
      "           1       0.79      0.54      0.64       387\n",
      "\n",
      "    accuracy                           0.88      1949\n",
      "   macro avg       0.84      0.75      0.79      1949\n",
      "weighted avg       0.87      0.88      0.87      1949\n",
      "\n",
      "0.8804515135967163\n",
      "              precision    recall  f1-score   support\n",
      "\n",
      "           0       0.88      0.95      0.91      1535\n",
      "           1       0.75      0.50      0.60       414\n",
      "\n",
      "    accuracy                           0.86      1949\n",
      "   macro avg       0.81      0.72      0.75      1949\n",
      "weighted avg       0.85      0.86      0.85      1949\n",
      "\n",
      "0.8568496664956388\n",
      "              precision    recall  f1-score   support\n",
      "\n",
      "           0       0.90      0.96      0.93      1563\n",
      "           1       0.76      0.55      0.64       386\n",
      "\n",
      "    accuracy                           0.88      1949\n",
      "   macro avg       0.83      0.76      0.78      1949\n",
      "weighted avg       0.87      0.88      0.87      1949\n",
      "\n",
      "0.8773730118009235\n",
      "              precision    recall  f1-score   support\n",
      "\n",
      "           0       0.89      0.94      0.91      1560\n",
      "           1       0.70      0.52      0.59       389\n",
      "\n",
      "    accuracy                           0.86      1949\n",
      "   macro avg       0.79      0.73      0.75      1949\n",
      "weighted avg       0.85      0.86      0.85      1949\n",
      "\n",
      "0.8589020010261673\n",
      "              precision    recall  f1-score   support\n",
      "\n",
      "           0       0.89      0.96      0.93      1551\n",
      "           1       0.78      0.55      0.64       398\n",
      "\n",
      "    accuracy                           0.88      1949\n",
      "   macro avg       0.84      0.75      0.78      1949\n",
      "weighted avg       0.87      0.88      0.87      1949\n",
      "\n",
      "0.8763468445356594\n",
      "              precision    recall  f1-score   support\n",
      "\n",
      "           0       0.90      0.95      0.92      1560\n",
      "           1       0.73      0.57      0.64       389\n",
      "\n",
      "    accuracy                           0.87      1949\n",
      "   macro avg       0.81      0.76      0.78      1949\n",
      "weighted avg       0.86      0.87      0.87      1949\n",
      "\n",
      "0.8722421754746024\n",
      "              precision    recall  f1-score   support\n",
      "\n",
      "           0       0.91      0.96      0.93      1578\n",
      "           1       0.78      0.58      0.67       371\n",
      "\n",
      "    accuracy                           0.89      1949\n",
      "   macro avg       0.84      0.77      0.80      1949\n",
      "weighted avg       0.88      0.89      0.88      1949\n",
      "\n",
      "0.8891739353514623\n",
      "              precision    recall  f1-score   support\n",
      "\n",
      "           0       0.90      0.96      0.93      1571\n",
      "           1       0.75      0.55      0.64       378\n",
      "\n",
      "    accuracy                           0.88      1949\n",
      "   macro avg       0.82      0.75      0.78      1949\n",
      "weighted avg       0.87      0.88      0.87      1949\n",
      "\n",
      "0.8773730118009235\n"
     ]
    },
    {
     "data": {
      "text/plain": [
       "<AxesSubplot:xlabel='trial'>"
      ]
     },
     "execution_count": 37,
     "metadata": {},
     "output_type": "execute_result"
    },
    {
     "data": {
      "image/png": "[encoded data removed]",
      "text/plain": [
       "<Figure size 432x288 with 1 Axes>"
      ]
     },
     "metadata": {
      "needs_background": "light"
     },
     "output_type": "display_data"
    }
   ],
   "source": [
    "from sklearn.ensemble import AdaBoostClassifier\n",
    "f1_ab = []\n",
    "\n",
    "for i in range(10):\n",
    "    X_train, X_test, y_train, y_test = train_test_split(X, \n",
    "                                                        y, test_size=0.30, \n",
    "                                                        random_state=random.randint(1,1000))\n",
    "    \n",
    "    adaModel = AdaBoostClassifier(DecisionTreeClassifier(max_depth=10),n_estimators=100,learning_rate=0.4)\n",
    "    adaModel.fit(X_train, y_train)\n",
    "    ab_predictions = adaModel.predict(X_test)\n",
    "    \n",
    "    f1_ab.append(metrics.f1_score(y_test, ab_predictions))\n",
    "\n",
    "    print(classification_report(y_test,ab_predictions))\n",
    "    print(accuracy_score(y_test, ab_predictions))\n",
    "\n",
    "rdf = pd.DataFrame( {'trial': range(10), 'F1': f1_ab})\n",
    "rdf.plot.bar(x='trial', y='F1')"
   ]
  },
  {
   "cell_type": "code",
   "execution_count": 38,
   "metadata": {},
   "outputs": [
    {
     "data": {
      "text/plain": [
       "0.6338825008056388"
      ]
     },
     "execution_count": 38,
     "metadata": {},
     "output_type": "execute_result"
    }
   ],
   "source": [
    "mean(f1_ab)"
   ]
  },
  {
   "cell_type": "markdown",
   "metadata": {},
   "source": [
    "### Gradient Boosting"
   ]
  },
  {
   "cell_type": "code",
   "execution_count": 39,
   "metadata": {},
   "outputs": [
    {
     "name": "stdout",
     "output_type": "stream",
     "text": [
      "              precision    recall  f1-score   support\n",
      "\n",
      "           0       0.88      0.94      0.91      1555\n",
      "           1       0.69      0.49      0.57       394\n",
      "\n",
      "    accuracy                           0.85      1949\n",
      "   macro avg       0.79      0.72      0.74      1949\n",
      "weighted avg       0.84      0.85      0.84      1949\n",
      "\n",
      "0.8527449974345819\n",
      "              precision    recall  f1-score   support\n",
      "\n",
      "           0       0.89      0.93      0.91      1565\n",
      "           1       0.66      0.53      0.59       384\n",
      "\n",
      "    accuracy                           0.85      1949\n",
      "   macro avg       0.77      0.73      0.75      1949\n",
      "weighted avg       0.84      0.85      0.85      1949\n",
      "\n",
      "0.8532580810672139\n",
      "              precision    recall  f1-score   support\n",
      "\n",
      "           0       0.86      0.93      0.89      1535\n",
      "           1       0.63      0.43      0.51       414\n",
      "\n",
      "    accuracy                           0.83      1949\n",
      "   macro avg       0.74      0.68      0.70      1949\n",
      "weighted avg       0.81      0.83      0.81      1949\n",
      "\n",
      "0.8250384812724474\n",
      "              precision    recall  f1-score   support\n",
      "\n",
      "           0       0.89      0.94      0.91      1571\n",
      "           1       0.66      0.52      0.58       378\n",
      "\n",
      "    accuracy                           0.85      1949\n",
      "   macro avg       0.77      0.73      0.75      1949\n",
      "weighted avg       0.84      0.85      0.85      1949\n",
      "\n",
      "0.8542842483324782\n",
      "              precision    recall  f1-score   support\n",
      "\n",
      "           0       0.87      0.94      0.91      1554\n",
      "           1       0.66      0.47      0.55       395\n",
      "\n",
      "    accuracy                           0.84      1949\n",
      "   macro avg       0.77      0.70      0.73      1949\n",
      "weighted avg       0.83      0.84      0.83      1949\n",
      "\n",
      "0.8440225756798359\n",
      "              precision    recall  f1-score   support\n",
      "\n",
      "           0       0.89      0.94      0.92      1586\n",
      "           1       0.67      0.51      0.58       363\n",
      "\n",
      "    accuracy                           0.86      1949\n",
      "   macro avg       0.78      0.73      0.75      1949\n",
      "weighted avg       0.85      0.86      0.86      1949\n",
      "\n",
      "0.8624935864545921\n",
      "              precision    recall  f1-score   support\n",
      "\n",
      "           0       0.88      0.94      0.91      1568\n",
      "           1       0.68      0.48      0.56       381\n",
      "\n",
      "    accuracy                           0.85      1949\n",
      "   macro avg       0.78      0.71      0.74      1949\n",
      "weighted avg       0.84      0.85      0.84      1949\n",
      "\n",
      "0.8532580810672139\n",
      "              precision    recall  f1-score   support\n",
      "\n",
      "           0       0.88      0.94      0.91      1565\n",
      "           1       0.65      0.49      0.56       384\n",
      "\n",
      "    accuracy                           0.85      1949\n",
      "   macro avg       0.77      0.71      0.73      1949\n",
      "weighted avg       0.84      0.85      0.84      1949\n",
      "\n",
      "0.8476141611082606\n",
      "              precision    recall  f1-score   support\n",
      "\n",
      "           0       0.89      0.93      0.91      1580\n",
      "           1       0.63      0.50      0.56       369\n",
      "\n",
      "    accuracy                           0.85      1949\n",
      "   macro avg       0.76      0.72      0.73      1949\n",
      "weighted avg       0.84      0.85      0.84      1949\n",
      "\n",
      "0.849153412006157\n",
      "              precision    recall  f1-score   support\n",
      "\n",
      "           0       0.88      0.94      0.91      1570\n",
      "           1       0.65      0.48      0.55       379\n",
      "\n",
      "    accuracy                           0.85      1949\n",
      "   macro avg       0.76      0.71      0.73      1949\n",
      "weighted avg       0.84      0.85      0.84      1949\n",
      "\n",
      "0.8476141611082606\n"
     ]
    },
    {
     "data": {
      "text/plain": [
       "<AxesSubplot:xlabel='trial'>"
      ]
     },
     "execution_count": 39,
     "metadata": {},
     "output_type": "execute_result"
    },
    {
     "data": {
      "image/png": "[encoded data removed]",
      "text/plain": [
       "<Figure size 432x288 with 1 Axes>"
      ]
     },
     "metadata": {
      "needs_background": "light"
     },
     "output_type": "display_data"
    }
   ],
   "source": [
    "from sklearn.ensemble import GradientBoostingClassifier\n",
    "f1_gb = []\n",
    "\n",
    "for i in range(10):\n",
    "    X_train, X_test, y_train, y_test = train_test_split(X, \n",
    "                                                        y, test_size=0.30, \n",
    "                                                        random_state=random.randint(1,1000))\n",
    "    \n",
    "    gradientModel = GradientBoostingClassifier(n_estimators=100,learning_rate=0.4)\n",
    "    gradientModel.fit(X_train, y_train)\n",
    "    gb_predictions = gradientModel.predict(X_test)\n",
    "    \n",
    "    f1_gb.append(metrics.f1_score(y_test, gb_predictions))\n",
    "\n",
    "    print(classification_report(y_test,gb_predictions))\n",
    "    print(accuracy_score(y_test, gb_predictions))\n",
    "\n",
    "rdf = pd.DataFrame( {'trial': range(10), 'F1': f1_gb})\n",
    "rdf.plot.bar(x='trial', y='F1')"
   ]
  },
  {
   "cell_type": "code",
   "execution_count": 40,
   "metadata": {},
   "outputs": [
    {
     "data": {
      "text/plain": [
       "0.561021130934144"
      ]
     },
     "execution_count": 40,
     "metadata": {},
     "output_type": "execute_result"
    }
   ],
   "source": [
    "mean(f1_gb)"
   ]
  },
  {
   "cell_type": "markdown",
   "metadata": {},
   "source": [
    "### XGBoost"
   ]
  },
  {
   "cell_type": "code",
   "execution_count": 41,
   "metadata": {
    "scrolled": true
   },
   "outputs": [
    {
     "name": "stdout",
     "output_type": "stream",
     "text": [
      "              precision    recall  f1-score   support\n",
      "\n",
      "           0       0.91      0.95      0.93      1572\n",
      "           1       0.74      0.59      0.65       377\n",
      "\n",
      "    accuracy                           0.88      1949\n",
      "   macro avg       0.82      0.77      0.79      1949\n",
      "weighted avg       0.87      0.88      0.87      1949\n",
      "\n",
      "0.8799384299640841\n",
      "              precision    recall  f1-score   support\n",
      "\n",
      "           0       0.91      0.95      0.93      1569\n",
      "           1       0.74      0.61      0.67       380\n",
      "\n",
      "    accuracy                           0.88      1949\n",
      "   macro avg       0.82      0.78      0.80      1949\n",
      "weighted avg       0.88      0.88      0.88      1949\n",
      "\n",
      "0.8814776808619805\n",
      "              precision    recall  f1-score   support\n",
      "\n",
      "           0       0.90      0.94      0.92      1578\n",
      "           1       0.68      0.57      0.62       371\n",
      "\n",
      "    accuracy                           0.87      1949\n",
      "   macro avg       0.79      0.75      0.77      1949\n",
      "weighted avg       0.86      0.87      0.86      1949\n",
      "\n",
      "0.8671113391482812\n",
      "              precision    recall  f1-score   support\n",
      "\n",
      "           0       0.91      0.94      0.92      1583\n",
      "           1       0.70      0.59      0.64       366\n",
      "\n",
      "    accuracy                           0.87      1949\n",
      "   macro avg       0.80      0.76      0.78      1949\n",
      "weighted avg       0.87      0.87      0.87      1949\n",
      "\n",
      "0.874807593637763\n",
      "              precision    recall  f1-score   support\n",
      "\n",
      "           0       0.92      0.94      0.93      1587\n",
      "           1       0.71      0.63      0.67       362\n",
      "\n",
      "    accuracy                           0.88      1949\n",
      "   macro avg       0.81      0.79      0.80      1949\n",
      "weighted avg       0.88      0.88      0.88      1949\n",
      "\n",
      "0.883530015392509\n",
      "              precision    recall  f1-score   support\n",
      "\n",
      "           0       0.89      0.95      0.92      1526\n",
      "           1       0.77      0.58      0.66       423\n",
      "\n",
      "    accuracy                           0.87      1949\n",
      "   macro avg       0.83      0.77      0.79      1949\n",
      "weighted avg       0.87      0.87      0.86      1949\n",
      "\n",
      "0.8717290918419702\n",
      "              precision    recall  f1-score   support\n",
      "\n",
      "           0       0.90      0.95      0.92      1561\n",
      "           1       0.72      0.56      0.63       388\n",
      "\n",
      "    accuracy                           0.87      1949\n",
      "   macro avg       0.81      0.75      0.78      1949\n",
      "weighted avg       0.86      0.87      0.86      1949\n",
      "\n",
      "0.8696767573114418\n",
      "              precision    recall  f1-score   support\n",
      "\n",
      "           0       0.90      0.94      0.92      1555\n",
      "           1       0.71      0.60      0.65       394\n",
      "\n",
      "    accuracy                           0.87      1949\n",
      "   macro avg       0.81      0.77      0.79      1949\n",
      "weighted avg       0.86      0.87      0.87      1949\n",
      "\n",
      "0.8701898409440739\n",
      "              precision    recall  f1-score   support\n",
      "\n",
      "           0       0.90      0.95      0.92      1556\n",
      "           1       0.73      0.58      0.65       393\n",
      "\n",
      "    accuracy                           0.87      1949\n",
      "   macro avg       0.82      0.76      0.79      1949\n",
      "weighted avg       0.87      0.87      0.87      1949\n",
      "\n",
      "0.8727552591072345\n",
      "              precision    recall  f1-score   support\n",
      "\n",
      "           0       0.91      0.96      0.93      1571\n",
      "           1       0.78      0.58      0.67       378\n",
      "\n",
      "    accuracy                           0.89      1949\n",
      "   macro avg       0.84      0.77      0.80      1949\n",
      "weighted avg       0.88      0.89      0.88      1949\n",
      "\n",
      "0.887634684453566\n"
     ]
    },
    {
     "data": {
      "text/plain": [
       "<AxesSubplot:xlabel='trial'>"
      ]
     },
     "execution_count": 41,
     "metadata": {},
     "output_type": "execute_result"
    },
    {
     "data": {
      "image/png": "[encoded data removed]",
      "text/plain": [
       "<Figure size 432x288 with 1 Axes>"
      ]
     },
     "metadata": {
      "needs_background": "light"
     },
     "output_type": "display_data"
    }
   ],
   "source": [
    "import xgboost as xgb\n",
    "f1_xgb = []\n",
    "\n",
    "for i in range(10):\n",
    "    X_train, X_test, y_train, y_test = train_test_split(X, \n",
    "                                                        y, test_size=0.30, \n",
    "                                                        random_state=random.randint(1,1000))\n",
    "    \n",
    "    xgbModel = xgb.XGBClassifier(learning_rate=0.4)\n",
    "    xgbModel.fit(X_train, y_train)\n",
    "    xgb_predictions = xgbModel.predict(X_test)\n",
    "    \n",
    "    f1_xgb.append(metrics.f1_score(y_test, xgb_predictions))\n",
    "\n",
    "    print(classification_report(y_test,xgb_predictions))\n",
    "    print(accuracy_score(y_test, xgb_predictions))\n",
    "\n",
    "rdf = pd.DataFrame( {'trial': range(10), 'F1': f1_xgb})\n",
    "rdf.plot.bar(x='trial', y='F1')"
   ]
  },
  {
   "cell_type": "code",
   "execution_count": 42,
   "metadata": {},
   "outputs": [
    {
     "data": {
      "text/plain": [
       "0.651225437696672"
      ]
     },
     "execution_count": 42,
     "metadata": {},
     "output_type": "execute_result"
    }
   ],
   "source": [
    "mean(f1_xgb)"
   ]
  },
  {
   "cell_type": "markdown",
   "metadata": {},
   "source": [
    "#### The XGBoost classifier has the best performance out of any of the models used. Moving on, we'll be using the XGBoost ensemble instead of the simple Random Forest classifier"
   ]
  },
  {
   "cell_type": "markdown",
   "metadata": {},
   "source": [
    "# Is the best model better with red wine or white wine?"
   ]
  },
  {
   "cell_type": "markdown",
   "metadata": {},
   "source": [
    "The above model already excludes red wine"
   ]
  },
  {
   "cell_type": "code",
   "execution_count": 43,
   "metadata": {},
   "outputs": [
    {
     "data": {
      "text/html": [
       "<div>\n",
       "<style scoped>\n",
       "    .dataframe tbody tr th:only-of-type {\n",
       "        vertical-align: middle;\n",
       "    }\n",
       "\n",
       "    .dataframe tbody tr th {\n",
       "        vertical-align: top;\n",
       "    }\n",
       "\n",
       "    .dataframe thead th {\n",
       "        text-align: right;\n",
       "    }\n",
       "</style>\n",
       "<table border=\"1\" class=\"dataframe\">\n",
       "  <thead>\n",
       "    <tr style=\"text-align: right;\">\n",
       "      <th></th>\n",
       "      <th>fixed acidity</th>\n",
       "      <th>volatile acidity</th>\n",
       "      <th>citric acid</th>\n",
       "      <th>residual sugar</th>\n",
       "      <th>chlorides</th>\n",
       "      <th>free sulfur dioxide</th>\n",
       "      <th>total sulfur dioxide</th>\n",
       "      <th>density</th>\n",
       "      <th>sulphates</th>\n",
       "      <th>alcohol</th>\n",
       "      <th>type_red</th>\n",
       "      <th>pHValue_acidic</th>\n",
       "      <th>pHValue_extremly acidic</th>\n",
       "      <th>pHValue_lightly acidic</th>\n",
       "      <th>pHValue_midly acidic</th>\n",
       "      <th>pHValue_quite acidic</th>\n",
       "      <th>pHValue_very acidic</th>\n",
       "      <th>taste_good</th>\n",
       "    </tr>\n",
       "  </thead>\n",
       "  <tbody>\n",
       "    <tr>\n",
       "      <th>0</th>\n",
       "      <td>0.264463</td>\n",
       "      <td>0.126667</td>\n",
       "      <td>0.216867</td>\n",
       "      <td>0.648387</td>\n",
       "      <td>0.059801</td>\n",
       "      <td>0.302405</td>\n",
       "      <td>0.454924</td>\n",
       "      <td>0.598965</td>\n",
       "      <td>0.129213</td>\n",
       "      <td>0.115942</td>\n",
       "      <td>0</td>\n",
       "      <td>0</td>\n",
       "      <td>0</td>\n",
       "      <td>0</td>\n",
       "      <td>0</td>\n",
       "      <td>0</td>\n",
       "      <td>1</td>\n",
       "      <td>0</td>\n",
       "    </tr>\n",
       "    <tr>\n",
       "      <th>1</th>\n",
       "      <td>0.206612</td>\n",
       "      <td>0.146667</td>\n",
       "      <td>0.204819</td>\n",
       "      <td>0.032258</td>\n",
       "      <td>0.066445</td>\n",
       "      <td>0.089347</td>\n",
       "      <td>0.349515</td>\n",
       "      <td>0.297111</td>\n",
       "      <td>0.151685</td>\n",
       "      <td>0.217391</td>\n",
       "      <td>0</td>\n",
       "      <td>0</td>\n",
       "      <td>0</td>\n",
       "      <td>0</td>\n",
       "      <td>0</td>\n",
       "      <td>1</td>\n",
       "      <td>0</td>\n",
       "      <td>0</td>\n",
       "    </tr>\n",
       "    <tr>\n",
       "      <th>2</th>\n",
       "      <td>0.355372</td>\n",
       "      <td>0.133333</td>\n",
       "      <td>0.240964</td>\n",
       "      <td>0.203226</td>\n",
       "      <td>0.068106</td>\n",
       "      <td>0.199313</td>\n",
       "      <td>0.252427</td>\n",
       "      <td>0.344545</td>\n",
       "      <td>0.123596</td>\n",
       "      <td>0.304348</td>\n",
       "      <td>0</td>\n",
       "      <td>0</td>\n",
       "      <td>0</td>\n",
       "      <td>0</td>\n",
       "      <td>0</td>\n",
       "      <td>1</td>\n",
       "      <td>0</td>\n",
       "      <td>0</td>\n",
       "    </tr>\n",
       "    <tr>\n",
       "      <th>3</th>\n",
       "      <td>0.280992</td>\n",
       "      <td>0.100000</td>\n",
       "      <td>0.192771</td>\n",
       "      <td>0.254839</td>\n",
       "      <td>0.081395</td>\n",
       "      <td>0.316151</td>\n",
       "      <td>0.499307</td>\n",
       "      <td>0.366106</td>\n",
       "      <td>0.101124</td>\n",
       "      <td>0.275362</td>\n",
       "      <td>0</td>\n",
       "      <td>0</td>\n",
       "      <td>0</td>\n",
       "      <td>0</td>\n",
       "      <td>0</td>\n",
       "      <td>0</td>\n",
       "      <td>1</td>\n",
       "      <td>0</td>\n",
       "    </tr>\n",
       "    <tr>\n",
       "      <th>4</th>\n",
       "      <td>0.280992</td>\n",
       "      <td>0.100000</td>\n",
       "      <td>0.192771</td>\n",
       "      <td>0.254839</td>\n",
       "      <td>0.081395</td>\n",
       "      <td>0.316151</td>\n",
       "      <td>0.499307</td>\n",
       "      <td>0.366106</td>\n",
       "      <td>0.101124</td>\n",
       "      <td>0.275362</td>\n",
       "      <td>0</td>\n",
       "      <td>0</td>\n",
       "      <td>0</td>\n",
       "      <td>0</td>\n",
       "      <td>0</td>\n",
       "      <td>0</td>\n",
       "      <td>1</td>\n",
       "      <td>0</td>\n",
       "    </tr>\n",
       "    <tr>\n",
       "      <th>...</th>\n",
       "      <td>...</td>\n",
       "      <td>...</td>\n",
       "      <td>...</td>\n",
       "      <td>...</td>\n",
       "      <td>...</td>\n",
       "      <td>...</td>\n",
       "      <td>...</td>\n",
       "      <td>...</td>\n",
       "      <td>...</td>\n",
       "      <td>...</td>\n",
       "      <td>...</td>\n",
       "      <td>...</td>\n",
       "      <td>...</td>\n",
       "      <td>...</td>\n",
       "      <td>...</td>\n",
       "      <td>...</td>\n",
       "      <td>...</td>\n",
       "      <td>...</td>\n",
       "    </tr>\n",
       "    <tr>\n",
       "      <th>6491</th>\n",
       "      <td>0.198347</td>\n",
       "      <td>0.346667</td>\n",
       "      <td>0.048193</td>\n",
       "      <td>0.045161</td>\n",
       "      <td>0.134551</td>\n",
       "      <td>0.213058</td>\n",
       "      <td>0.105409</td>\n",
       "      <td>0.335921</td>\n",
       "      <td>0.202247</td>\n",
       "      <td>0.362319</td>\n",
       "      <td>1</td>\n",
       "      <td>0</td>\n",
       "      <td>0</td>\n",
       "      <td>0</td>\n",
       "      <td>1</td>\n",
       "      <td>0</td>\n",
       "      <td>0</td>\n",
       "      <td>0</td>\n",
       "    </tr>\n",
       "    <tr>\n",
       "      <th>6492</th>\n",
       "      <td>0.173554</td>\n",
       "      <td>0.313333</td>\n",
       "      <td>0.060241</td>\n",
       "      <td>0.051613</td>\n",
       "      <td>0.088040</td>\n",
       "      <td>0.261168</td>\n",
       "      <td>0.124827</td>\n",
       "      <td>0.345408</td>\n",
       "      <td>0.303371</td>\n",
       "      <td>0.463768</td>\n",
       "      <td>1</td>\n",
       "      <td>0</td>\n",
       "      <td>0</td>\n",
       "      <td>0</td>\n",
       "      <td>1</td>\n",
       "      <td>0</td>\n",
       "      <td>0</td>\n",
       "      <td>0</td>\n",
       "    </tr>\n",
       "    <tr>\n",
       "      <th>6493</th>\n",
       "      <td>0.206612</td>\n",
       "      <td>0.286667</td>\n",
       "      <td>0.078313</td>\n",
       "      <td>0.054839</td>\n",
       "      <td>0.111296</td>\n",
       "      <td>0.192440</td>\n",
       "      <td>0.094313</td>\n",
       "      <td>0.372143</td>\n",
       "      <td>0.297753</td>\n",
       "      <td>0.434783</td>\n",
       "      <td>1</td>\n",
       "      <td>0</td>\n",
       "      <td>0</td>\n",
       "      <td>0</td>\n",
       "      <td>1</td>\n",
       "      <td>0</td>\n",
       "      <td>0</td>\n",
       "      <td>0</td>\n",
       "    </tr>\n",
       "    <tr>\n",
       "      <th>6494</th>\n",
       "      <td>0.173554</td>\n",
       "      <td>0.376667</td>\n",
       "      <td>0.072289</td>\n",
       "      <td>0.045161</td>\n",
       "      <td>0.109635</td>\n",
       "      <td>0.213058</td>\n",
       "      <td>0.105409</td>\n",
       "      <td>0.360500</td>\n",
       "      <td>0.275281</td>\n",
       "      <td>0.318841</td>\n",
       "      <td>1</td>\n",
       "      <td>0</td>\n",
       "      <td>0</td>\n",
       "      <td>0</td>\n",
       "      <td>1</td>\n",
       "      <td>0</td>\n",
       "      <td>0</td>\n",
       "      <td>0</td>\n",
       "    </tr>\n",
       "    <tr>\n",
       "      <th>6495</th>\n",
       "      <td>0.181818</td>\n",
       "      <td>0.153333</td>\n",
       "      <td>0.283133</td>\n",
       "      <td>0.096774</td>\n",
       "      <td>0.096346</td>\n",
       "      <td>0.116838</td>\n",
       "      <td>0.099861</td>\n",
       "      <td>0.361363</td>\n",
       "      <td>0.247191</td>\n",
       "      <td>0.434783</td>\n",
       "      <td>1</td>\n",
       "      <td>0</td>\n",
       "      <td>0</td>\n",
       "      <td>0</td>\n",
       "      <td>0</td>\n",
       "      <td>1</td>\n",
       "      <td>0</td>\n",
       "      <td>0</td>\n",
       "    </tr>\n",
       "  </tbody>\n",
       "</table>\n",
       "<p>6496 rows × 18 columns</p>\n",
       "</div>"
      ],
      "text/plain": [
       "      fixed acidity  volatile acidity  citric acid  residual sugar  chlorides  \\\n",
       "0          0.264463          0.126667     0.216867        0.648387   0.059801   \n",
       "1          0.206612          0.146667     0.204819        0.032258   0.066445   \n",
       "2          0.355372          0.133333     0.240964        0.203226   0.068106   \n",
       "3          0.280992          0.100000     0.192771        0.254839   0.081395   \n",
       "4          0.280992          0.100000     0.192771        0.254839   0.081395   \n",
       "...             ...               ...          ...             ...        ...   \n",
       "6491       0.198347          0.346667     0.048193        0.045161   0.134551   \n",
       "6492       0.173554          0.313333     0.060241        0.051613   0.088040   \n",
       "6493       0.206612          0.286667     0.078313        0.054839   0.111296   \n",
       "6494       0.173554          0.376667     0.072289        0.045161   0.109635   \n",
       "6495       0.181818          0.153333     0.283133        0.096774   0.096346   \n",
       "\n",
       "      free sulfur dioxide  total sulfur dioxide   density  sulphates  \\\n",
       "0                0.302405              0.454924  0.598965   0.129213   \n",
       "1                0.089347              0.349515  0.297111   0.151685   \n",
       "2                0.199313              0.252427  0.344545   0.123596   \n",
       "3                0.316151              0.499307  0.366106   0.101124   \n",
       "4                0.316151              0.499307  0.366106   0.101124   \n",
       "...                   ...                   ...       ...        ...   \n",
       "6491             0.213058              0.105409  0.335921   0.202247   \n",
       "6492             0.261168              0.124827  0.345408   0.303371   \n",
       "6493             0.192440              0.094313  0.372143   0.297753   \n",
       "6494             0.213058              0.105409  0.360500   0.275281   \n",
       "6495             0.116838              0.099861  0.361363   0.247191   \n",
       "\n",
       "       alcohol  type_red  pHValue_acidic  pHValue_extremly acidic  \\\n",
       "0     0.115942         0               0                        0   \n",
       "1     0.217391         0               0                        0   \n",
       "2     0.304348         0               0                        0   \n",
       "3     0.275362         0               0                        0   \n",
       "4     0.275362         0               0                        0   \n",
       "...        ...       ...             ...                      ...   \n",
       "6491  0.362319         1               0                        0   \n",
       "6492  0.463768         1               0                        0   \n",
       "6493  0.434783         1               0                        0   \n",
       "6494  0.318841         1               0                        0   \n",
       "6495  0.434783         1               0                        0   \n",
       "\n",
       "      pHValue_lightly acidic  pHValue_midly acidic  pHValue_quite acidic  \\\n",
       "0                          0                     0                     0   \n",
       "1                          0                     0                     1   \n",
       "2                          0                     0                     1   \n",
       "3                          0                     0                     0   \n",
       "4                          0                     0                     0   \n",
       "...                      ...                   ...                   ...   \n",
       "6491                       0                     1                     0   \n",
       "6492                       0                     1                     0   \n",
       "6493                       0                     1                     0   \n",
       "6494                       0                     1                     0   \n",
       "6495                       0                     0                     1   \n",
       "\n",
       "      pHValue_very acidic  taste_good  \n",
       "0                       1           0  \n",
       "1                       0           0  \n",
       "2                       0           0  \n",
       "3                       1           0  \n",
       "4                       1           0  \n",
       "...                   ...         ...  \n",
       "6491                    0           0  \n",
       "6492                    0           0  \n",
       "6493                    0           0  \n",
       "6494                    0           0  \n",
       "6495                    0           0  \n",
       "\n",
       "[6496 rows x 18 columns]"
      ]
     },
     "execution_count": 43,
     "metadata": {},
     "output_type": "execute_result"
    }
   ],
   "source": [
    "red_dummy_df = pd.get_dummies(df[categorical_features])\n",
    "red_dummy_df = red_dummy_df.drop(['type_white','taste_bad','taste_normal'],axis=1)\n",
    "\n",
    "red_dummy_df.reset_index(inplace=True, drop=True)\n",
    "\n",
    "red_full_df = pd.concat([scaled_df, red_dummy_df], axis=1)\n",
    "red_full_df"
   ]
  },
  {
   "cell_type": "code",
   "execution_count": 44,
   "metadata": {},
   "outputs": [],
   "source": [
    "X=red_full_df.drop('taste_good',axis=1)\n",
    "y=red_full_df['taste_good']"
   ]
  },
  {
   "cell_type": "code",
   "execution_count": 45,
   "metadata": {},
   "outputs": [
    {
     "name": "stdout",
     "output_type": "stream",
     "text": [
      "              precision    recall  f1-score   support\n",
      "\n",
      "           0       0.90      0.94      0.92      1558\n",
      "           1       0.72      0.60      0.65       391\n",
      "\n",
      "    accuracy                           0.87      1949\n",
      "   macro avg       0.81      0.77      0.79      1949\n",
      "weighted avg       0.87      0.87      0.87      1949\n",
      "\n",
      "0.8722421754746024\n",
      "              precision    recall  f1-score   support\n",
      "\n",
      "           0       0.90      0.95      0.92      1580\n",
      "           1       0.71      0.56      0.63       369\n",
      "\n",
      "    accuracy                           0.87      1949\n",
      "   macro avg       0.80      0.75      0.77      1949\n",
      "weighted avg       0.87      0.87      0.87      1949\n",
      "\n",
      "0.8727552591072345\n",
      "              precision    recall  f1-score   support\n",
      "\n",
      "           0       0.91      0.94      0.92      1571\n",
      "           1       0.71      0.59      0.65       378\n",
      "\n",
      "    accuracy                           0.87      1949\n",
      "   macro avg       0.81      0.77      0.79      1949\n",
      "weighted avg       0.87      0.87      0.87      1949\n",
      "\n",
      "0.874807593637763\n",
      "              precision    recall  f1-score   support\n",
      "\n",
      "           0       0.89      0.94      0.91      1543\n",
      "           1       0.70      0.55      0.61       406\n",
      "\n",
      "    accuracy                           0.86      1949\n",
      "   macro avg       0.79      0.74      0.76      1949\n",
      "weighted avg       0.85      0.86      0.85      1949\n",
      "\n",
      "0.8563365828630066\n",
      "              precision    recall  f1-score   support\n",
      "\n",
      "           0       0.91      0.94      0.93      1562\n",
      "           1       0.73      0.61      0.67       387\n",
      "\n",
      "    accuracy                           0.88      1949\n",
      "   macro avg       0.82      0.78      0.80      1949\n",
      "weighted avg       0.87      0.88      0.88      1949\n",
      "\n",
      "0.879425346331452\n",
      "              precision    recall  f1-score   support\n",
      "\n",
      "           0       0.90      0.94      0.92      1581\n",
      "           1       0.71      0.57      0.63       368\n",
      "\n",
      "    accuracy                           0.87      1949\n",
      "   macro avg       0.81      0.76      0.78      1949\n",
      "weighted avg       0.87      0.87      0.87      1949\n",
      "\n",
      "0.8742945100051308\n",
      "              precision    recall  f1-score   support\n",
      "\n",
      "           0       0.91      0.94      0.93      1591\n",
      "           1       0.70      0.60      0.64       358\n",
      "\n",
      "    accuracy                           0.88      1949\n",
      "   macro avg       0.81      0.77      0.79      1949\n",
      "weighted avg       0.87      0.88      0.88      1949\n",
      "\n",
      "0.87891226269882\n",
      "              precision    recall  f1-score   support\n",
      "\n",
      "           0       0.90      0.95      0.92      1573\n",
      "           1       0.73      0.56      0.63       376\n",
      "\n",
      "    accuracy                           0.87      1949\n",
      "   macro avg       0.81      0.75      0.78      1949\n",
      "weighted avg       0.87      0.87      0.87      1949\n",
      "\n",
      "0.8737814263724987\n",
      "              precision    recall  f1-score   support\n",
      "\n",
      "           0       0.89      0.96      0.92      1565\n",
      "           1       0.75      0.52      0.62       384\n",
      "\n",
      "    accuracy                           0.87      1949\n",
      "   macro avg       0.82      0.74      0.77      1949\n",
      "weighted avg       0.86      0.87      0.86      1949\n",
      "\n",
      "0.8717290918419702\n",
      "              precision    recall  f1-score   support\n",
      "\n",
      "           0       0.91      0.94      0.93      1577\n",
      "           1       0.72      0.62      0.67       372\n",
      "\n",
      "    accuracy                           0.88      1949\n",
      "   macro avg       0.82      0.78      0.80      1949\n",
      "weighted avg       0.88      0.88      0.88      1949\n",
      "\n",
      "0.8825038481272447\n"
     ]
    },
    {
     "data": {
      "text/plain": [
       "<AxesSubplot:xlabel='trial'>"
      ]
     },
     "execution_count": 45,
     "metadata": {},
     "output_type": "execute_result"
    },
    {
     "data": {
      "image/png": "[encoded data removed]",
      "text/plain": [
       "<Figure size 432x288 with 1 Axes>"
      ]
     },
     "metadata": {
      "needs_background": "light"
     },
     "output_type": "display_data"
    }
   ],
   "source": [
    "f1_xgb = []\n",
    "\n",
    "for i in range(10):\n",
    "    X_train, X_test, y_train, y_test = train_test_split(X, \n",
    "                                                        y, test_size=0.30, \n",
    "                                                        random_state=random.randint(1,1000))\n",
    "    \n",
    "    xgbModel = xgb.XGBClassifier(learning_rate=0.4)\n",
    "    xgbModel.fit(X_train, y_train)\n",
    "    xgb_predictions = xgbModel.predict(X_test)\n",
    "    \n",
    "    f1_xgb.append(metrics.f1_score(y_test, xgb_predictions))\n",
    "\n",
    "    print(classification_report(y_test,xgb_predictions))\n",
    "    print(accuracy_score(y_test, xgb_predictions))\n",
    "\n",
    "rdf = pd.DataFrame( {'trial': range(10), 'F1': f1_xgb})\n",
    "rdf.plot.bar(x='trial', y='F1')"
   ]
  },
  {
   "cell_type": "code",
   "execution_count": 46,
   "metadata": {},
   "outputs": [
    {
     "data": {
      "text/plain": [
       "0.6399071414829585"
      ]
     },
     "execution_count": 46,
     "metadata": {},
     "output_type": "execute_result"
    }
   ],
   "source": [
    "mean(f1_xgb)"
   ]
  },
  {
   "cell_type": "markdown",
   "metadata": {},
   "source": [
    "#### Using red wine or white wine for the model doesn't make much of a difference. They're similar in performances."
   ]
  },
  {
   "cell_type": "markdown",
   "metadata": {},
   "source": [
    "### Importance of pHValue"
   ]
  },
  {
   "cell_type": "code",
   "execution_count": 50,
   "metadata": {},
   "outputs": [],
   "source": [
    "noPH_df = pd.get_dummies(df[['type','taste']],drop_first=True)\n",
    "noPH_df = noPH_df.drop(['taste_normal'],axis=1)\n",
    "\n",
    "noPH_df.reset_index(inplace=True, drop=True)\n",
    "noPH_full_df = pd.concat([scaled_df, noPH_df], axis=1)\n",
    "\n",
    "noPH_full_df\n",
    "\n",
    "X=noPH_full_df.drop('taste_good',axis=1)\n",
    "y=noPH_full_df['taste_good']"
   ]
  },
  {
   "cell_type": "code",
   "execution_count": 51,
   "metadata": {},
   "outputs": [
    {
     "name": "stdout",
     "output_type": "stream",
     "text": [
      "              precision    recall  f1-score   support\n",
      "\n",
      "           0       0.89      0.96      0.92      1548\n",
      "           1       0.77      0.56      0.65       401\n",
      "\n",
      "    accuracy                           0.88      1949\n",
      "   macro avg       0.83      0.76      0.79      1949\n",
      "weighted avg       0.87      0.88      0.87      1949\n",
      "\n",
      "0.8753206772703951\n",
      "              precision    recall  f1-score   support\n",
      "\n",
      "           0       0.90      0.93      0.92      1571\n",
      "           1       0.66      0.58      0.62       378\n",
      "\n",
      "    accuracy                           0.86      1949\n",
      "   macro avg       0.78      0.75      0.77      1949\n",
      "weighted avg       0.86      0.86      0.86      1949\n",
      "\n",
      "0.8614674191893279\n",
      "              precision    recall  f1-score   support\n",
      "\n",
      "           0       0.89      0.94      0.91      1530\n",
      "           1       0.72      0.58      0.65       419\n",
      "\n",
      "    accuracy                           0.86      1949\n",
      "   macro avg       0.81      0.76      0.78      1949\n",
      "weighted avg       0.86      0.86      0.86      1949\n",
      "\n",
      "0.8619805028219599\n",
      "              precision    recall  f1-score   support\n",
      "\n",
      "           0       0.91      0.94      0.92      1570\n",
      "           1       0.70      0.59      0.64       379\n",
      "\n",
      "    accuracy                           0.87      1949\n",
      "   macro avg       0.80      0.77      0.78      1949\n",
      "weighted avg       0.87      0.87      0.87      1949\n",
      "\n",
      "0.8717290918419702\n",
      "              precision    recall  f1-score   support\n",
      "\n",
      "           0       0.90      0.94      0.92      1558\n",
      "           1       0.69      0.58      0.63       391\n",
      "\n",
      "    accuracy                           0.86      1949\n",
      "   macro avg       0.80      0.76      0.77      1949\n",
      "weighted avg       0.86      0.86      0.86      1949\n",
      "\n",
      "0.8640328373524885\n",
      "              precision    recall  f1-score   support\n",
      "\n",
      "           0       0.91      0.94      0.92      1571\n",
      "           1       0.71      0.61      0.66       378\n",
      "\n",
      "    accuracy                           0.88      1949\n",
      "   macro avg       0.81      0.78      0.79      1949\n",
      "weighted avg       0.87      0.88      0.87      1949\n",
      "\n",
      "0.8753206772703951\n",
      "              precision    recall  f1-score   support\n",
      "\n",
      "           0       0.89      0.96      0.92      1558\n",
      "           1       0.75      0.54      0.63       391\n",
      "\n",
      "    accuracy                           0.87      1949\n",
      "   macro avg       0.82      0.75      0.78      1949\n",
      "weighted avg       0.86      0.87      0.86      1949\n",
      "\n",
      "0.8727552591072345\n",
      "              precision    recall  f1-score   support\n",
      "\n",
      "           0       0.91      0.94      0.93      1561\n",
      "           1       0.73      0.61      0.67       388\n",
      "\n",
      "    accuracy                           0.88      1949\n",
      "   macro avg       0.82      0.78      0.80      1949\n",
      "weighted avg       0.87      0.88      0.87      1949\n",
      "\n",
      "0.87891226269882\n",
      "              precision    recall  f1-score   support\n",
      "\n",
      "           0       0.89      0.95      0.92      1542\n",
      "           1       0.75      0.57      0.65       407\n",
      "\n",
      "    accuracy                           0.87      1949\n",
      "   macro avg       0.82      0.76      0.79      1949\n",
      "weighted avg       0.86      0.87      0.86      1949\n",
      "\n",
      "0.870702924576706\n",
      "              precision    recall  f1-score   support\n",
      "\n",
      "           0       0.91      0.94      0.92      1577\n",
      "           1       0.71      0.60      0.65       372\n",
      "\n",
      "    accuracy                           0.88      1949\n",
      "   macro avg       0.81      0.77      0.79      1949\n",
      "weighted avg       0.87      0.88      0.87      1949\n",
      "\n",
      "0.8758337609030272\n"
     ]
    },
    {
     "data": {
      "text/plain": [
       "<AxesSubplot:xlabel='trial'>"
      ]
     },
     "execution_count": 51,
     "metadata": {},
     "output_type": "execute_result"
    },
    {
     "data": {
      "image/png": "[encoded data removed]",
      "text/plain": [
       "<Figure size 432x288 with 1 Axes>"
      ]
     },
     "metadata": {
      "needs_background": "light"
     },
     "output_type": "display_data"
    }
   ],
   "source": [
    "f1_xgb = []\n",
    "\n",
    "for i in range(10):\n",
    "    X_train, X_test, y_train, y_test = train_test_split(X, \n",
    "                                                        y, test_size=0.30, \n",
    "                                                        random_state=random.randint(1,1000))\n",
    "    \n",
    "    xgbModel = xgb.XGBClassifier(learning_rate=0.4)\n",
    "    xgbModel.fit(X_train, y_train)\n",
    "    xgb_predictions = xgbModel.predict(X_test)\n",
    "    \n",
    "    f1_xgb.append(metrics.f1_score(y_test, xgb_predictions))\n",
    "\n",
    "    print(classification_report(y_test,xgb_predictions))\n",
    "    print(accuracy_score(y_test, xgb_predictions))\n",
    "\n",
    "rdf = pd.DataFrame( {'trial': range(10), 'F1': f1_xgb})\n",
    "rdf.plot.bar(x='trial', y='F1')"
   ]
  },
  {
   "cell_type": "code",
   "execution_count": 52,
   "metadata": {},
   "outputs": [
    {
     "data": {
      "text/plain": [
       "0.6436849827884807"
      ]
     },
     "execution_count": 52,
     "metadata": {},
     "output_type": "execute_result"
    }
   ],
   "source": [
    "mean(f1_xgb)"
   ]
  },
  {
   "cell_type": "markdown",
   "metadata": {},
   "source": [
    "#### There doesn't seem to be a significant impact by excluding the pH columns from the data frame. The average f1-score isn't far off from the averages of sklearn RandomForest, XGBoost, and AdaBoost."
   ]
  },
  {
   "cell_type": "markdown",
   "metadata": {},
   "source": [
    "In conclusion, ensemble methods can indeed improve your models even if it's by a small amount. \n",
    "Logistic and Decision Trees typically earned an f1-score averaging above .3 for the former and .5 for the latter \n",
    "\n",
    "In comparison, the ensemble methods did noticeably better (in both the red wine and white wine models) with f1-scores averaging above .60 (AdaBoost is the exception with a mean barely above .55 but is still noticeably better than the non-ensemble models)\n",
    "\n",
    "In terms of f1-score averages: \n",
    "#### XGBoost > RandomForest (sklearn) > AdaBoost > GradientBoosting > DecisionTree > Logistic   "
   ]
  },
  {
   "cell_type": "code",
   "execution_count": null,
   "metadata": {},
   "outputs": [],
   "source": []
  }
 ],
 "metadata": {
  "kernelspec": {
   "display_name": "Python 3 (ipykernel)",
   "language": "python",
   "name": "python3"
  },
  "language_info": {
   "codemirror_mode": {
    "name": "ipython",
    "version": 3
   },
   "file_extension": ".py",
   "mimetype": "text/x-python",
   "name": "python",
   "nbconvert_exporter": "python",
   "pygments_lexer": "ipython3",
   "version": "3.9.12"
  }
 },
 "nbformat": 4,
 "nbformat_minor": 2
}
