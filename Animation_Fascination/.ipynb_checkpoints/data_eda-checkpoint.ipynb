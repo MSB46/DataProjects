{
 "cells": [
  {
   "cell_type": "markdown",
   "id": "944e2998",
   "metadata": {},
   "source": [
    "## IMDb Animated Movie Exploratory Data Analysis\n",
    "\n",
    "Author: **Michael B (MSB46)**\n",
    "\n",
    "## Objective:\n",
    "\n",
    "The purpose of this notebook is to visualize and make observations on any patterns relating to each of the columns within the recently cleaned dataframe. More feature engineering will be done based on observed patterns. "
   ]
  },
  {
   "cell_type": "code",
   "execution_count": 1,
   "id": "c8259e62",
   "metadata": {},
   "outputs": [
    {
     "ename": "ModuleNotFoundError",
     "evalue": "No module named 'pandas'",
     "output_type": "error",
     "traceback": [
      "\u001b[0;31m---------------------------------------------------------------------------\u001b[0m",
      "\u001b[0;31mModuleNotFoundError\u001b[0m                       Traceback (most recent call last)",
      "Cell \u001b[0;32mIn[1], line 1\u001b[0m\n\u001b[0;32m----> 1\u001b[0m \u001b[38;5;28;01mimport\u001b[39;00m \u001b[38;5;21;01mpandas\u001b[39;00m \u001b[38;5;28;01mas\u001b[39;00m \u001b[38;5;21;01mpd\u001b[39;00m\n\u001b[1;32m      2\u001b[0m \u001b[38;5;28;01mimport\u001b[39;00m \u001b[38;5;21;01mmatplotlib\u001b[39;00m\u001b[38;5;21;01m.\u001b[39;00m\u001b[38;5;21;01mpyplot\u001b[39;00m \u001b[38;5;28;01mas\u001b[39;00m \u001b[38;5;21;01mplt\u001b[39;00m\n\u001b[1;32m      3\u001b[0m \u001b[38;5;28;01mimport\u001b[39;00m \u001b[38;5;21;01mseaborn\u001b[39;00m \u001b[38;5;28;01mas\u001b[39;00m \u001b[38;5;21;01msns\u001b[39;00m\n",
      "\u001b[0;31mModuleNotFoundError\u001b[0m: No module named 'pandas'"
     ]
    }
   ],
   "source": [
    "import pandas as pd\n",
    "import matplotlib.pyplot as plt\n",
    "import seaborn as sns\n",
    "import numpy as np\n",
    "from PIL import Image\n",
    "\n",
    "from datetime import date\n",
    "import cpi\n",
    "# cpi.update()\n",
    "\n",
    "import re\n",
    "import warnings\n",
    "warnings.filterwarnings('ignore')"
   ]
  },
  {
   "cell_type": "code",
   "execution_count": null,
   "id": "a6333d9b",
   "metadata": {},
   "outputs": [],
   "source": [
    "df = pd.read_csv(\"imdb_animated_movies_clean.csv\")\n",
    "df.head()"
   ]
  },
  {
   "cell_type": "code",
   "execution_count": null,
   "id": "db52ba5a",
   "metadata": {
    "scrolled": true
   },
   "outputs": [],
   "source": [
    "df.columns"
   ]
  },
  {
   "cell_type": "code",
   "execution_count": null,
   "id": "d4a19a45",
   "metadata": {},
   "outputs": [],
   "source": [
    "df[{'rating','genres','production_companies','production_countries','languages','aspect_ratio'}].nunique().sort_values(\n",
    "    ascending=False).plot.bar(figsize=(12,6))\n",
    "\n",
    "plt.ylabel('Number of unique values')\n",
    "plt.xlabel('Variables')\n",
    "plt.tick_params(axis='x', rotation=45)\n",
    "plt.title('Cardinality')"
   ]
  },
  {
   "cell_type": "code",
   "execution_count": null,
   "id": "8eea68e4",
   "metadata": {},
   "outputs": [],
   "source": [
    "def check_boxoffice(b, p, w, n, o, r):\n",
    "    if (b | p | w | n | o == -1) or \"TV\" in r:\n",
    "        return 0\n",
    "    return 1"
   ]
  },
  {
   "cell_type": "code",
   "execution_count": null,
   "id": "9a99aa25",
   "metadata": {},
   "outputs": [],
   "source": [
    "df.insert(len(df.columns),'box_office',False)\n",
    "df['box_office'] = df.apply(lambda x: check_boxoffice(x['budget_est_usd'], x['profit_usd'], \n",
    "                                                               x['worldwide_gross_usd'], x['na_gross_usd'], \n",
    "                                                               x['opening_weekend_usd'], x['rating']),axis=1)"
   ]
  },
  {
   "cell_type": "code",
   "execution_count": null,
   "id": "02b80f57",
   "metadata": {},
   "outputs": [],
   "source": [
    "numerics = ['int16', 'int32', 'int64', 'float16', 'float32', 'float64']\n",
    "num_df = df.select_dtypes(include=numerics)"
   ]
  },
  {
   "cell_type": "code",
   "execution_count": null,
   "id": "9feddaec",
   "metadata": {},
   "outputs": [],
   "source": [
    "num_df.columns"
   ]
  },
  {
   "cell_type": "code",
   "execution_count": null,
   "id": "9ced155d",
   "metadata": {},
   "outputs": [],
   "source": [
    "# Reference: https://seaborn.pydata.org/examples/many_pairwise_correlations.html \n",
    "\n",
    "sns.set_theme(style=\"white\")\n",
    "\n",
    "df_validBO = df[df['box_office'] == True]\n",
    "\n",
    "corr = df_validBO.loc[:, df_validBO.columns != 'box_office'].corr()\n",
    "\n",
    "mask = np.triu(np.ones_like(corr, dtype=bool))\n",
    "\n",
    "f, ax = plt.subplots(figsize=(15, 10))\n",
    "\n",
    "sns.heatmap(corr, mask=mask, cmap = 'viridis', center=0,\n",
    "            square=True, linewidths=.5, cbar_kws={\"shrink\": .5}, annot=True, annot_kws={\"fontsize\":8})\n",
    "\n",
    "# sns.heatmap(corr, annot = False, cmap = 'viridis')\n",
    "\n",
    "# print(df['budget_est_usd'].corr(df['runtime_minutes']))\n",
    "# print(df['worldwide_gross_usd'].corr(df['runtime_minutes']))\n",
    "# print(df_validBO['budget_est_usd'].corr(df_validBO['runtime_minutes']))\n",
    "# print(df_validBO['worldwide_gross_usd'].corr(df_validBO['runtime_minutes']))"
   ]
  },
  {
   "cell_type": "markdown",
   "id": "749d0e5e",
   "metadata": {},
   "source": [
    "### Year"
   ]
  },
  {
   "cell_type": "code",
   "execution_count": null,
   "id": "acb05f5a",
   "metadata": {},
   "outputs": [],
   "source": [
    "df['year'].min()"
   ]
  },
  {
   "cell_type": "markdown",
   "id": "e357bc2b",
   "metadata": {},
   "source": [
    "When it comes to categorizing by era, there really isn't a solid, set-to-stone answer on when certain eras began and ended. For instance, Wikipedia refers the end of the golden era of animation to be around the late 1960s while other sources like TVTropes argue that it ended around the late 1950s. Though general consensus agrees that it ended during the second half of the 20th century.\n",
    "\n",
    "**Golden Era**: Time period where theatrical cartoons were popular and many iconic characters got their stardom. (Steamboat Willie, Merrie Melodies)\n",
    "\n",
    "**Dark Era**: When television became more reliant on cartoons for children by the 60s, animation became a lot more limited for these shows but not necessarily an indicatior that overall quality has dropped, especially for animated movies at the time. (A Boy Named Charlie Brown, Yogi Bear, The Flintstones, 101 Dalmations)\n",
    "\n",
    "**Renaissance Era**: Often the era many associate the 'Disney Renaissance' with. Era with a noticeable return in technical quality. (The Little Mermaid, Aladdin, Akira)\n",
    "\n",
    "**Millenennium Era**: The modern age of animation with reliance of new tools, applications and techniques uncommon before the 2000s (Shrek, Tangled, Spider-Man:Into the Spiderverse)."
   ]
  },
  {
   "cell_type": "code",
   "execution_count": null,
   "id": "29ebcd99",
   "metadata": {},
   "outputs": [],
   "source": [
    "# Reference for Eras in Animation: https://tvtropes.org/pmwiki/pmwiki.php/Main/HistoryOfAnimation\n",
    "def year_categorize(x):\n",
    "    if x < 1960:\n",
    "        return 'Golden Era'\n",
    "    elif x >= 1960 and x < 1985:\n",
    "        return 'Dark Era'\n",
    "    elif x >= 1985 and x < 2000:\n",
    "        return 'Renaissance Era'\n",
    "    else:\n",
    "        return 'Millennium Era'\n",
    "    \n",
    "df['year_period'] = df['year'].map(year_categorize)\n",
    "temp = df.pop(\"year_period\")\n",
    "df.insert(3, \"year_period\", temp)"
   ]
  },
  {
   "cell_type": "code",
   "execution_count": null,
   "id": "0fc1b68a",
   "metadata": {},
   "outputs": [],
   "source": [
    "df.year_period.value_counts()"
   ]
  },
  {
   "cell_type": "code",
   "execution_count": null,
   "id": "0348c488",
   "metadata": {
    "scrolled": false
   },
   "outputs": [],
   "source": [
    "order = ['Millennium Era', 'Renaissance Era','Dark Era','Golden Era']\n",
    "era_order = ['2000 ~', '1985-2000', '1960-1985', '~ 1960']\n",
    "f, (ax1,ax2) = plt.subplots(1,2,figsize=(15,5))\n",
    "sns.boxplot(data=df ,x='year_period', y='votescore', ax=ax1, order=order)\n",
    "ax1.title.set_text('Votescore by Era')\n",
    "# ax1.tick_params(axis='x', rotation=15)\n",
    "ax1.set_xticks([0, 1, 2, 3], era_order)\n",
    "\n",
    "sns.boxplot(data=df[df.metacritic > 0] ,x='year_period', y='metacritic',ax=ax2, order=order)\n",
    "ax2.title.set_text('Metacritic by Era')\n",
    "# ax2.tick_params(axis='x', rotation=15)\n",
    "ax2.set_xticks([0, 1, 2, 3], era_order)\n",
    "\n",
    "\n",
    "f.savefig('graphs/vote_meta_by_era.png', bbox_inches='tight')\n",
    "plt.show()"
   ]
  },
  {
   "cell_type": "markdown",
   "id": "b2514ba0",
   "metadata": {},
   "source": [
    "### Runtime"
   ]
  },
  {
   "cell_type": "code",
   "execution_count": null,
   "id": "0c371abe",
   "metadata": {},
   "outputs": [],
   "source": [
    "order = sorted(df.rating.unique())"
   ]
  },
  {
   "cell_type": "code",
   "execution_count": null,
   "id": "f46c26e2",
   "metadata": {
    "scrolled": false
   },
   "outputs": [],
   "source": [
    "sns.set_theme(palette=\"muted\")\n",
    "\n",
    "f, (ax1,ax2,ax3) = plt.subplots(1,3, figsize=(15, 4))\n",
    "\n",
    "sns.boxplot(data=df, y='runtime_minutes', x ='rating', ax=ax1, order=order, color='r')\n",
    "ax1.title.set_text('Runtime by Rating')\n",
    "ax1.tick_params(axis='x', rotation=90)\n",
    "\n",
    "ax2.title.set_text('Runtime of all movies')\n",
    "sns.boxplot(data=df, x='runtime_minutes', ax=ax2)\n",
    "\n",
    "ax3.title.set_text('Runtime of all movies with box office info')\n",
    "sns.boxplot(x=df_validBO['runtime_minutes'], ax=ax3)"
   ]
  },
  {
   "cell_type": "markdown",
   "id": "7f56efee",
   "metadata": {},
   "source": [
    "### MPAA Rating"
   ]
  },
  {
   "cell_type": "code",
   "execution_count": null,
   "id": "536d1025",
   "metadata": {
    "scrolled": false
   },
   "outputs": [],
   "source": [
    "# Runtime within rating\n",
    "f, (ax1,ax2) = plt.subplots(1,2,figsize=(15,5))\n",
    "\n",
    "sns.boxplot(data=df, y='votescore', x='rating',ax=ax1, order=order, color='b')\n",
    "ax1.title.set_text('Votescore by Rating')\n",
    "ax1.tick_params(axis='x', rotation=90)\n",
    "\n",
    "sns.boxplot(data=df[df['metacritic'] > -1], y='metacritic', x='rating',ax=ax2,\n",
    "            order=sorted(df[df['metacritic'] > -1].rating.unique()), color='g')\n",
    "ax2.title.set_text('Metacritic by Rating')\n",
    "ax2.tick_params(axis='x', rotation=90)\n",
    "\n",
    "f.savefig('graphs/vote_meta_by_rating.png', bbox_inches='tight')\n",
    "plt.show()"
   ]
  },
  {
   "cell_type": "code",
   "execution_count": null,
   "id": "c0f45554",
   "metadata": {},
   "outputs": [],
   "source": [
    "round(pd.pivot_table(df, values=['votescore','metacritic'], index='rating',aggfunc=[np.mean],\n",
    "                    fill_value=0),2)"
   ]
  },
  {
   "cell_type": "markdown",
   "id": "61bbc344",
   "metadata": {},
   "source": [
    "#### Shortest and longest movie"
   ]
  },
  {
   "cell_type": "code",
   "execution_count": null,
   "id": "2fbf39d1",
   "metadata": {
    "scrolled": true
   },
   "outputs": [],
   "source": [
    "shortest_movie = df['runtime_minutes'].idxmin()\n",
    "df.iloc[shortest_movie][{'name','year','budget_est_usd','runtime_minutes','genres'}]"
   ]
  },
  {
   "cell_type": "code",
   "execution_count": null,
   "id": "7633c898",
   "metadata": {},
   "outputs": [],
   "source": [
    "longest_movie = df['runtime_minutes'].idxmax()\n",
    "df.iloc[longest_movie][{'name','year','budget_est_usd','runtime_minutes','genres'}]"
   ]
  },
  {
   "cell_type": "markdown",
   "id": "392235f0",
   "metadata": {},
   "source": [
    "#### Shortest and longest movie in box office"
   ]
  },
  {
   "cell_type": "code",
   "execution_count": null,
   "id": "362bd698",
   "metadata": {},
   "outputs": [],
   "source": [
    "shortest_movie = df_validBO['runtime_minutes'].idxmin()\n",
    "df.iloc[shortest_movie][{'name','year','budget_est_usd','runtime_minutes','genres'}]"
   ]
  },
  {
   "cell_type": "code",
   "execution_count": null,
   "id": "f801a9e9",
   "metadata": {},
   "outputs": [],
   "source": [
    "longest_movie = df_validBO['runtime_minutes'].idxmax()\n",
    "df.iloc[longest_movie][{'name','year','budget_est_usd','runtime_minutes','genres'}]"
   ]
  },
  {
   "cell_type": "markdown",
   "id": "ee71b7ca",
   "metadata": {},
   "source": [
    "### Genre"
   ]
  },
  {
   "cell_type": "code",
   "execution_count": null,
   "id": "70c02c1d",
   "metadata": {},
   "outputs": [],
   "source": [
    "df['genres']"
   ]
  },
  {
   "cell_type": "code",
   "execution_count": null,
   "id": "50832328",
   "metadata": {},
   "outputs": [],
   "source": [
    "import itertools\n",
    "\n",
    "words = set(df['genres'].str.findall(\"[\\w.\\-]+\").sum())\n",
    "genres = set(words)\n",
    "# g_list = list(genres)"
   ]
  },
  {
   "cell_type": "code",
   "execution_count": null,
   "id": "f3424bd1",
   "metadata": {},
   "outputs": [],
   "source": [
    "print(list(genres))"
   ]
  },
  {
   "cell_type": "code",
   "execution_count": null,
   "id": "983dfb8c",
   "metadata": {},
   "outputs": [],
   "source": [
    "genre_dict = {}\n",
    "for x in genres:\n",
    "    genre_dict[x] = 0\n",
    "for x in df['genres']:\n",
    "    for y in x.split(', '):\n",
    "        genre_dict[y] += 1"
   ]
  },
  {
   "cell_type": "code",
   "execution_count": null,
   "id": "b0c7b5b5",
   "metadata": {
    "scrolled": true
   },
   "outputs": [],
   "source": [
    "genre_dict"
   ]
  },
  {
   "cell_type": "code",
   "execution_count": null,
   "id": "694fc340",
   "metadata": {
    "scrolled": true
   },
   "outputs": [],
   "source": [
    "df[{'genres','votescore'}].head(5)"
   ]
  },
  {
   "cell_type": "code",
   "execution_count": null,
   "id": "a93faf3d",
   "metadata": {},
   "outputs": [],
   "source": [
    "def get_boxoffice_info_by_keys(df, column, keys, auto_calc=True):\n",
    "    gross_by_col = {}\n",
    "    budget_by_col = {}\n",
    "    \n",
    "    counter = {}\n",
    "    \n",
    "    for x in range(len(df[column])):\n",
    "        if df['box_office'][x] < 1:\n",
    "            continue\n",
    "        for k in keys:\n",
    "            if k in df[column][x].split(', '):\n",
    "                counter[k] = counter.get(k,0)\n",
    "                \n",
    "                gross_val = gross_by_col.get(k,0)\n",
    "                budget_val = budget_by_col.get(k,0)\n",
    "\n",
    "                gross_by_col[k] = gross_val + cpi.inflate(df[\"worldwide_gross_usd\"][x], df[\"year\"][x])\n",
    "                budget_by_col[k] = budget_val + cpi.inflate(df[\"budget_est_usd\"][x], df[\"year\"][x])\n",
    "                \n",
    "                \n",
    "                counter[k] = counter.get(k) + 1\n",
    "                \n",
    "    for k in keys:\n",
    "        if k in gross_by_col:\n",
    "            if auto_calc:\n",
    "                gross_by_col[k] = round(df[df[column].str.contains(k)]['worldwide_gross_usd'].mean(),3)\n",
    "                budget_by_col[k] = round(df[df[column].str.contains(k)]['budget_est_usd'].mean(),3)\n",
    "            else:\n",
    "                gross_by_col[k] = (gross_by_col.get(k) / counter.get(k,1)).round(3)\n",
    "                budget_by_col[k] = (budget_by_col.get(k) / counter.get(k,1)).round(3)\n",
    "        else:\n",
    "            continue\n",
    "\n",
    "    \n",
    "    return gross_by_col, budget_by_col, counter\n",
    "\n",
    "\n",
    "keys = list(genre_dict.keys())\n",
    "keys.sort()\n",
    "vals = [genre_dict[k] for k in keys]\n",
    "\n",
    "genre_avg_gross, genre_avg_budget, cnt = get_boxoffice_info_by_keys(df, 'genres', keys, False)\n",
    "\n",
    "avg_g = [genre_avg_gross[k] for k in keys]\n",
    "count_g = [cnt[k] for k in keys]\n",
    "avg_b = [genre_avg_budget[k] for k in keys]\n",
    "\n",
    "data_bo_genre = {'genre':keys, 'count':vals, 'avg_gross':avg_g, 'avg_budget':avg_b}\n",
    "df_bo_genre = pd.DataFrame(data=data_bo_genre)"
   ]
  },
  {
   "cell_type": "code",
   "execution_count": null,
   "id": "2f655d88",
   "metadata": {},
   "outputs": [],
   "source": [
    "df_bo_genre['avg_gross'] = df_bo_genre['avg_gross'].apply(lambda x: round(x/10_000_000,2))\n",
    "df_bo_genre['avg_budget'] = df_bo_genre['avg_budget'].apply(lambda x: round(x/10_000_000,2))\n",
    "\n",
    "df_bo_genre['avg_profit'] = df_bo_genre['avg_gross'] - df_bo_genre['avg_budget']"
   ]
  },
  {
   "cell_type": "code",
   "execution_count": null,
   "id": "88e41173",
   "metadata": {
    "scrolled": true
   },
   "outputs": [],
   "source": [
    "df_bo_genre"
   ]
  },
  {
   "cell_type": "code",
   "execution_count": null,
   "id": "82ba3503",
   "metadata": {},
   "outputs": [],
   "source": [
    "# Reference for Horizontal Graph Labels: https://stackoverflow.com/a/51410758\n",
    "\n",
    "data_gbo = df_bo_genre.sort_values([\"avg_gross\"], ascending=True)\n",
    "\n",
    "ax = data_gbo[{'genre','avg_gross','avg_budget'}].plot.barh(\n",
    "    figsize=(15,14), \n",
    "    edgecolor = '.75',\n",
    "    color=['salmon','lightgreen'],\n",
    "    title='Average Gross and Budgets by Genre',\n",
    "    x='genre')\n",
    "\n",
    "plt.gcf().get_axes()\n",
    "plt.xticks([0, 1, 2, 3, 4, 5], ['0', '10', '20', '30', '40', '50'])\n",
    "\n",
    "plt.xlabel('USD (Million)')\n",
    "\n",
    "\n",
    "rects = ax.patches\n",
    "\n",
    "labels = [f\"{x} films\" for x in data_gbo['count']]\n",
    "\n",
    "t = 0\n",
    "for rect in rects: \n",
    "    w = rect.get_width()\n",
    "    h = rect.get_y() + rect.get_height() / 2\n",
    "\n",
    "    try:\n",
    "        plt.annotate(\n",
    "            labels[t],                \n",
    "            (w, h),                   \n",
    "            xytext=(5, 0),            \n",
    "            textcoords=\"offset points\",\n",
    "            va='center'\n",
    "        )             \n",
    "                                      \n",
    "    except IndexError:\n",
    "        continue\n",
    "    \n",
    "    t+=1\n",
    "\n",
    "plt.savefig('graphs/avg_gross_budget_by_genre.png', bbox_inches='tight')\n",
    "plt.show()"
   ]
  },
  {
   "cell_type": "markdown",
   "id": "75bd6461",
   "metadata": {},
   "source": [
    "---\n",
    "### Visualizing Votescore and Metacritic by Genre"
   ]
  },
  {
   "cell_type": "code",
   "execution_count": null,
   "id": "5eebd977",
   "metadata": {},
   "outputs": [],
   "source": [
    "def avg_score_by_keys(df, column, keys, auto_calc=True):\n",
    "    score_by_col = {}\n",
    "    mc_by_col = {}\n",
    "    counter_a, counter_b  = {}, {}\n",
    "    \n",
    "    for x in range(len(df[{column,'votescore','metacritic'}])):\n",
    "        for k in keys:\n",
    "            if k in df[column][x].split(', '):\n",
    "                counter_a[k] = counter_a.get(k,0)\n",
    "                \n",
    "                val = score_by_col.get(k,0)\n",
    "\n",
    "                score_by_col[k] = val + df['votescore'][x]\n",
    "                counter_a[k] = counter_a.get(k) + 1\n",
    "#                 print(f'{counter_a[k]} - {k}')\n",
    "                if df['metacritic'][x] < 0:\n",
    "                    continue\n",
    "                else:\n",
    "                    val_m = mc_by_col.get(k,0)\n",
    "                    counter_b[k] = counter_b.get(k,0)\n",
    "                    mc_by_col[k] = val_m + df['metacritic'][x]\n",
    "                    counter_b[k] = counter_b.get(k) + 1\n",
    "\n",
    "#     print(f'val:{val}, counter_a:{counter_a}')\n",
    "#     print(mc_by_col)\n",
    "    for k in keys:\n",
    "        if auto_calc:\n",
    "            score_by_col[k] = round(df[df[column].str.contains(k)]['votescore'].mean(),3)\n",
    "        else:\n",
    "            score_by_col[k] = (score_by_col.get(k) / counter_a[k]).round(3)\n",
    "\n",
    "        \n",
    "        if counter_b.get(k) is not None and mc_by_col.get(k) is not None:\n",
    "            if auto_calc:\n",
    "                mc_by_col[k] = round(df[df['production_countries'].str.contains(k)]['votescore'].mean(),3)\n",
    "            else:\n",
    "                mc_by_col[k] = round(mc_by_col.get(k,-1) / counter_b.get(k,1),3)\n",
    "    \n",
    "    return score_by_col, mc_by_col, counter_b"
   ]
  },
  {
   "cell_type": "code",
   "execution_count": null,
   "id": "c3488706",
   "metadata": {},
   "outputs": [],
   "source": [
    "keys = list(genre_dict.keys())\n",
    "keys.sort()\n",
    "vals = [genre_dict[k] for k in keys]\n",
    "\n",
    "genre_avg_score, genre_avg_mc, count_b = avg_score_by_keys(df, 'genres', keys, False)\n",
    "\n",
    "avgs_s = [genre_avg_score[k] for k in keys]\n",
    "count_mc = [count_b[k] for k in keys]\n",
    "avgs_mc = [genre_avg_mc[k] for k in keys]"
   ]
  },
  {
   "cell_type": "code",
   "execution_count": null,
   "id": "9b80085a",
   "metadata": {
    "scrolled": false
   },
   "outputs": [],
   "source": [
    "data_genre = {'genre':keys, 'count':vals, 'avg_score':avgs_s, 'avg_metacritic':avgs_mc, 'count_mc':count_mc}\n",
    "df_genre = pd.DataFrame(data=data_genre)\n",
    "\n",
    "f,ax = plt.subplots(figsize=(15,10))\n",
    "\n",
    "ax = sns.barplot(data = df_genre.sort_values(\"count\", ascending=False), y=\"genre\", x=\"count\")\n",
    "\n",
    "plt.xlabel('Count')\n",
    "plt.ylabel(\"Genre\")\n",
    "plt.title('Movie Count by Genres')\n",
    "\n",
    "plt.savefig('graphs/genre_count.png', bbox_inches='tight')\n",
    "plt.show()"
   ]
  },
  {
   "cell_type": "code",
   "execution_count": null,
   "id": "8a41cdb2",
   "metadata": {},
   "outputs": [],
   "source": [
    "sns.boxplot(data=df, y=\"votescore\")"
   ]
  },
  {
   "cell_type": "code",
   "execution_count": null,
   "id": "0e90763d",
   "metadata": {},
   "outputs": [],
   "source": [
    "plt.figure(figsize = (15,8))\n",
    "sorted_data_genre = df_genre.sort_values(\"avg_score\", ascending=False)\n",
    "\n",
    "pal = sns.diverging_palette(190, 30, s=70, l=85, n=35)\n",
    "\n",
    "ax = sns.barplot(data = sorted_data_genre, x=\"genre\", y=\"avg_score\", edgecolor = '.2',palette=pal,dodge=False)\n",
    "# ax.get_legend().remove()\n",
    "\n",
    "plt.xlabel('Genre')\n",
    "plt.ylabel(\"Average Score\")\n",
    "plt.title('Average Score by Genres')\n",
    "\n",
    "labels = [f\"\\n{x}\\nfilms\" for x in sorted_data_genre['count']]\n",
    "plt.bar_label(ax.containers[-1],labels, label_type='center')\n",
    "\n",
    "plt.tick_params(axis='x', rotation=45)\n",
    "plt.show()"
   ]
  },
  {
   "cell_type": "code",
   "execution_count": null,
   "id": "3b4184ed",
   "metadata": {
    "scrolled": false
   },
   "outputs": [],
   "source": [
    "plt.figure(figsize = (15,10))\n",
    "sorted_data_genre = df_genre.sort_values(\"avg_metacritic\", ascending=False)\n",
    "\n",
    "pal = sns.diverging_palette(140, 20, l=75, s=90, sep=3, n=30)\n",
    "\n",
    "ax2 = sns.barplot(data = sorted_data_genre, x=\"genre\", y=\"avg_metacritic\", edgecolor = '.1', color=\"whitesmoke\",palette=pal, dodge=False)\n",
    "# ax2.get_legend().remove()\n",
    "plt.xlabel('Genre')\n",
    "plt.ylabel(\"Average Metacritic Score\")\n",
    "plt.title('Average Metacritic Score by Genres')\n",
    "\n",
    "labels = [f\"\\n{x}\\nfilms\" for x in sorted_data_genre['count_mc']]\n",
    "plt.bar_label(ax2.containers[-1], labels = labels, label_type='center')\n",
    "\n",
    "plt.tick_params(axis='x', rotation=45)\n",
    "plt.show()"
   ]
  },
  {
   "cell_type": "code",
   "execution_count": null,
   "id": "fee9f876",
   "metadata": {
    "scrolled": false
   },
   "outputs": [],
   "source": [
    "data_g = df_genre.sort_values(\"avg_score\", ascending=False).head(20)\n",
    "\n",
    "data_g[{'genre','avg_score','avg_metacritic'}].plot.bar(\n",
    "    figsize=(15,14), \n",
    "    width=0.7,\n",
    "    color=['darkgray','seagreen'],\n",
    "    title='Average IMDb and Metacritic Scores by Genre',\n",
    "    secondary_y= 'avg_metacritic')\n",
    "ax1, ax2 = plt.gcf().get_axes() # gets the current figure and then the axes\n",
    "\n",
    "ax1.set_ylim([0, 9])\n",
    "ax2.set_ylim([0, 90])\n",
    "\n",
    "ax1.set_ylabel(\"IMDb User Score\")\n",
    "ax2.set_ylabel(\"Metacritic Score\")\n",
    "\n",
    "ax1.legend([\"Votescore\"])\n",
    "ax2.legend([\"Metacritic\"], loc=\"upper left\")\n",
    "\n",
    "x_plot = list(data_g['genre'])\n",
    "plt.xticks(np.arange(len(data_g)),x_plot)\n",
    "\n",
    "plt.savefig('graphs/score_rating_by_genre.png', bbox_inches='tight')\n",
    "plt.show()"
   ]
  },
  {
   "cell_type": "code",
   "execution_count": null,
   "id": "dad0d94e",
   "metadata": {},
   "outputs": [],
   "source": [
    "genre_misc = df.groupby(df[df['metacritic'] != -1]['genres']).mean()"
   ]
  },
  {
   "cell_type": "code",
   "execution_count": null,
   "id": "f86a1484",
   "metadata": {},
   "outputs": [],
   "source": [
    "genre_misc[{'votescore','metacritic'}].sort_values('votescore',ascending=False)"
   ]
  },
  {
   "cell_type": "code",
   "execution_count": null,
   "id": "1e29bcc8",
   "metadata": {},
   "outputs": [],
   "source": [
    "genre_misc[{'votescore','metacritic'}].sort_values('metacritic',ascending=False)"
   ]
  },
  {
   "cell_type": "code",
   "execution_count": null,
   "id": "85835d44",
   "metadata": {},
   "outputs": [],
   "source": [
    "for g in df_genre['genre']:\n",
    "#     print(g)\n",
    "    df[f'genre_{g.lower()}'] = df['genres'].apply(lambda x: 1 if g.lower() in x.lower() else 0)\n",
    "    \n",
    "    \n",
    "# Hybrid Genres:\n",
    "### Romatic Comedy, Romantic Drama, Dramedy, Action Adventure, Crime Thriller, Horror Thriller, Crime Drama, Thriller Drama\n",
    "\n",
    "df['hybrid_romantic_comedy'] = df['genres'].apply(lambda x: 1 if 'romance' and 'comedy' in x.lower() else 0)\n",
    "df['hybrid_romantic_drama'] = df['genres'].apply(lambda x: 1 if 'romance' and 'drama' in x.lower() else 0)\n",
    "df['hybrid_dramedy'] = df['genres'].apply(lambda x: 1 if 'romance' and 'comedy' in x.lower() else 0)\n",
    "df['hybrid_action_adventure'] = df['genres'].apply(lambda x: 1 if 'action' and 'adventure' in x.lower() else 0)\n",
    "df['hybrid_crime_thriller'] = df['genres'].apply(lambda x: 1 if 'crime' and 'thriller' in x.lower() else 0)\n",
    "df['hybrid_horror_thriller'] = df['genres'].apply(lambda x: 1 if 'horror' and 'comedy' in x.lower() else 0)\n",
    "df['hybrid_thriller_drama'] = df['genres'].apply(lambda x: 1 if 'thriller' and 'drama' in x.lower() else 0)\n",
    "df['hybrid_thriller_mystery'] = df['genres'].apply(lambda x: 1 if 'thriller' and 'mystery' in x.lower() else 0)\n",
    "df['hybrid_family_comedy'] = df['genres'].apply(lambda x: 1 if 'family' and 'comedy' in x.lower() else 0)\n",
    "df['hybrid_family_adventure'] = df['genres'].apply(lambda x: 1 if 'family' and 'adventure' in x.lower() else 0)"
   ]
  },
  {
   "cell_type": "markdown",
   "id": "bc443f22",
   "metadata": {},
   "source": [
    "### Genre Count (in other words, how many genres does a movie typically have?)"
   ]
  },
  {
   "cell_type": "code",
   "execution_count": null,
   "id": "6bfad702",
   "metadata": {},
   "outputs": [],
   "source": [
    "sns.countplot(y=num_df['genre_count'])"
   ]
  },
  {
   "cell_type": "code",
   "execution_count": null,
   "id": "46cccc81",
   "metadata": {},
   "outputs": [],
   "source": [
    "sns.boxplot(x=df['story_word_count'])"
   ]
  },
  {
   "cell_type": "code",
   "execution_count": null,
   "id": "cf6084c1",
   "metadata": {},
   "outputs": [],
   "source": [
    "sns.swarmplot(y = df['story_word_count'], x = df['genre_count'])"
   ]
  },
  {
   "cell_type": "code",
   "execution_count": null,
   "id": "aa360567",
   "metadata": {
    "scrolled": true
   },
   "outputs": [],
   "source": [
    "sns.swarmplot(y = df['votescore'], x = df['genre_count'])"
   ]
  },
  {
   "cell_type": "code",
   "execution_count": null,
   "id": "554e2b9a",
   "metadata": {
    "scrolled": true
   },
   "outputs": [],
   "source": [
    "df[{'genres','votescore'}].head(5)"
   ]
  },
  {
   "cell_type": "markdown",
   "id": "6ec4786a",
   "metadata": {},
   "source": [
    "# NEXT STEP: Story description"
   ]
  },
  {
   "cell_type": "code",
   "execution_count": null,
   "id": "8af3e941",
   "metadata": {},
   "outputs": [],
   "source": [
    "from wordcloud import WordCloud"
   ]
  },
  {
   "cell_type": "code",
   "execution_count": null,
   "id": "dfceead1",
   "metadata": {},
   "outputs": [],
   "source": [
    "stopwords = ''\n",
    "with open(\"stop_words_english.txt\") as t:\n",
    "    stopwords = ' '.join(line for line in t).replace(\"\\n\",\"\")\n",
    "\n",
    "stopwords = stopwords.split()\n",
    "stopwords.append('-')\n",
    "stopwords.append('story-missing')"
   ]
  },
  {
   "cell_type": "code",
   "execution_count": null,
   "id": "854a6ac1",
   "metadata": {},
   "outputs": [],
   "source": [
    "story_words = df['story_desc'].str.lower().str.findall(\"[\\w.\\-']+\").sum()"
   ]
  },
  {
   "cell_type": "code",
   "execution_count": null,
   "id": "7c5c5e9d",
   "metadata": {},
   "outputs": [],
   "source": [
    "text = ' '.join(str(x) for x in story_words)"
   ]
  },
  {
   "cell_type": "code",
   "execution_count": null,
   "id": "09aacdb0",
   "metadata": {},
   "outputs": [],
   "source": [
    "img_mask = np.array(Image.open(\"image_mask.png\"))"
   ]
  },
  {
   "cell_type": "code",
   "execution_count": null,
   "id": "20b9d7e2",
   "metadata": {},
   "outputs": [],
   "source": [
    "def getFrequencyDict(words):\n",
    "    temp = dataDict = {}\n",
    "\n",
    "    # Dictionary counts frequencies\n",
    "    for w in words:\n",
    "        if w in stopwords:\n",
    "            continue\n",
    "        val = temp.get(w, 0)\n",
    "        temp[w.lower()] = val + 1\n",
    "    for key in temp:\n",
    "        dataDict[key] = temp[key]\n",
    "    \n",
    "    return dataDict"
   ]
  },
  {
   "cell_type": "code",
   "execution_count": null,
   "id": "d4435e8a",
   "metadata": {},
   "outputs": [],
   "source": [
    "freq_dict = getFrequencyDict(story_words)"
   ]
  },
  {
   "cell_type": "code",
   "execution_count": null,
   "id": "1887f032",
   "metadata": {},
   "outputs": [],
   "source": [
    "w_keys = list(freq_dict.keys())\n",
    "w_vals = [freq_dict[k] for k in w_keys]\n",
    "    \n",
    "data_wordfreq = {'word':w_keys, 'freq':w_vals}\n",
    "df_wordfreq = pd.DataFrame(data=data_wordfreq, index=None)"
   ]
  },
  {
   "cell_type": "code",
   "execution_count": null,
   "id": "969ea7fa",
   "metadata": {},
   "outputs": [],
   "source": [
    "common_words = df_wordfreq[df_wordfreq['freq'] > 10].sort_values(\"freq\", ascending=False).head(15).style.hide_index()\n",
    "common_words"
   ]
  },
  {
   "cell_type": "code",
   "execution_count": null,
   "id": "5aff2fbd",
   "metadata": {},
   "outputs": [],
   "source": [
    "df['desc_girl'] = df['story_desc'].apply(lambda x: 1 if 'girl' in x.lower() else 0)\n",
    "df['desc_boy'] = df['story_desc'].apply(lambda x: 1 if 'boy' in x.lower() else 0)\n",
    "df['desc_young'] = df['story_desc'].apply(lambda x: 1 if 'young' in x.lower() else 0)\n",
    "df['desc_family'] = df['story_desc'].apply(lambda x: 1 if 'family' in x.lower() else 0)\n",
    "df['desc_friend'] = df['story_desc'].apply(lambda x: 1 if 'friend' in x.lower() else 0)\n",
    "df['desc_named'] = df['story_desc'].apply(lambda x: 1 if 'named' in x.lower() else 0)\n",
    "df['desc_save'] = df['story_desc'].apply(lambda x: 1 if 'save' in x.lower() else 0)\n",
    "df['desc_evil'] = df['story_desc'].apply(lambda x: 1 if 'evil' in x.lower() else 0)\n",
    "df['desc_life'] = df['story_desc'].apply(lambda x: 1 if 'life' in x.lower() else 0)\n",
    "df['desc_man'] = df['story_desc'].apply(lambda x: 1 if 'man ' in x.lower() else 0)\n",
    "df['desc_city'] = df['story_desc'].apply(lambda x: 1 if 'city' in x.lower() else 0)\n",
    "\n",
    "used_common_word_list = [\"girl\",\"boy\",\"young\",\"family\",\"friend\",\"named\",\"save\",\"evil\",\"life\",\"man\",\"city\"]\n",
    "\n",
    "df.insert(len(df.columns),'desc_noa',-1)\n",
    "for w in range(len(df)):\n",
    "    flag = False\n",
    "    for x in used_common_word_list:\n",
    "        if df[f'desc_{x}'][w] == 1:\n",
    "            flag = True\n",
    "            \n",
    "    if flag:\n",
    "        df['desc_noa'][w] = 0\n",
    "    else:\n",
    "        df['desc_noa'][w] = 1\n",
    "\n",
    "df['long_story_desc'] = df['story_word_count'].apply(lambda x: 1 if x >= 30 else 0)"
   ]
  },
  {
   "cell_type": "code",
   "execution_count": null,
   "id": "9b2a187b",
   "metadata": {},
   "outputs": [],
   "source": [
    "wordcloud = WordCloud(width = 800, height = 800,\n",
    "                background_color ='black',\n",
    "                stopwords = stopwords,\n",
    "                min_font_size = 12,\n",
    "                margin = 11,\n",
    "                mask=img_mask,\n",
    "                contour_width=.5, contour_color='lightgray').generate(text)"
   ]
  },
  {
   "cell_type": "code",
   "execution_count": null,
   "id": "cdb1d362",
   "metadata": {},
   "outputs": [],
   "source": [
    "import random\n",
    "def grey_color_func(**kwargs):\n",
    "    return \"hsl(0, 0%%, %d%%)\" % random.randint(75, 100)"
   ]
  },
  {
   "cell_type": "code",
   "execution_count": null,
   "id": "968a1ab9",
   "metadata": {},
   "outputs": [],
   "source": [
    "plt.figure(figsize = (15, 8), facecolor = \"black\")\n",
    "plt.imshow(wordcloud.recolor(color_func=grey_color_func))\n",
    "plt.axis(\"off\")\n",
    "\n",
    "# plt.title(\"Animated Movie Story Description Word Cloud\",color='white')\n",
    "\n",
    "plt.figtext(.35, 1, 'Animated Movie Story Description Word Cloud', ha='center', va='center',color='white',fontsize=17)\n",
    "\n",
    "idea_quote = '\"Get a good idea and stay with it. Dog it, \\nand work at it until it’s done right.\"\\n\\n- Walt Disney'\n",
    "plt.figtext(.23, .5, idea_quote, ha='center', va='center',color='white',fontsize=14)\n",
    "\n",
    "plt.annotate(\"All descriptions are taken from the story description of each IMDb page\",\n",
    "            xy=(60, 25), xycoords='figure pixels', color='white',fontsize=10)\n",
    "\n",
    "wordcloud.to_file(\"graphs/basic_wordcloud.png\")\n",
    "plt.savefig('graphs/story_wordcloud.png', bbox_inches='tight')\n",
    "plt.tight_layout(pad = 0)\n",
    "\n",
    "\n",
    "plt.show()"
   ]
  },
  {
   "cell_type": "markdown",
   "id": "900c18ba",
   "metadata": {},
   "source": [
    "### Production"
   ]
  },
  {
   "cell_type": "code",
   "execution_count": null,
   "id": "caca1481",
   "metadata": {},
   "outputs": [],
   "source": [
    "df['production_companies']"
   ]
  },
  {
   "cell_type": "code",
   "execution_count": null,
   "id": "35041b21",
   "metadata": {},
   "outputs": [],
   "source": [
    "def getFreq(data):\n",
    "    temp = dataDict = {}\n",
    "\n",
    "    # Dictionary counts frequencies\n",
    "    for c in data:\n",
    "        for x in c.split(', '):\n",
    "            val = temp.get(x.strip(), 0)\n",
    "            temp[x] = val + 1\n",
    "    for key in temp:\n",
    "        dataDict[key] = temp[key]\n",
    "    \n",
    "    return dataDict"
   ]
  },
  {
   "cell_type": "code",
   "execution_count": null,
   "id": "1be279c0",
   "metadata": {
    "scrolled": true
   },
   "outputs": [],
   "source": [
    "companies = getFreq(df['production_companies'])\n",
    "# print(companies)"
   ]
  },
  {
   "cell_type": "markdown",
   "id": "429fb70a",
   "metadata": {},
   "source": [
    "---\n",
    "### Score Based on Production Companies"
   ]
  },
  {
   "cell_type": "code",
   "execution_count": null,
   "id": "48891172",
   "metadata": {},
   "outputs": [],
   "source": [
    "c_keys = list(companies.keys())\n",
    "c_keys.sort()\n",
    "c_vals = [companies[k] for k in c_keys]\n",
    "    \n",
    "comp_avg_score, comp_avg_mc, comp_b = avg_score_by_keys(df, 'production_companies', c_keys, False)\n",
    "\n",
    "avgs_s = [comp_avg_score[k] for k in c_keys]\n",
    "count_mc = [comp_b.get(k,0) for k in c_keys]\n",
    "avgs_mc = [comp_avg_mc.get(k,-1) for k in c_keys]\n",
    "\n",
    "# data_genre = {'genre':keys, 'count':vals, 'avg_score':avgs_s, 'avg_metacritic':avgs_mc, 'count_mc':count_mc}\n",
    "# df_genre = pd.DataFrame(data=data_genre)\n",
    "    \n",
    "data_company = {'company':c_keys, 'freq':c_vals, 'avg_score':avgs_s, 'avg_metacritic':avgs_mc, 'count_mc':count_mc}\n",
    "df_company = pd.DataFrame(data=data_company, index=None)"
   ]
  },
  {
   "cell_type": "code",
   "execution_count": null,
   "id": "1d5ac326",
   "metadata": {},
   "outputs": [],
   "source": [
    "df_company = df_company.drop_duplicates(subset=['company'], keep=\"first\")\n",
    "df_company_b = df_company.query('count_mc > 3 & freq > 5')"
   ]
  },
  {
   "cell_type": "code",
   "execution_count": null,
   "id": "59bc950f",
   "metadata": {
    "scrolled": true
   },
   "outputs": [],
   "source": [
    "df_company_b.sort_values(\"freq\", ascending=False).head(10).style"
   ]
  },
  {
   "cell_type": "code",
   "execution_count": null,
   "id": "8432275e",
   "metadata": {
    "scrolled": false
   },
   "outputs": [],
   "source": [
    "plt.figure(figsize = (15,10))\n",
    "ax = sns.barplot(data = df_company.sort_values(\"freq\", ascending=False).head(20), x=\"freq\", y=\"company\")\n",
    "\n",
    "plt.xlabel('Count')\n",
    "plt.ylabel(\"Company\")\n",
    "plt.title('Movie Count by Production Company')\n",
    "# plt.tick_params(axis='x', rotation=90)\n",
    "plt.show()"
   ]
  },
  {
   "cell_type": "code",
   "execution_count": null,
   "id": "ec264335",
   "metadata": {},
   "outputs": [],
   "source": [
    "plt.figure(figsize = (15,12))\n",
    "sorted_data_comp = df_company_b.sort_values(\"avg_score\", ascending=False).head(20)\n",
    "\n",
    "pal = sns.diverging_palette(170, 90, l=85, n=40)\n",
    "\n",
    "ax_c = sns.barplot(data = sorted_data_comp, y=\"company\", x=\"avg_score\", edgecolor = '.5', palette=pal)\n",
    "plt.xlabel('Votescore average')\n",
    "plt.ylabel(\"Production Company\")\n",
    "plt.title('Top Vote Score Averages by Production Companies')\n",
    "\n",
    "labels_a = [f\"{x} films\" for x in sorted_data_comp['freq']]\n",
    "labels_b = [f\" {round(b,1)}\" for b in sorted_data_comp['avg_score']]\n",
    "\n",
    "plt.bar_label(ax_c.containers[-1], labels = labels_a, label_type='center')\n",
    "plt.bar_label(ax_c.containers[-1], labels = labels_b)\n",
    "\n",
    "plt.show()"
   ]
  },
  {
   "cell_type": "code",
   "execution_count": null,
   "id": "fb548f68",
   "metadata": {
    "scrolled": false
   },
   "outputs": [],
   "source": [
    "plt.figure(figsize = (15,15))\n",
    "sorted_data_comp = df_company_b.sort_values(\"avg_metacritic\", ascending=False).head(20)\n",
    "\n",
    "pal = sns.diverging_palette(140, 100, l=75, s=90, n=40)\n",
    "\n",
    "ax2 = sns.barplot(data = sorted_data_comp, y=\"company\", x=\"avg_metacritic\", edgecolor = '.5', palette=pal)\n",
    "plt.ylabel('Company')\n",
    "plt.xlabel(\"Average Metacritic Score\")\n",
    "plt.title('Average Metacritic Score by Company')\n",
    "\n",
    "labels_a = [f\"{a} films \" for a in sorted_data_comp['count_mc']]\n",
    "labels_b = [f\" {round(b,1)}\" for b in sorted_data_comp['avg_metacritic']]\n",
    "\n",
    "plt.bar_label(ax2.containers[-1], labels = labels_a, label_type='center')\n",
    "plt.bar_label(ax2.containers[-1], labels = labels_b)\n",
    "\n",
    "# plt.tick_params(axis='x', rotation=45)\n",
    "plt.savefig('graphs/metacritic_by_company.png', bbox_inches='tight')\n",
    "plt.show()"
   ]
  },
  {
   "cell_type": "code",
   "execution_count": null,
   "id": "f2d40605",
   "metadata": {
    "scrolled": false
   },
   "outputs": [],
   "source": [
    "data = df_company[df_company[\"avg_metacritic\"] > -1].sort_values(\"freq\", ascending=False).head(20)\n",
    "data = data.sort_values(\"avg_score\", ascending=False).head(20)\n",
    "\n",
    "data[{'company','avg_score','avg_metacritic'}].plot.bar(\n",
    "    figsize=(15,10), \n",
    "    width=0.7,\n",
    "    color=['darkgray','seagreen'],\n",
    "    title='Average IMDb/Metacritic Scores by Top 20 Most Frequent Production Companies',\n",
    "    secondary_y='avg_metacritic')\n",
    "\n",
    "ax1, ax2 = plt.gcf().get_axes() \n",
    "\n",
    "ax1.set_ylim([0, 9])\n",
    "ax2.set_ylim([0, 90])\n",
    "\n",
    "ax1.set_ylabel(\"IMDb User Score\")\n",
    "ax2.set_ylabel(\"Metacritic Score\")\n",
    "\n",
    "ax1.legend([\"Votescore\"])\n",
    "ax2.legend([\"Metacritic\"], loc=\"upper left\")\n",
    "\n",
    "x_plot = list(data['company'])\n",
    "plt.xticks(np.arange(20),x_plot)\n",
    "\n",
    "plt.show()"
   ]
  },
  {
   "cell_type": "code",
   "execution_count": null,
   "id": "1583f30e",
   "metadata": {},
   "outputs": [],
   "source": [
    "major_comps = ['disney', 'pixar', 'dreamworks', 'columbia', 'dentsu', 'sony', 'universal', 'fox', 'ghibli', 'paramount']"
   ]
  },
  {
   "cell_type": "code",
   "execution_count": null,
   "id": "a1e84a47",
   "metadata": {
    "scrolled": true
   },
   "outputs": [],
   "source": [
    "df['company_disney'] = df['production_companies'].apply(lambda x: 1 if 'disney' in x.lower() else 0)\n",
    "df['company_dreamworks'] = df['production_companies'].apply(lambda x: 1 if 'dreamworks' in x.lower() else 0)\n",
    "df['company_pixar'] = df['production_companies'].apply(lambda x: 1 if 'pixar' in x.lower() else 0)\n",
    "df['company_columbia'] = df['production_companies'].apply(lambda x: 1 if 'columbia pictures' in x.lower() else 0)\n",
    "df['company_dentsu'] = df['production_companies'].apply(lambda x: 1 if 'dentsu' in x.lower() else 0)\n",
    "df['company_sony'] = df['production_companies'].apply(lambda x: 1 if 'sony' in x.lower() else 0)\n",
    "df['company_universal'] = df['production_companies'].apply(lambda x: 1 if 'universal' in x.lower() else 0)\n",
    "df['company_fox'] = df['production_companies'].apply(lambda x: 1 if 'fox' in x.lower() else 0)\n",
    "df['company_ghibli'] = df['production_companies'].apply(lambda x: 1 if 'studio ghibli' in x.lower() else 0)\n",
    "df['company_paramount'] = df['production_companies'].apply(lambda x: 1 if 'paramount' in x.lower() else 0)\n",
    "\n",
    "df.insert(len(df.columns),'company_other',-1)\n",
    "for w in range(len(df)):\n",
    "    flag = False\n",
    "    for x in major_comps:\n",
    "        if df[f'company_{x}'][w] == 1:\n",
    "            flag = True\n",
    "            \n",
    "    if flag:\n",
    "        df['company_other'][w] = 0\n",
    "    else:\n",
    "        df['company_other'][w] = 1\n"
   ]
  },
  {
   "cell_type": "code",
   "execution_count": null,
   "id": "3f606125",
   "metadata": {},
   "outputs": [],
   "source": [
    "df[df['company_other'] == 0][{'production_companies','company_other'}].head(10)"
   ]
  },
  {
   "cell_type": "code",
   "execution_count": null,
   "id": "381a50c2",
   "metadata": {},
   "outputs": [],
   "source": [
    "df[df['company_other'] == 1][{'production_companies','company_other'}].head(5)"
   ]
  },
  {
   "cell_type": "markdown",
   "id": "c949cdcf",
   "metadata": {},
   "source": [
    "### Aspect ratio"
   ]
  },
  {
   "cell_type": "code",
   "execution_count": null,
   "id": "d8db108a",
   "metadata": {},
   "outputs": [],
   "source": [
    "df['aspect_ratio'] = df['aspect_ratio'].str.replace(\" \", \"\")"
   ]
  },
  {
   "cell_type": "code",
   "execution_count": null,
   "id": "923ca159",
   "metadata": {},
   "outputs": [],
   "source": [
    "sns.barplot(y=df['aspect_ratio'].value_counts().index, x=df['aspect_ratio'].value_counts())\n",
    "plt.tick_params(axis='x', rotation=0)\n",
    "plt.show()"
   ]
  },
  {
   "cell_type": "markdown",
   "id": "fc588cf5",
   "metadata": {},
   "source": [
    "# NEXT STEP: Work more on countries"
   ]
  },
  {
   "cell_type": "code",
   "execution_count": null,
   "id": "cb429b88",
   "metadata": {
    "scrolled": true
   },
   "outputs": [],
   "source": [
    "df['production_countries'].unique"
   ]
  },
  {
   "cell_type": "code",
   "execution_count": null,
   "id": "c0806bfb",
   "metadata": {},
   "outputs": [],
   "source": [
    "def getFreqCountry(data):\n",
    "    temp = dataDict = {}\n",
    "\n",
    "    # Dictionary counts frequencies\n",
    "    for c in data:\n",
    "        for x in c.split(', '):\n",
    "            if \"germany\" in x.lower():\n",
    "                val = temp.get(\"Germany\", 0)\n",
    "                temp[\"Germany\"] = val + 1\n",
    "                continue\n",
    "                \n",
    "            val = temp.get(x.strip(), 0)\n",
    "            temp[x] = val + 1\n",
    "    for key in temp:\n",
    "        dataDict[key] = temp[key]\n",
    "    \n",
    "    return dataDict"
   ]
  },
  {
   "cell_type": "code",
   "execution_count": null,
   "id": "9ef7bd87",
   "metadata": {},
   "outputs": [],
   "source": [
    "countries = getFreqCountry(df['production_countries'])"
   ]
  },
  {
   "cell_type": "code",
   "execution_count": null,
   "id": "5023c9e1",
   "metadata": {},
   "outputs": [],
   "source": [
    "countries"
   ]
  },
  {
   "cell_type": "code",
   "execution_count": null,
   "id": "72da3771",
   "metadata": {},
   "outputs": [],
   "source": [
    "# countries['Germany'] += countries.get(\"West Germany\")\n",
    "# del countries['West Germany']"
   ]
  },
  {
   "cell_type": "code",
   "execution_count": null,
   "id": "71ec423f",
   "metadata": {},
   "outputs": [],
   "source": [
    "country_keys = list(countries.keys())\n",
    "country_keys.sort()\n",
    "\n",
    "country_vals = [countries[k] for k in country_keys]\n",
    "    \n",
    "country_avg_score, country_avg_mc, count_c = avg_score_by_keys(df, 'production_countries', country_keys)\n",
    "\n",
    "# Merging various countries:\n",
    "# country_avg_score['Czechoslovakia'] = round(df[df['production_countries'].str.contains(\"Czech\")]['votescore'].mean(),3)\n",
    "# country_avg_mc['Czechoslovakia'] = round(df[df['metacritic'] > 0][df['production_countries'].str.contains(\"Czech\")]['metacritic'].mean(),3)\n",
    "# count_c['Czechoslovakia'] = len(df[df['metacritic'] > 0][df['production_countries'].str.contains(\"Czech\")]['metacritic'])\n",
    "\n",
    "avgs_s = [country_avg_score[k] for k in country_keys]\n",
    "count_mc = [count_c.get(k,0) for k in country_keys]\n",
    "avgs_mc = [country_avg_mc.get(k,-1) for k in country_keys]\n",
    "    \n",
    "data_country = {'country':country_keys, 'freq':country_vals, 'avg_score': avgs_s, 'avg_metacritic': avgs_mc, 'count_mc': count_mc}\n",
    "df_country = pd.DataFrame(data=data_country, index=None)"
   ]
  },
  {
   "cell_type": "code",
   "execution_count": null,
   "id": "eeadf621",
   "metadata": {},
   "outputs": [],
   "source": [
    "df_country = df_country.drop_duplicates(subset=['country'], keep=\"first\")"
   ]
  },
  {
   "cell_type": "code",
   "execution_count": null,
   "id": "f4836e04",
   "metadata": {
    "scrolled": false
   },
   "outputs": [],
   "source": [
    "sns.barplot(data=df_country.sort_values(\"freq\", ascending=False).head(15),y='country',x='freq')"
   ]
  },
  {
   "cell_type": "code",
   "execution_count": null,
   "id": "c884b043",
   "metadata": {},
   "outputs": [],
   "source": [
    "plt.figure(figsize = (15,12))\n",
    "sorted_data_country = df_country.sort_values(\"avg_score\", ascending=False)\n",
    "\n",
    "pal = sns.diverging_palette(170, 10, l=85, s=120, sep=10, n=55)\n",
    "\n",
    "ax_ctry = sns.barplot(data = sorted_data_country, y=\"country\", x=\"avg_score\", edgecolor = '.5', palette=pal)\n",
    "plt.xlabel('Votescore Average')\n",
    "plt.ylabel(\"Production Country\")\n",
    "plt.title('Top Vote Score Averages by Production Countries')\n",
    "\n",
    "labels_a = [f\"{x} film(s)\" for x in sorted_data_country['freq']]\n",
    "labels_b = [f\" {round(b,1)}\" for b in sorted_data_country['avg_score']]\n",
    "\n",
    "plt.bar_label(ax_ctry.containers[-1], labels = labels_a, label_type='center')\n",
    "plt.bar_label(ax_ctry.containers[-1], labels = labels_b)\n",
    "\n",
    "plt.savefig('graphs/score_average_by_country.png', bbox_inches='tight')\n",
    "plt.show()"
   ]
  },
  {
   "cell_type": "code",
   "execution_count": null,
   "id": "8ff11b1b",
   "metadata": {},
   "outputs": [],
   "source": [
    "plt.figure(figsize = (15,12))\n",
    "sorted_data_country = df_country.sort_values(\"avg_metacritic\", ascending=False).query('avg_metacritic > 0')\n",
    "\n",
    "pal = sns.diverging_palette(140, 10, l=85, s=120, sep=10, n=55)\n",
    "\n",
    "ax_ctry = sns.barplot(data = sorted_data_country, y=\"country\", x=\"avg_metacritic\", edgecolor = '.5', palette=pal)\n",
    "plt.xlabel('Votescore average')\n",
    "plt.ylabel(\"Production Country\")\n",
    "plt.title('Metacritic Score Averages by Countries')\n",
    "\n",
    "labels_a = [f\"{x} film(s)\" for x in sorted_data_country['count_mc']]\n",
    "labels_b = [f\" {round(b,1)}\" for b in sorted_data_country['avg_metacritic']]\n",
    "\n",
    "plt.bar_label(ax_ctry.containers[-1], labels = labels_a, label_type='center')\n",
    "plt.bar_label(ax_ctry.containers[-1], labels = labels_b)\n",
    "\n",
    "plt.show()"
   ]
  },
  {
   "cell_type": "markdown",
   "id": "ed5d8c19",
   "metadata": {},
   "source": [
    "# Continent"
   ]
  },
  {
   "cell_type": "code",
   "execution_count": null,
   "id": "1ef3ae60",
   "metadata": {},
   "outputs": [],
   "source": [
    "# Source: https://stackoverflow.com/questions/55910004/get-continent-name-from-country-using-pycountry\n",
    "import pycountry_convert as pc\n",
    "\n",
    "def country_to_continent(country_name):\n",
    "    try:\n",
    "        if \"czech\" in country_name.lower():\n",
    "            country_name = \"Czechia\"\n",
    "        if \"serbia\" in country_name.lower():\n",
    "            country_name = \"Serbia\"\n",
    "        if \"germany\" in country_name.lower():\n",
    "            country_name = \"Germany\"\n",
    "        country_alpha2 = pc.country_name_to_country_alpha2(country_name)\n",
    "    except KeyError:\n",
    "        country_alpha2 = pc.country_name_to_country_alpha2(country_name.split()[0])\n",
    "    country_continent_code = pc.country_alpha2_to_continent_code(country_alpha2)\n",
    "    country_continent_name = pc.convert_continent_code_to_continent_name(country_continent_code)\n",
    "    return country_continent_name\n",
    "\n",
    "df_country['continent'] = df_country['country'].apply(country_to_continent)"
   ]
  },
  {
   "cell_type": "code",
   "execution_count": null,
   "id": "0d8dcb0e",
   "metadata": {},
   "outputs": [],
   "source": [
    "df_country[{'country','continent','freq','avg_score'}].groupby('continent').avg_score.mean().round(1)"
   ]
  },
  {
   "cell_type": "code",
   "execution_count": null,
   "id": "508104c2",
   "metadata": {
    "scrolled": false
   },
   "outputs": [],
   "source": [
    "plt.figure(figsize = (8,8))\n",
    "\n",
    "pal = sns.diverging_palette(200, 350, l=65, s=100, center='light', n=4)\n",
    "\n",
    "\n",
    "sns.boxplot(data=df_country, y='continent', x='avg_score', palette=pal)\n",
    "plt.xlabel('Average Score Between Metacritic and IMDb Votescore')\n",
    "plt.ylabel(\"Continent\")\n",
    "plt.title('Average Animated Movie Scores by Continents')\n",
    "\n",
    "plt.show()"
   ]
  },
  {
   "cell_type": "code",
   "execution_count": null,
   "id": "1af0afd4",
   "metadata": {},
   "outputs": [],
   "source": [
    "def make_df(data, counted_col, count_by_one=True, y=\"freq\",):\n",
    "    temp = dataDict = {}\n",
    "\n",
    "    # Dictionary counts frequencies\n",
    "    if count_by_one:\n",
    "        for c in data:\n",
    "            try:\n",
    "                for x in c.split(', '):\n",
    "                    if x == \"\":\n",
    "                        continue\n",
    "                    val = temp.get(x.strip(), 0)\n",
    "                    temp[x] = val + 1\n",
    "            except AttributeError:\n",
    "                    val = temp.get(\"Uncredited\", 0)\n",
    "                    temp[x] = val + 1\n",
    "        for key in temp:\n",
    "            dataDict[key] = temp[key]\n",
    "    else:\n",
    "        for i in range(len(data)):\n",
    "            val = temp.get(data[counted_col][i], 0)\n",
    "            temp[data[counted_col][i]] = val + data[y][i]\n",
    "        for key in temp:\n",
    "            dataDict[key] = temp[key]\n",
    "\n",
    "    keys = list(dataDict.keys())\n",
    "    vals = [dataDict[k] for k in keys]\n",
    "\n",
    "    data_final = {counted_col:keys, y:vals}\n",
    "    df_final = pd.DataFrame(data=data_final, index=None)\n",
    "    \n",
    "    return df_final"
   ]
  },
  {
   "cell_type": "code",
   "execution_count": null,
   "id": "60b412c9",
   "metadata": {},
   "outputs": [],
   "source": [
    "df_cont = make_df(df_country, 'continent', False)"
   ]
  },
  {
   "cell_type": "code",
   "execution_count": null,
   "id": "b04bcf41",
   "metadata": {
    "scrolled": false
   },
   "outputs": [],
   "source": [
    "df_cont"
   ]
  },
  {
   "cell_type": "code",
   "execution_count": null,
   "id": "12371061",
   "metadata": {},
   "outputs": [],
   "source": [
    "sns.barplot(data=df_cont.sort_values(\"freq\",ascending=False), x='continent', y='freq')"
   ]
  },
  {
   "cell_type": "code",
   "execution_count": null,
   "id": "71334a24",
   "metadata": {},
   "outputs": [],
   "source": [
    "def check_continents(data):\n",
    "    cont_list = set()\n",
    "    for x in data.split(', '):\n",
    "#         print(x)\n",
    "        val = country_to_continent(x)\n",
    "#         print(val)\n",
    "        cont_list.add(val) \n",
    "    return cont_list"
   ]
  },
  {
   "cell_type": "code",
   "execution_count": null,
   "id": "3ce639df",
   "metadata": {},
   "outputs": [],
   "source": [
    "df['continent_namerica'] = df['production_countries'].apply(lambda x: 1 if \"North America\" in check_continents(x) else 0)\n",
    "df['continent_europe'] = df['production_countries'].apply(lambda x: 1 if \"Europe\" in check_continents(x) else 0)\n",
    "df['continent_asia'] = df['production_countries'].apply(lambda x: 1 if \"Asia\" in check_continents(x) else 0)\n",
    "df['continent_oceania'] = df['production_countries'].apply(lambda x: 1 if \"Oceania\" in check_continents(x) else 0)"
   ]
  },
  {
   "cell_type": "code",
   "execution_count": null,
   "id": "e68f5194",
   "metadata": {
    "scrolled": false
   },
   "outputs": [],
   "source": [
    "df.head(5)"
   ]
  },
  {
   "cell_type": "markdown",
   "id": "f26522e3",
   "metadata": {},
   "source": [
    "### Language and Country"
   ]
  },
  {
   "cell_type": "code",
   "execution_count": null,
   "id": "5f6aa9e4",
   "metadata": {},
   "outputs": [],
   "source": [
    "plt.figure(figsize = (10,8))\n",
    "sns.violinplot(data=df, x=\"country_count\",\n",
    "                y=\"language_count\", palette=\"muted\")"
   ]
  },
  {
   "cell_type": "code",
   "execution_count": null,
   "id": "f510651e",
   "metadata": {},
   "outputs": [],
   "source": [
    "sns.countplot(data=df,x=\"language_count\")"
   ]
  },
  {
   "cell_type": "code",
   "execution_count": null,
   "id": "448380da",
   "metadata": {},
   "outputs": [],
   "source": [
    "df_lang = make_df(df['languages'], 'languages', True)"
   ]
  },
  {
   "cell_type": "code",
   "execution_count": null,
   "id": "feffb179",
   "metadata": {
    "scrolled": false
   },
   "outputs": [],
   "source": [
    "plt.figure(figsize = (10,4))\n",
    "sns.barplot(data=df_lang.sort_values(\"freq\",ascending=False).head(10),y='languages',x='freq')"
   ]
  },
  {
   "cell_type": "code",
   "execution_count": null,
   "id": "4335324d",
   "metadata": {},
   "outputs": [],
   "source": [
    "df_lang.sort_values('freq',ascending=False).head(10).value_counts"
   ]
  },
  {
   "cell_type": "code",
   "execution_count": null,
   "id": "95f51cb5",
   "metadata": {},
   "outputs": [],
   "source": [
    "df['lang_english'] = df['languages'].apply(lambda x: 1 if \"English\" in x else 0)\n",
    "df['lang_japanese'] = df['languages'].apply(lambda x: 1 if \"Japanese\" in x else 0)\n",
    "df['lang_french'] = df['languages'].apply(lambda x: 1 if \"French\" in x else 0)\n",
    "df['lang_spanish'] = df['languages'].apply(lambda x: 1 if \"Spanish\" in x else 0)\n",
    "df['lang_german'] = df['languages'].apply(lambda x: 1 if \"German\" in x else 0)"
   ]
  },
  {
   "cell_type": "markdown",
   "id": "b15ad609",
   "metadata": {},
   "source": [
    "# Director / Writers"
   ]
  },
  {
   "cell_type": "code",
   "execution_count": null,
   "id": "97e8f312",
   "metadata": {},
   "outputs": [],
   "source": [
    "sns.countplot(data=df.sort_values(\"director_count\",ascending=False), x='director_count')\n",
    "plt.title('Typical Director Count in Animated Movies')\n",
    "plt.ylabel('Movie Count')\n",
    "plt.xlabel('Director Involvement')\n",
    "plt.show()"
   ]
  },
  {
   "cell_type": "code",
   "execution_count": null,
   "id": "c1581513",
   "metadata": {},
   "outputs": [],
   "source": [
    "sns.countplot(data=df.sort_values(\"writer_count\",ascending=False), x='writer_count')\n",
    "plt.title('Typical Writer Count in Animated Movies')\n",
    "plt.ylabel('Movie Count')\n",
    "plt.xlabel('Writer Involvement')\n",
    "plt.show()"
   ]
  },
  {
   "cell_type": "code",
   "execution_count": null,
   "id": "938567a4",
   "metadata": {},
   "outputs": [],
   "source": [
    "try:\n",
    "    df.insert(len(df.columns),'written_by_director',-1)\n",
    "except ValueError:\n",
    "    print(\"Column probably already exists\")\n",
    "\n",
    "def a_in_b(df,col_a,col_b,new_col):\n",
    "    for x in range(len(df)):\n",
    "        for a in df[col_a][x].split(\", \"):\n",
    "            if df[new_col][x] == 1:\n",
    "                continue\n",
    "            if a.strip() in df[col_b][x].split(\", \"):\n",
    "                df[new_col][x] = 1\n",
    "            else:\n",
    "                df[new_col][x] = 0\n",
    "#                 print(f'{a} {df[col_b][x].split(\", \")}')\n",
    "            \n",
    "        \n",
    "a_in_b(df,'writers','directors','written_by_director')"
   ]
  },
  {
   "cell_type": "code",
   "execution_count": null,
   "id": "04a46009",
   "metadata": {},
   "outputs": [],
   "source": [
    "df_dir = make_df(df['directors'], 'director', True)"
   ]
  },
  {
   "cell_type": "code",
   "execution_count": null,
   "id": "4165ad14",
   "metadata": {},
   "outputs": [],
   "source": [
    "df_wri = make_df(df['writers'], 'writer', True)"
   ]
  },
  {
   "cell_type": "code",
   "execution_count": null,
   "id": "21476217",
   "metadata": {},
   "outputs": [],
   "source": [
    "df_dir"
   ]
  },
  {
   "cell_type": "code",
   "execution_count": null,
   "id": "be1c8036",
   "metadata": {},
   "outputs": [],
   "source": [
    "df.columns.get_loc('directors')"
   ]
  },
  {
   "cell_type": "code",
   "execution_count": null,
   "id": "7706246b",
   "metadata": {},
   "outputs": [],
   "source": [
    "# Go through df_orig -> For each row, check freq number (from df_freq) for each director involved. \n",
    "\n",
    "# Example: Ron Clements had a director's role for 7 movies, John Musker had a directing role for 6.\n",
    "# Therefore, if Clements and Musker both have a directing for Aladdin, then the movie has 7 + 6 frequency points\n",
    "\n",
    "def get_freq_points(target,df_orig,df_freq):\n",
    "    new_colname = target +'_freq_points'\n",
    "    \n",
    "    try:\n",
    "        df.insert(df.columns.get_loc(target),new_colname,False)\n",
    "    except ValueError:\n",
    "        print('Column probably already exists. Insertion failed.')\n",
    "    \n",
    "    if target == 'directors':\n",
    "        col = 'director'\n",
    "    elif target == 'writers':\n",
    "        col = 'writer'\n",
    "    else:\n",
    "        col = target\n",
    "        \n",
    "    points = {}\n",
    "    \n",
    "    index = 0\n",
    "    for x in df_orig[target]:\n",
    "        total_points = 0\n",
    "#         print(x)\n",
    "        for y in x.split(\", \"):\n",
    "            total_points += df_freq[df_freq[col] == y]['freq'].iloc[0]\n",
    "#             print(f\"{y}: {df_freq[df_freq[col] == y]['freq'].iloc[0]}\")\n",
    "#         print(f'{\"Total points\"}: {total_points}')\n",
    "#         print('-----------------')\n",
    "        df_orig[new_colname][index] = total_points\n",
    "        index += 1"
   ]
  },
  {
   "cell_type": "code",
   "execution_count": null,
   "id": "59312335",
   "metadata": {},
   "outputs": [],
   "source": [
    "get_freq_points('directors',df,df_dir)"
   ]
  },
  {
   "cell_type": "code",
   "execution_count": null,
   "id": "92688647",
   "metadata": {
    "scrolled": true
   },
   "outputs": [],
   "source": [
    "get_freq_points('writers',df,df_wri)"
   ]
  },
  {
   "cell_type": "code",
   "execution_count": null,
   "id": "3c07076b",
   "metadata": {},
   "outputs": [],
   "source": [
    "plt.figure(figsize = (10,8))\n",
    "sns.barplot(data=df_dir.sort_values(\"freq\",ascending=False).head(23), x=\"freq\", y=\"director\")\n",
    "plt.title('Most Frequent Directors in Animated Movies')\n",
    "plt.savefig('graphs/frequent_directors.png', bbox_inches='tight')\n",
    "plt.show()"
   ]
  },
  {
   "cell_type": "code",
   "execution_count": null,
   "id": "c26fc44b",
   "metadata": {},
   "outputs": [],
   "source": [
    "plt.figure(figsize = (10,8))\n",
    "sns.barplot(data=df_wri.sort_values(\"freq\",ascending=False).head(25), x=\"freq\", y=\"writer\")\n",
    "plt.title('Most Frequent Writers in Animated Movies')\n",
    "plt.show()"
   ]
  },
  {
   "cell_type": "markdown",
   "id": "9da8c084",
   "metadata": {},
   "source": [
    "# Box Office"
   ]
  },
  {
   "cell_type": "code",
   "execution_count": null,
   "id": "0fb7a277",
   "metadata": {},
   "outputs": [],
   "source": [
    "df[df['box_office'] > 0].worldwide_gross_usd.hist(bins=100)"
   ]
  },
  {
   "cell_type": "code",
   "execution_count": null,
   "id": "61a55a8b",
   "metadata": {},
   "outputs": [],
   "source": [
    "np.cbrt(df[df['box_office'] > 0].worldwide_gross_usd).hist(bins=30)"
   ]
  },
  {
   "cell_type": "code",
   "execution_count": null,
   "id": "2e2ab9e3",
   "metadata": {},
   "outputs": [],
   "source": [
    "np.sqrt(df[df['box_office'] > 0].budget_est_usd).hist(bins=30)"
   ]
  },
  {
   "cell_type": "code",
   "execution_count": null,
   "id": "30ddafc2",
   "metadata": {},
   "outputs": [],
   "source": [
    "df['orig_bgt_currency'] = df['orig_bgt_currency'].apply(lambda x: 'other' if x not in ['usd','yen','pound'] else x)"
   ]
  },
  {
   "cell_type": "code",
   "execution_count": null,
   "id": "5be721b4",
   "metadata": {},
   "outputs": [],
   "source": [
    "sns.boxplot(data=df,x='orig_bgt_currency', y='budget_est_usd')\n",
    "plt.tick_params(axis='x', rotation=45)\n",
    "plt.show()"
   ]
  },
  {
   "cell_type": "code",
   "execution_count": null,
   "id": "53847334",
   "metadata": {},
   "outputs": [],
   "source": [
    "df.orig_bgt_currency.value_counts()"
   ]
  },
  {
   "cell_type": "code",
   "execution_count": null,
   "id": "a766062b",
   "metadata": {},
   "outputs": [],
   "source": [
    "a = df.groupby(df[df['box_office'] > 0]['year']).budget_est_usd.median()"
   ]
  },
  {
   "cell_type": "code",
   "execution_count": null,
   "id": "bc88f512",
   "metadata": {},
   "outputs": [],
   "source": [
    "b = df.groupby(df[df['box_office'] > 0]['year']).profit_usd.median()"
   ]
  },
  {
   "cell_type": "code",
   "execution_count": null,
   "id": "cb5d5edb",
   "metadata": {},
   "outputs": [],
   "source": [
    "c = df.groupby(df[df['box_office'] > 0]['year']).worldwide_gross_usd.median()"
   ]
  },
  {
   "cell_type": "code",
   "execution_count": null,
   "id": "1119ac3f",
   "metadata": {},
   "outputs": [],
   "source": [
    "years = a.index.astype(int)\n",
    "\n",
    "fig, axes = plt.subplots(1, 2, figsize=(16, 5))\n",
    "\n",
    "axes[0].plot(years, a.values.astype(float).round(2), lw=2, color=\"orange\", alpha=0.7, label=\"budget\")\n",
    "axes[1].plot(years, b.values.astype(float).round(2), lw=2, color=\"green\", alpha=.7, label=\"profit\")\n",
    "axes[1].plot(years, c.values.astype(float).round(2), lw=2, color=\"blue\", alpha=.3, label=\"worldwide gross\")\n",
    "\n",
    "axes[0].set_title(\"Average Box Office Movie Budget Over Time\")\n",
    "axes[1].set_title(\"Average Box Office Movie Profit/Worldwide Gross Over Time\")\n",
    "\n",
    "axes[0].set_xlabel(\"Year\")\n",
    "axes[1].set_xlabel(\"Year\")\n",
    "\n",
    "axes[0].set_ylabel(\"USD ($10 Million)\")\n",
    "axes[1].set_ylabel(\"USD ($10 Million)\")\n",
    "\n",
    "axes[1].annotate(\"As costs go up, profits become more volatile over time\",\n",
    "            xy=(550, 50), xycoords='figure pixels')\n",
    "\n",
    "plt.legend(loc=\"upper left\")\n",
    "plt.savefig('graphs/box_office_costs_profits.png', bbox_inches='tight')\n",
    "plt.show()"
   ]
  },
  {
   "cell_type": "code",
   "execution_count": null,
   "id": "d9ff0892",
   "metadata": {},
   "outputs": [],
   "source": [
    "r = df.groupby(df['year']).runtime_minutes.mean().astype(float).round(2)\n",
    "bpm = df.groupby(df['year']).avg_usd_budget_per_minute.median().astype(float).round(2)"
   ]
  },
  {
   "cell_type": "code",
   "execution_count": null,
   "id": "b556f0a5",
   "metadata": {},
   "outputs": [],
   "source": [
    "fig, ax = plt.subplots(figsize=(16, 5))\n",
    "ax2 = ax.twinx()\n",
    "\n",
    "ax.plot(r.index, r.values.astype(float).round(2), lw=2, color=\"orange\", alpha=0.7, label=\"runtime\")\n",
    "ax2.plot(bpm.index, bpm.values.astype(float).round(2), lw=2, color=\"red\", alpha=0.4, label=\"runtime\")"
   ]
  },
  {
   "cell_type": "code",
   "execution_count": null,
   "id": "fffd5970",
   "metadata": {},
   "outputs": [],
   "source": [
    "box_office_genre = round(pd.pivot_table(df_validBO, \n",
    "                                        index='genres',\n",
    "                                        values='worldwide_gross_usd', \n",
    "                                        aggfunc = 'median'),3)\n",
    "\n",
    "box_office_genre.sort_values('worldwide_gross_usd', ascending=False)"
   ]
  },
  {
   "cell_type": "markdown",
   "id": "ed090e5f",
   "metadata": {},
   "source": [
    "# Votes"
   ]
  },
  {
   "cell_type": "code",
   "execution_count": null,
   "id": "d5708a2e",
   "metadata": {},
   "outputs": [],
   "source": [
    "sns.histplot(x=df['votes'])"
   ]
  },
  {
   "cell_type": "markdown",
   "id": "1f83ab89",
   "metadata": {},
   "source": [
    "# Votescore / Metacritic"
   ]
  },
  {
   "cell_type": "code",
   "execution_count": null,
   "id": "129d8fa6",
   "metadata": {},
   "outputs": [],
   "source": [
    "def swap(l,a,b):\n",
    "    temp = l[a]\n",
    "    l[a] = l[b]\n",
    "    l[b] = temp\n",
    "\n",
    "plt.figure(figsize = (15,8))\n",
    "sns.scatterplot(data=df[df['metacritic'] != -1], y=\"metacritic\" ,x=\"votescore\",\n",
    "                s=80,hue=\"rating\", palette=\"muted\", style=\"year_period\")\n",
    "\n",
    "L = plt.legend(ncol=2)\n",
    "\n",
    "current_handles, current_labels = plt.gca().get_legend_handles_labels()\n",
    "\n",
    "current_labels[0] = \"Rating\"\n",
    "current_labels[-1] = \"1960 - 1985\"\n",
    "current_labels[-2] = \"< 1960\"\n",
    "current_labels[-3] = \"1985-2000\"\n",
    "current_labels[-4] = \"> 2000\"\n",
    "current_labels[-5] = \"\\nYear Period\"\n",
    "\n",
    "swap(current_handles,-1,-3)\n",
    "swap(current_handles,-1,-2)\n",
    "swap(current_handles,-1,-4)\n",
    "\n",
    "swap(current_labels,-1,-3)\n",
    "swap(current_labels,-1,-2)\n",
    "swap(current_labels,-1,-4)\n",
    "\n",
    "# sort or reorder the labels and handles\n",
    "plt.legend(current_handles,current_labels,ncol=2,labelspacing = .75)\n",
    "plt.savefig('graphs/vote_meta2.png', bbox_inches='tight')\n",
    "plt.show()"
   ]
  },
  {
   "cell_type": "code",
   "execution_count": null,
   "id": "068adec4",
   "metadata": {},
   "outputs": [],
   "source": [
    "def metacritic_bin(x):\n",
    "    if x >= 60:\n",
    "        return 'green'\n",
    "    elif x < 60 and x >= 40:\n",
    "        return 'yellow'\n",
    "    elif x < 40 and x >= 1:\n",
    "        return 'red'\n",
    "    else:\n",
    "        return 'none'\n",
    "    \n",
    "df['metacritic_colorcode'] = df['metacritic'].map(metacritic_bin)"
   ]
  },
  {
   "cell_type": "code",
   "execution_count": null,
   "id": "5586a937",
   "metadata": {},
   "outputs": [],
   "source": [
    "df['good_overall_score'] = df['avg_rating_score'].apply(lambda x: 1 if x > 60 else 0)"
   ]
  },
  {
   "cell_type": "markdown",
   "id": "450b2413",
   "metadata": {},
   "source": [
    "# END"
   ]
  },
  {
   "cell_type": "code",
   "execution_count": null,
   "id": "a063b34c",
   "metadata": {
    "scrolled": true
   },
   "outputs": [],
   "source": [
    "df.columns"
   ]
  },
  {
   "cell_type": "code",
   "execution_count": null,
   "id": "3a9de43d",
   "metadata": {},
   "outputs": [],
   "source": [
    "df.to_csv(\"imdb_eda.csv\", index = False)"
   ]
  }
 ],
 "metadata": {
  "kernelspec": {
   "display_name": "Python 3 (ipykernel)",
   "language": "python",
   "name": "python3"
  },
  "language_info": {
   "codemirror_mode": {
    "name": "ipython",
    "version": 3
   },
   "file_extension": ".py",
   "mimetype": "text/x-python",
   "name": "python",
   "nbconvert_exporter": "python",
   "pygments_lexer": "ipython3",
   "version": "3.10.9"
  }
 },
 "nbformat": 4,
 "nbformat_minor": 5
}
