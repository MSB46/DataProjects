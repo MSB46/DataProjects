{
 "cells": [
  {
   "cell_type": "markdown",
   "id": "7de30b92",
   "metadata": {},
   "source": [
    "365 Classification Modeling\n",
    "\n",
    "**Goal:  Develop a machine learning model to predict whether a Free Plan user would convert to a paid subscriber or not.**"
   ]
  },
  {
   "cell_type": "markdown",
   "id": "5c23db93",
   "metadata": {
    "toc": true
   },
   "source": [
    "<h1>Table of Contents<span class=\"tocSkip\"></span></h1>\n",
    "<div class=\"toc\"><ul class=\"toc-item\"><li><span><a href=\"#Preprocessing-the-data\" data-toc-modified-id=\"Preprocessing-the-data-1\"><span class=\"toc-item-num\">1&nbsp;&nbsp;</span>Preprocessing the data</a></span><ul class=\"toc-item\"><li><ul class=\"toc-item\"><li><span><a href=\"#Split-your-data-into-training-and-testing-sets.\" data-toc-modified-id=\"Split-your-data-into-training-and-testing-sets.-1.0.1\"><span class=\"toc-item-num\">1.0.1&nbsp;&nbsp;</span>Split your data into training and testing sets.</a></span></li><li><span><a href=\"#SMOTE-(Synthetic-Minority-Oversampling)\" data-toc-modified-id=\"SMOTE-(Synthetic-Minority-Oversampling)-1.0.2\"><span class=\"toc-item-num\">1.0.2&nbsp;&nbsp;</span>SMOTE (Synthetic Minority Oversampling)</a></span></li><li><span><a href=\"#Undersampling-Oversampled-Data\" data-toc-modified-id=\"Undersampling-Oversampled-Data-1.0.3\"><span class=\"toc-item-num\">1.0.3&nbsp;&nbsp;</span>Undersampling Oversampled Data</a></span></li><li><span><a href=\"#Oversampling-->-Undersampling-Pipeline\" data-toc-modified-id=\"Oversampling-->-Undersampling-Pipeline-1.0.4\"><span class=\"toc-item-num\">1.0.4&nbsp;&nbsp;</span>Oversampling -&gt; Undersampling Pipeline</a></span></li></ul></li><li><span><a href=\"#Beginning-model-testing\" data-toc-modified-id=\"Beginning-model-testing-1.1\"><span class=\"toc-item-num\">1.1&nbsp;&nbsp;</span>Beginning model testing</a></span><ul class=\"toc-item\"><li><ul class=\"toc-item\"><li><span><a href=\"#Print-Functions\" data-toc-modified-id=\"Print-Functions-1.1.0.1\"><span class=\"toc-item-num\">1.1.0.1&nbsp;&nbsp;</span>Print Functions</a></span></li></ul></li><li><span><a href=\"#Reducing-dimensionality-for-certain-models\" data-toc-modified-id=\"Reducing-dimensionality-for-certain-models-1.1.1\"><span class=\"toc-item-num\">1.1.1&nbsp;&nbsp;</span>Reducing dimensionality for certain models</a></span></li><li><span><a href=\"#Model-0---SGDClassifier\" data-toc-modified-id=\"Model-0---SGDClassifier-1.1.2\"><span class=\"toc-item-num\">1.1.2&nbsp;&nbsp;</span>Model 0 - SGDClassifier</a></span></li><li><span><a href=\"#Model-1---Ridge\" data-toc-modified-id=\"Model-1---Ridge-1.1.3\"><span class=\"toc-item-num\">1.1.3&nbsp;&nbsp;</span>Model 1 - Ridge</a></span></li><li><span><a href=\"#Model-2---Logistic\" data-toc-modified-id=\"Model-2---Logistic-1.1.4\"><span class=\"toc-item-num\">1.1.4&nbsp;&nbsp;</span>Model 2 - Logistic</a></span></li><li><span><a href=\"#Model-3---Decision-Tree\" data-toc-modified-id=\"Model-3---Decision-Tree-1.1.5\"><span class=\"toc-item-num\">1.1.5&nbsp;&nbsp;</span>Model 3 - Decision Tree</a></span></li><li><span><a href=\"#Model-4---KNN\" data-toc-modified-id=\"Model-4---KNN-1.1.6\"><span class=\"toc-item-num\">1.1.6&nbsp;&nbsp;</span>Model 4 - KNN</a></span></li><li><span><a href=\"#Model-5---Gradient-Boost\" data-toc-modified-id=\"Model-5---Gradient-Boost-1.1.7\"><span class=\"toc-item-num\">1.1.7&nbsp;&nbsp;</span>Model 5 - Gradient Boost</a></span></li><li><span><a href=\"#Model-6---XGBoost\" data-toc-modified-id=\"Model-6---XGBoost-1.1.8\"><span class=\"toc-item-num\">1.1.8&nbsp;&nbsp;</span>Model 6 - XGBoost</a></span></li><li><span><a href=\"#Voting-Ensemble\" data-toc-modified-id=\"Voting-Ensemble-1.1.9\"><span class=\"toc-item-num\">1.1.9&nbsp;&nbsp;</span>Voting Ensemble</a></span></li><li><span><a href=\"#Stack-Ensemble\" data-toc-modified-id=\"Stack-Ensemble-1.1.10\"><span class=\"toc-item-num\">1.1.10&nbsp;&nbsp;</span>Stack Ensemble</a></span></li></ul></li><li><span><a href=\"#Observations\" data-toc-modified-id=\"Observations-1.2\"><span class=\"toc-item-num\">1.2&nbsp;&nbsp;</span>Observations</a></span></li></ul></li><li><span><a href=\"#Exporting-the-best-performing-model\" data-toc-modified-id=\"Exporting-the-best-performing-model-2\"><span class=\"toc-item-num\">2&nbsp;&nbsp;</span>Exporting the best performing model</a></span></li></ul></div>"
   ]
  },
  {
   "cell_type": "markdown",
   "id": "1e491ff9",
   "metadata": {},
   "source": [
    "# Preprocessing the data"
   ]
  },
  {
   "cell_type": "markdown",
   "id": "5b57012d",
   "metadata": {},
   "source": [
    "**Goal:  Develop a machine learning model to predict whether a Free Plan user would convert to a paid subscriber or not.**"
   ]
  },
  {
   "cell_type": "code",
   "execution_count": 1,
   "id": "d59c4328",
   "metadata": {},
   "outputs": [],
   "source": [
    "import pandas as pd\n",
    "import imblearn\n",
    "import numpy as np\n",
    "import sklearn\n",
    "\n",
    "from sklearn.metrics import (\n",
    "    classification_report,\n",
    "    confusion_matrix,\n",
    "    accuracy_score,\n",
    "    roc_auc_score,\n",
    ")\n",
    "from sklearn.metrics import (\n",
    "    f1_score,\n",
    "    precision_score,\n",
    "    recall_score,\n",
    "    average_precision_score,\n",
    ")\n",
    "\n",
    "from sklearn.naive_bayes import GaussianNB\n",
    "from sklearn.linear_model import LogisticRegression, SGDClassifier\n",
    "from sklearn.neighbors import KNeighborsClassifier\n",
    "from sklearn.ensemble import (\n",
    "    RandomForestClassifier,\n",
    "    VotingClassifier,\n",
    "    StackingClassifier,\n",
    "    GradientBoostingClassifier,\n",
    ")\n",
    "import xgboost as xgb\n",
    "from xgboost import XGBClassifier\n",
    "from sklearn.tree import DecisionTreeClassifier\n",
    "\n",
    "from sklearn.svm import SVC\n",
    "from sklearn.linear_model import RidgeClassifier\n",
    "\n",
    "from imblearn.under_sampling import (\n",
    "    CondensedNearestNeighbour,\n",
    "    RandomUnderSampler,\n",
    "    TomekLinks,\n",
    "    EditedNearestNeighbours,\n",
    ")\n",
    "from feature_engine.encoding import PRatioEncoder, RareLabelEncoder\n",
    "from sklearn.model_selection import GridSearchCV, RandomizedSearchCV, cross_validate\n",
    "\n",
    "from imblearn.pipeline import Pipeline\n",
    "\n",
    "import warnings\n",
    "\n",
    "warnings.filterwarnings(\"ignore\")"
   ]
  },
  {
   "cell_type": "code",
   "execution_count": 2,
   "id": "f042f3f2",
   "metadata": {},
   "outputs": [
    {
     "data": {
      "text/html": [
       "<div>\n",
       "<style scoped>\n",
       "    .dataframe tbody tr th:only-of-type {\n",
       "        vertical-align: middle;\n",
       "    }\n",
       "\n",
       "    .dataframe tbody tr th {\n",
       "        vertical-align: top;\n",
       "    }\n",
       "\n",
       "    .dataframe thead th {\n",
       "        text-align: right;\n",
       "    }\n",
       "</style>\n",
       "<table border=\"1\" class=\"dataframe\">\n",
       "  <thead>\n",
       "    <tr style=\"text-align: right;\">\n",
       "      <th></th>\n",
       "      <th>student_id</th>\n",
       "      <th>registered_month</th>\n",
       "      <th>registered_day</th>\n",
       "      <th>country</th>\n",
       "      <th>asked_question</th>\n",
       "      <th>engaged_lessons</th>\n",
       "      <th>engaged_quiz</th>\n",
       "      <th>engaged_exams</th>\n",
       "      <th>total_minutes_watched</th>\n",
       "      <th>average_rating_given</th>\n",
       "      <th>rating_count</th>\n",
       "      <th>quizzes_taken</th>\n",
       "      <th>quiz_questions_answered</th>\n",
       "      <th>correct_quiz_answers</th>\n",
       "      <th>subscribed</th>\n",
       "    </tr>\n",
       "  </thead>\n",
       "  <tbody>\n",
       "    <tr>\n",
       "      <th>0</th>\n",
       "      <td>283159</td>\n",
       "      <td>7</td>\n",
       "      <td>30</td>\n",
       "      <td>IT</td>\n",
       "      <td>0</td>\n",
       "      <td>0</td>\n",
       "      <td>0</td>\n",
       "      <td>0</td>\n",
       "      <td>0.0</td>\n",
       "      <td>4.75</td>\n",
       "      <td>0</td>\n",
       "      <td>0</td>\n",
       "      <td>0</td>\n",
       "      <td>0</td>\n",
       "      <td>0</td>\n",
       "    </tr>\n",
       "    <tr>\n",
       "      <th>1</th>\n",
       "      <td>285343</td>\n",
       "      <td>8</td>\n",
       "      <td>14</td>\n",
       "      <td>US</td>\n",
       "      <td>0</td>\n",
       "      <td>0</td>\n",
       "      <td>0</td>\n",
       "      <td>0</td>\n",
       "      <td>0.0</td>\n",
       "      <td>4.75</td>\n",
       "      <td>0</td>\n",
       "      <td>0</td>\n",
       "      <td>0</td>\n",
       "      <td>0</td>\n",
       "      <td>0</td>\n",
       "    </tr>\n",
       "    <tr>\n",
       "      <th>2</th>\n",
       "      <td>288729</td>\n",
       "      <td>8</td>\n",
       "      <td>30</td>\n",
       "      <td>TR</td>\n",
       "      <td>0</td>\n",
       "      <td>0</td>\n",
       "      <td>0</td>\n",
       "      <td>0</td>\n",
       "      <td>0.0</td>\n",
       "      <td>4.75</td>\n",
       "      <td>0</td>\n",
       "      <td>0</td>\n",
       "      <td>0</td>\n",
       "      <td>0</td>\n",
       "      <td>0</td>\n",
       "    </tr>\n",
       "    <tr>\n",
       "      <th>3</th>\n",
       "      <td>288975</td>\n",
       "      <td>9</td>\n",
       "      <td>1</td>\n",
       "      <td>IN</td>\n",
       "      <td>0</td>\n",
       "      <td>0</td>\n",
       "      <td>0</td>\n",
       "      <td>0</td>\n",
       "      <td>0.0</td>\n",
       "      <td>4.75</td>\n",
       "      <td>0</td>\n",
       "      <td>0</td>\n",
       "      <td>0</td>\n",
       "      <td>0</td>\n",
       "      <td>0</td>\n",
       "    </tr>\n",
       "    <tr>\n",
       "      <th>4</th>\n",
       "      <td>258899</td>\n",
       "      <td>1</td>\n",
       "      <td>1</td>\n",
       "      <td>SA</td>\n",
       "      <td>0</td>\n",
       "      <td>0</td>\n",
       "      <td>0</td>\n",
       "      <td>0</td>\n",
       "      <td>0.0</td>\n",
       "      <td>4.75</td>\n",
       "      <td>0</td>\n",
       "      <td>0</td>\n",
       "      <td>0</td>\n",
       "      <td>0</td>\n",
       "      <td>0</td>\n",
       "    </tr>\n",
       "    <tr>\n",
       "      <th>...</th>\n",
       "      <td>...</td>\n",
       "      <td>...</td>\n",
       "      <td>...</td>\n",
       "      <td>...</td>\n",
       "      <td>...</td>\n",
       "      <td>...</td>\n",
       "      <td>...</td>\n",
       "      <td>...</td>\n",
       "      <td>...</td>\n",
       "      <td>...</td>\n",
       "      <td>...</td>\n",
       "      <td>...</td>\n",
       "      <td>...</td>\n",
       "      <td>...</td>\n",
       "      <td>...</td>\n",
       "    </tr>\n",
       "    <tr>\n",
       "      <th>35225</th>\n",
       "      <td>278187</td>\n",
       "      <td>6</td>\n",
       "      <td>17</td>\n",
       "      <td>BD</td>\n",
       "      <td>0</td>\n",
       "      <td>0</td>\n",
       "      <td>0</td>\n",
       "      <td>0</td>\n",
       "      <td>0.0</td>\n",
       "      <td>4.75</td>\n",
       "      <td>0</td>\n",
       "      <td>0</td>\n",
       "      <td>0</td>\n",
       "      <td>0</td>\n",
       "      <td>0</td>\n",
       "    </tr>\n",
       "    <tr>\n",
       "      <th>35226</th>\n",
       "      <td>278304</td>\n",
       "      <td>6</td>\n",
       "      <td>18</td>\n",
       "      <td>IN</td>\n",
       "      <td>0</td>\n",
       "      <td>1</td>\n",
       "      <td>1</td>\n",
       "      <td>0</td>\n",
       "      <td>91.2</td>\n",
       "      <td>5.00</td>\n",
       "      <td>1</td>\n",
       "      <td>6</td>\n",
       "      <td>9</td>\n",
       "      <td>5</td>\n",
       "      <td>0</td>\n",
       "    </tr>\n",
       "    <tr>\n",
       "      <th>35227</th>\n",
       "      <td>279125</td>\n",
       "      <td>6</td>\n",
       "      <td>24</td>\n",
       "      <td>GB</td>\n",
       "      <td>0</td>\n",
       "      <td>0</td>\n",
       "      <td>0</td>\n",
       "      <td>0</td>\n",
       "      <td>0.0</td>\n",
       "      <td>4.75</td>\n",
       "      <td>0</td>\n",
       "      <td>4</td>\n",
       "      <td>7</td>\n",
       "      <td>7</td>\n",
       "      <td>0</td>\n",
       "    </tr>\n",
       "    <tr>\n",
       "      <th>35228</th>\n",
       "      <td>280000</td>\n",
       "      <td>7</td>\n",
       "      <td>1</td>\n",
       "      <td>US</td>\n",
       "      <td>0</td>\n",
       "      <td>1</td>\n",
       "      <td>1</td>\n",
       "      <td>0</td>\n",
       "      <td>91.6</td>\n",
       "      <td>4.75</td>\n",
       "      <td>0</td>\n",
       "      <td>5</td>\n",
       "      <td>8</td>\n",
       "      <td>8</td>\n",
       "      <td>1</td>\n",
       "    </tr>\n",
       "    <tr>\n",
       "      <th>35229</th>\n",
       "      <td>280997</td>\n",
       "      <td>7</td>\n",
       "      <td>10</td>\n",
       "      <td>TZ</td>\n",
       "      <td>0</td>\n",
       "      <td>0</td>\n",
       "      <td>0</td>\n",
       "      <td>0</td>\n",
       "      <td>0.0</td>\n",
       "      <td>4.75</td>\n",
       "      <td>0</td>\n",
       "      <td>0</td>\n",
       "      <td>0</td>\n",
       "      <td>0</td>\n",
       "      <td>0</td>\n",
       "    </tr>\n",
       "  </tbody>\n",
       "</table>\n",
       "<p>35230 rows × 15 columns</p>\n",
       "</div>"
      ],
      "text/plain": [
       "       student_id  registered_month  registered_day country  asked_question  \\\n",
       "0          283159                 7              30      IT               0   \n",
       "1          285343                 8              14      US               0   \n",
       "2          288729                 8              30      TR               0   \n",
       "3          288975                 9               1      IN               0   \n",
       "4          258899                 1               1      SA               0   \n",
       "...           ...               ...             ...     ...             ...   \n",
       "35225      278187                 6              17      BD               0   \n",
       "35226      278304                 6              18      IN               0   \n",
       "35227      279125                 6              24      GB               0   \n",
       "35228      280000                 7               1      US               0   \n",
       "35229      280997                 7              10      TZ               0   \n",
       "\n",
       "       engaged_lessons  engaged_quiz  engaged_exams  total_minutes_watched  \\\n",
       "0                    0             0              0                    0.0   \n",
       "1                    0             0              0                    0.0   \n",
       "2                    0             0              0                    0.0   \n",
       "3                    0             0              0                    0.0   \n",
       "4                    0             0              0                    0.0   \n",
       "...                ...           ...            ...                    ...   \n",
       "35225                0             0              0                    0.0   \n",
       "35226                1             1              0                   91.2   \n",
       "35227                0             0              0                    0.0   \n",
       "35228                1             1              0                   91.6   \n",
       "35229                0             0              0                    0.0   \n",
       "\n",
       "       average_rating_given  rating_count  quizzes_taken  \\\n",
       "0                      4.75             0              0   \n",
       "1                      4.75             0              0   \n",
       "2                      4.75             0              0   \n",
       "3                      4.75             0              0   \n",
       "4                      4.75             0              0   \n",
       "...                     ...           ...            ...   \n",
       "35225                  4.75             0              0   \n",
       "35226                  5.00             1              6   \n",
       "35227                  4.75             0              4   \n",
       "35228                  4.75             0              5   \n",
       "35229                  4.75             0              0   \n",
       "\n",
       "       quiz_questions_answered  correct_quiz_answers  subscribed  \n",
       "0                            0                     0           0  \n",
       "1                            0                     0           0  \n",
       "2                            0                     0           0  \n",
       "3                            0                     0           0  \n",
       "4                            0                     0           0  \n",
       "...                        ...                   ...         ...  \n",
       "35225                        0                     0           0  \n",
       "35226                        9                     5           0  \n",
       "35227                        7                     7           0  \n",
       "35228                        8                     8           1  \n",
       "35229                        0                     0           0  \n",
       "\n",
       "[35230 rows x 15 columns]"
      ]
     },
     "execution_count": 2,
     "metadata": {},
     "output_type": "execute_result"
    }
   ],
   "source": [
    "df = pd.read_csv(\"student.csv\")\n",
    "df"
   ]
  },
  {
   "cell_type": "code",
   "execution_count": 3,
   "id": "e7bd4a32",
   "metadata": {},
   "outputs": [
    {
     "data": {
      "text/plain": [
       "student_id                 False\n",
       "registered_month           False\n",
       "registered_day             False\n",
       "country                     True\n",
       "asked_question             False\n",
       "engaged_lessons            False\n",
       "engaged_quiz               False\n",
       "engaged_exams              False\n",
       "total_minutes_watched      False\n",
       "average_rating_given       False\n",
       "rating_count               False\n",
       "quizzes_taken              False\n",
       "quiz_questions_answered    False\n",
       "correct_quiz_answers       False\n",
       "subscribed                 False\n",
       "dtype: bool"
      ]
     },
     "execution_count": 3,
     "metadata": {},
     "output_type": "execute_result"
    }
   ],
   "source": [
    "df.isnull().any()"
   ]
  },
  {
   "cell_type": "markdown",
   "id": "25a2caee",
   "metadata": {},
   "source": [
    "The string \"NA\" may have been mistaken as NaN by pandas when the .csv file was read.\n",
    "\"NA\" is supposed to represent the country code of Namibia, a country in South Africa."
   ]
  },
  {
   "cell_type": "code",
   "execution_count": 4,
   "id": "8d5e4138",
   "metadata": {},
   "outputs": [],
   "source": [
    "df.country.fillna(\"NA\", inplace=True)"
   ]
  },
  {
   "cell_type": "code",
   "execution_count": 5,
   "id": "15b64920",
   "metadata": {},
   "outputs": [
    {
     "data": {
      "text/html": [
       "<div>\n",
       "<style scoped>\n",
       "    .dataframe tbody tr th:only-of-type {\n",
       "        vertical-align: middle;\n",
       "    }\n",
       "\n",
       "    .dataframe tbody tr th {\n",
       "        vertical-align: top;\n",
       "    }\n",
       "\n",
       "    .dataframe thead th {\n",
       "        text-align: right;\n",
       "    }\n",
       "</style>\n",
       "<table border=\"1\" class=\"dataframe\">\n",
       "  <thead>\n",
       "    <tr style=\"text-align: right;\">\n",
       "      <th></th>\n",
       "      <th>student_id</th>\n",
       "      <th>registered_month</th>\n",
       "      <th>registered_day</th>\n",
       "      <th>country</th>\n",
       "      <th>asked_question</th>\n",
       "      <th>engaged_lessons</th>\n",
       "      <th>engaged_quiz</th>\n",
       "      <th>engaged_exams</th>\n",
       "      <th>total_minutes_watched</th>\n",
       "      <th>average_rating_given</th>\n",
       "      <th>rating_count</th>\n",
       "      <th>quizzes_taken</th>\n",
       "      <th>quiz_questions_answered</th>\n",
       "      <th>correct_quiz_answers</th>\n",
       "      <th>subscribed</th>\n",
       "    </tr>\n",
       "  </thead>\n",
       "  <tbody>\n",
       "  </tbody>\n",
       "</table>\n",
       "</div>"
      ],
      "text/plain": [
       "Empty DataFrame\n",
       "Columns: [student_id, registered_month, registered_day, country, asked_question, engaged_lessons, engaged_quiz, engaged_exams, total_minutes_watched, average_rating_given, rating_count, quizzes_taken, quiz_questions_answered, correct_quiz_answers, subscribed]\n",
       "Index: []"
      ]
     },
     "execution_count": 5,
     "metadata": {},
     "output_type": "execute_result"
    }
   ],
   "source": [
    "df[df.country.isnull()]"
   ]
  },
  {
   "cell_type": "markdown",
   "id": "cfd41a2f",
   "metadata": {},
   "source": [
    "All fixed!"
   ]
  },
  {
   "cell_type": "code",
   "execution_count": 6,
   "id": "0e4a3ebd",
   "metadata": {},
   "outputs": [
    {
     "data": {
      "text/plain": [
       "0    33095\n",
       "1     2135\n",
       "Name: subscribed, dtype: int64"
      ]
     },
     "execution_count": 6,
     "metadata": {},
     "output_type": "execute_result"
    }
   ],
   "source": [
    "df.subscribed.value_counts()"
   ]
  },
  {
   "cell_type": "markdown",
   "id": "35726f74",
   "metadata": {},
   "source": [
    "As expected, the target values are heavily unbalanced"
   ]
  },
  {
   "cell_type": "code",
   "execution_count": 7,
   "id": "6ea2d40f",
   "metadata": {},
   "outputs": [
    {
     "data": {
      "text/html": [
       "<div>\n",
       "<style scoped>\n",
       "    .dataframe tbody tr th:only-of-type {\n",
       "        vertical-align: middle;\n",
       "    }\n",
       "\n",
       "    .dataframe tbody tr th {\n",
       "        vertical-align: top;\n",
       "    }\n",
       "\n",
       "    .dataframe thead th {\n",
       "        text-align: right;\n",
       "    }\n",
       "</style>\n",
       "<table border=\"1\" class=\"dataframe\">\n",
       "  <thead>\n",
       "    <tr style=\"text-align: right;\">\n",
       "      <th></th>\n",
       "      <th>registered_month</th>\n",
       "      <th>registered_day</th>\n",
       "      <th>country</th>\n",
       "      <th>asked_question</th>\n",
       "      <th>engaged_lessons</th>\n",
       "      <th>engaged_quiz</th>\n",
       "      <th>engaged_exams</th>\n",
       "      <th>total_minutes_watched</th>\n",
       "      <th>average_rating_given</th>\n",
       "      <th>rating_count</th>\n",
       "      <th>quizzes_taken</th>\n",
       "      <th>quiz_questions_answered</th>\n",
       "      <th>correct_quiz_answers</th>\n",
       "    </tr>\n",
       "  </thead>\n",
       "  <tbody>\n",
       "    <tr>\n",
       "      <th>0</th>\n",
       "      <td>7</td>\n",
       "      <td>30</td>\n",
       "      <td>IT</td>\n",
       "      <td>0</td>\n",
       "      <td>0</td>\n",
       "      <td>0</td>\n",
       "      <td>0</td>\n",
       "      <td>0.0</td>\n",
       "      <td>4.75</td>\n",
       "      <td>0</td>\n",
       "      <td>0</td>\n",
       "      <td>0</td>\n",
       "      <td>0</td>\n",
       "    </tr>\n",
       "    <tr>\n",
       "      <th>1</th>\n",
       "      <td>8</td>\n",
       "      <td>14</td>\n",
       "      <td>US</td>\n",
       "      <td>0</td>\n",
       "      <td>0</td>\n",
       "      <td>0</td>\n",
       "      <td>0</td>\n",
       "      <td>0.0</td>\n",
       "      <td>4.75</td>\n",
       "      <td>0</td>\n",
       "      <td>0</td>\n",
       "      <td>0</td>\n",
       "      <td>0</td>\n",
       "    </tr>\n",
       "    <tr>\n",
       "      <th>2</th>\n",
       "      <td>8</td>\n",
       "      <td>30</td>\n",
       "      <td>TR</td>\n",
       "      <td>0</td>\n",
       "      <td>0</td>\n",
       "      <td>0</td>\n",
       "      <td>0</td>\n",
       "      <td>0.0</td>\n",
       "      <td>4.75</td>\n",
       "      <td>0</td>\n",
       "      <td>0</td>\n",
       "      <td>0</td>\n",
       "      <td>0</td>\n",
       "    </tr>\n",
       "    <tr>\n",
       "      <th>3</th>\n",
       "      <td>9</td>\n",
       "      <td>1</td>\n",
       "      <td>IN</td>\n",
       "      <td>0</td>\n",
       "      <td>0</td>\n",
       "      <td>0</td>\n",
       "      <td>0</td>\n",
       "      <td>0.0</td>\n",
       "      <td>4.75</td>\n",
       "      <td>0</td>\n",
       "      <td>0</td>\n",
       "      <td>0</td>\n",
       "      <td>0</td>\n",
       "    </tr>\n",
       "    <tr>\n",
       "      <th>4</th>\n",
       "      <td>1</td>\n",
       "      <td>1</td>\n",
       "      <td>SA</td>\n",
       "      <td>0</td>\n",
       "      <td>0</td>\n",
       "      <td>0</td>\n",
       "      <td>0</td>\n",
       "      <td>0.0</td>\n",
       "      <td>4.75</td>\n",
       "      <td>0</td>\n",
       "      <td>0</td>\n",
       "      <td>0</td>\n",
       "      <td>0</td>\n",
       "    </tr>\n",
       "    <tr>\n",
       "      <th>...</th>\n",
       "      <td>...</td>\n",
       "      <td>...</td>\n",
       "      <td>...</td>\n",
       "      <td>...</td>\n",
       "      <td>...</td>\n",
       "      <td>...</td>\n",
       "      <td>...</td>\n",
       "      <td>...</td>\n",
       "      <td>...</td>\n",
       "      <td>...</td>\n",
       "      <td>...</td>\n",
       "      <td>...</td>\n",
       "      <td>...</td>\n",
       "    </tr>\n",
       "    <tr>\n",
       "      <th>35225</th>\n",
       "      <td>6</td>\n",
       "      <td>17</td>\n",
       "      <td>BD</td>\n",
       "      <td>0</td>\n",
       "      <td>0</td>\n",
       "      <td>0</td>\n",
       "      <td>0</td>\n",
       "      <td>0.0</td>\n",
       "      <td>4.75</td>\n",
       "      <td>0</td>\n",
       "      <td>0</td>\n",
       "      <td>0</td>\n",
       "      <td>0</td>\n",
       "    </tr>\n",
       "    <tr>\n",
       "      <th>35226</th>\n",
       "      <td>6</td>\n",
       "      <td>18</td>\n",
       "      <td>IN</td>\n",
       "      <td>0</td>\n",
       "      <td>1</td>\n",
       "      <td>1</td>\n",
       "      <td>0</td>\n",
       "      <td>91.2</td>\n",
       "      <td>5.00</td>\n",
       "      <td>1</td>\n",
       "      <td>6</td>\n",
       "      <td>9</td>\n",
       "      <td>5</td>\n",
       "    </tr>\n",
       "    <tr>\n",
       "      <th>35227</th>\n",
       "      <td>6</td>\n",
       "      <td>24</td>\n",
       "      <td>GB</td>\n",
       "      <td>0</td>\n",
       "      <td>0</td>\n",
       "      <td>0</td>\n",
       "      <td>0</td>\n",
       "      <td>0.0</td>\n",
       "      <td>4.75</td>\n",
       "      <td>0</td>\n",
       "      <td>4</td>\n",
       "      <td>7</td>\n",
       "      <td>7</td>\n",
       "    </tr>\n",
       "    <tr>\n",
       "      <th>35228</th>\n",
       "      <td>7</td>\n",
       "      <td>1</td>\n",
       "      <td>US</td>\n",
       "      <td>0</td>\n",
       "      <td>1</td>\n",
       "      <td>1</td>\n",
       "      <td>0</td>\n",
       "      <td>91.6</td>\n",
       "      <td>4.75</td>\n",
       "      <td>0</td>\n",
       "      <td>5</td>\n",
       "      <td>8</td>\n",
       "      <td>8</td>\n",
       "    </tr>\n",
       "    <tr>\n",
       "      <th>35229</th>\n",
       "      <td>7</td>\n",
       "      <td>10</td>\n",
       "      <td>TZ</td>\n",
       "      <td>0</td>\n",
       "      <td>0</td>\n",
       "      <td>0</td>\n",
       "      <td>0</td>\n",
       "      <td>0.0</td>\n",
       "      <td>4.75</td>\n",
       "      <td>0</td>\n",
       "      <td>0</td>\n",
       "      <td>0</td>\n",
       "      <td>0</td>\n",
       "    </tr>\n",
       "  </tbody>\n",
       "</table>\n",
       "<p>35230 rows × 13 columns</p>\n",
       "</div>"
      ],
      "text/plain": [
       "       registered_month  registered_day country  asked_question  \\\n",
       "0                     7              30      IT               0   \n",
       "1                     8              14      US               0   \n",
       "2                     8              30      TR               0   \n",
       "3                     9               1      IN               0   \n",
       "4                     1               1      SA               0   \n",
       "...                 ...             ...     ...             ...   \n",
       "35225                 6              17      BD               0   \n",
       "35226                 6              18      IN               0   \n",
       "35227                 6              24      GB               0   \n",
       "35228                 7               1      US               0   \n",
       "35229                 7              10      TZ               0   \n",
       "\n",
       "       engaged_lessons  engaged_quiz  engaged_exams  total_minutes_watched  \\\n",
       "0                    0             0              0                    0.0   \n",
       "1                    0             0              0                    0.0   \n",
       "2                    0             0              0                    0.0   \n",
       "3                    0             0              0                    0.0   \n",
       "4                    0             0              0                    0.0   \n",
       "...                ...           ...            ...                    ...   \n",
       "35225                0             0              0                    0.0   \n",
       "35226                1             1              0                   91.2   \n",
       "35227                0             0              0                    0.0   \n",
       "35228                1             1              0                   91.6   \n",
       "35229                0             0              0                    0.0   \n",
       "\n",
       "       average_rating_given  rating_count  quizzes_taken  \\\n",
       "0                      4.75             0              0   \n",
       "1                      4.75             0              0   \n",
       "2                      4.75             0              0   \n",
       "3                      4.75             0              0   \n",
       "4                      4.75             0              0   \n",
       "...                     ...           ...            ...   \n",
       "35225                  4.75             0              0   \n",
       "35226                  5.00             1              6   \n",
       "35227                  4.75             0              4   \n",
       "35228                  4.75             0              5   \n",
       "35229                  4.75             0              0   \n",
       "\n",
       "       quiz_questions_answered  correct_quiz_answers  \n",
       "0                            0                     0  \n",
       "1                            0                     0  \n",
       "2                            0                     0  \n",
       "3                            0                     0  \n",
       "4                            0                     0  \n",
       "...                        ...                   ...  \n",
       "35225                        0                     0  \n",
       "35226                        9                     5  \n",
       "35227                        7                     7  \n",
       "35228                        8                     8  \n",
       "35229                        0                     0  \n",
       "\n",
       "[35230 rows x 13 columns]"
      ]
     },
     "execution_count": 7,
     "metadata": {},
     "output_type": "execute_result"
    }
   ],
   "source": [
    "X = df.drop([\"student_id\", \"subscribed\"], axis=1)\n",
    "X"
   ]
  },
  {
   "cell_type": "code",
   "execution_count": 8,
   "id": "238b75a6",
   "metadata": {
    "scrolled": true
   },
   "outputs": [
    {
     "data": {
      "text/plain": [
       "array([0, 0, 0, ..., 0, 1, 0])"
      ]
     },
     "execution_count": 8,
     "metadata": {},
     "output_type": "execute_result"
    }
   ],
   "source": [
    "y = df[\"subscribed\"].values\n",
    "y"
   ]
  },
  {
   "cell_type": "markdown",
   "id": "3183e73d",
   "metadata": {},
   "source": [
    "### Split your data into training and testing sets."
   ]
  },
  {
   "cell_type": "code",
   "execution_count": 9,
   "id": "cff2ccb4",
   "metadata": {},
   "outputs": [
    {
     "name": "stdout",
     "output_type": "stream",
     "text": [
      "(28184, 13)\n",
      "(28184,)\n",
      "(7046, 13)\n",
      "(7046,)\n"
     ]
    }
   ],
   "source": [
    "# https://datascience.stackexchange.com/a/53161\n",
    "from sklearn.model_selection import train_test_split\n",
    "\n",
    "train_ratio = 0.80\n",
    "test_ratio = 0.20\n",
    "\n",
    "X_train, X_test, y_train, y_test = train_test_split(\n",
    "    X, y, test_size=1 - train_ratio, shuffle=True\n",
    ")\n",
    "\n",
    "print(X_train.shape)\n",
    "print(y_train.shape)\n",
    "print(X_test.shape)\n",
    "print(y_test.shape)"
   ]
  },
  {
   "cell_type": "code",
   "execution_count": 10,
   "id": "6fbf8b27",
   "metadata": {},
   "outputs": [],
   "source": [
    "### Rare Label Encoding replaces any rarely-used labels with a singular \"RARE\"\n",
    "rle = RareLabelEncoder(tol=0.03, replace_with=\"RARE\")"
   ]
  },
  {
   "cell_type": "code",
   "execution_count": 11,
   "id": "8a385cdb",
   "metadata": {},
   "outputs": [],
   "source": [
    "X_train_rle = rle.fit_transform(X_train)\n",
    "X_test_rle = rle.transform(X_test)\n",
    "\n",
    "# set up a weight of evidence encoder\n",
    "pre = PRatioEncoder(encoding_method=\"ratio\")\n",
    "pre.fit(X_train_rle, y_train)\n",
    "\n",
    "# transform\n",
    "X_train_pre = pre.transform(X_train_rle)\n",
    "X_test_pre = pre.transform(X_test_rle)"
   ]
  },
  {
   "cell_type": "code",
   "execution_count": 12,
   "id": "7bcf3564",
   "metadata": {},
   "outputs": [
    {
     "data": {
      "text/plain": [
       "{'country': {'CA': 0.12817412333736397,\n",
       "  'EG': 0.00929839391377853,\n",
       "  'GB': 0.08262548262548262,\n",
       "  'IN': 0.022467771639042358,\n",
       "  'NG': 0.028252788104089217,\n",
       "  'RARE': 0.05932910547396529,\n",
       "  'US': 0.18975155279503103}}"
      ]
     },
     "execution_count": 12,
     "metadata": {},
     "output_type": "execute_result"
    }
   ],
   "source": [
    "pre.encoder_dict_"
   ]
  },
  {
   "cell_type": "markdown",
   "id": "79c17fae",
   "metadata": {},
   "source": [
    "### SMOTE (Synthetic Minority Oversampling) \n",
    "Slight alterations to datapoints as opposed to direct duplication in Random Oversampling"
   ]
  },
  {
   "cell_type": "code",
   "execution_count": 13,
   "id": "f0a76950",
   "metadata": {},
   "outputs": [],
   "source": [
    "from imblearn.over_sampling import SMOTE\n",
    "\n",
    "over = SMOTE(random_state=46, sampling_strategy=\"minority\")\n",
    "\n",
    "# X_train_smote, y_train_smote = over.fit_resample(X_train_pre,y_train)"
   ]
  },
  {
   "cell_type": "markdown",
   "id": "fab6cdc8",
   "metadata": {},
   "source": [
    "### Undersampling Oversampled Data\n",
    "\n",
    "In general, applying an under-sampling technique right after over-sampling increases the model’s performance\n",
    "\n",
    "EditedNearestNeighbours\n",
    "\n",
    "Undersample based on the edited nearest neighbour method.\n",
    "\n",
    "This method will clean the database by removing samples close to the decision boundary."
   ]
  },
  {
   "cell_type": "code",
   "execution_count": 14,
   "id": "2759121e",
   "metadata": {},
   "outputs": [],
   "source": [
    "# cnn = CondensedNearestNeighbour(random_state=46, sampling_strategy='auto', n_jobs=-1)\n",
    "under = EditedNearestNeighbours(sampling_strategy=\"auto\", n_neighbors=4)\n",
    "\n",
    "# X_resampled, y_resampled = cnn.fit_resample(X_train_smote,y_train_smote)"
   ]
  },
  {
   "cell_type": "markdown",
   "id": "4ff62d32",
   "metadata": {},
   "source": [
    "Choose an approach that helps us handle the imbalance of the data. \n",
    "Choose an over-sampling method from the imblearn library. \n",
    "Fiddle around with the parameters—most importantly with sampling_strategy. \n",
    "Try to understand how this parameter changes the number of data points from each class."
   ]
  },
  {
   "cell_type": "markdown",
   "id": "bde9acb6",
   "metadata": {},
   "source": [
    "### Oversampling -> Undersampling Pipeline"
   ]
  },
  {
   "cell_type": "code",
   "execution_count": 15,
   "id": "88bd9f47",
   "metadata": {},
   "outputs": [],
   "source": [
    "osus_pipeline = Pipeline(steps=[(\"o\", over), (\"u\", under)])\n",
    "X_resample, y_resample = osus_pipeline.fit_resample(X_train_pre, y_train)"
   ]
  },
  {
   "cell_type": "markdown",
   "id": "1df49a8a",
   "metadata": {},
   "source": [
    "## Beginning model testing"
   ]
  },
  {
   "cell_type": "markdown",
   "id": "0f34239a",
   "metadata": {},
   "source": [
    "#### Print Functions"
   ]
  },
  {
   "cell_type": "code",
   "execution_count": 42,
   "id": "b2566a72",
   "metadata": {},
   "outputs": [],
   "source": [
    "def results(y_test, y_pred):\n",
    "    print(confusion_matrix(y_test, y_pred))\n",
    "    print(\"----------\")\n",
    "    print(f\"Precision: {precision_score(y_test, y_pred)}\")\n",
    "    print(f\"Recall: {recall_score(y_test, y_pred)}\")\n",
    "    print(f\"PR-AUC: {average_precision_score(y_test, y_pred)}\")\n",
    "    print(\"\\n\")\n",
    "    print(f\"F1-Score: {f1_score(y_test, y_pred)}\")\n",
    "    print(f\"Accuracy: {accuracy_score(y_test, y_pred)}\")\n",
    "    print(f\"ROC-AUC: {roc_auc_score(y_test, y_pred)}\")\n",
    "    \n",
    "# Reference: https://machinelearningmastery.com/threshold-moving-for-imbalanced-classification/\n",
    "def results_proba(y_test, y_pred):\n",
    "    # apply threshold to positive probabilities to create labels   \n",
    "    def to_labels(pos_probs, threshold):\n",
    "        return (pos_probs >= threshold).astype('int')\n",
    "    \n",
    "    # keep probabilities for the positive outcome only\n",
    "    probs = y_pred[:, 1]\n",
    "\n",
    "    thresholds = np.arange(0, 1, 0.001)\n",
    "    # evaluate each threshold\n",
    "\n",
    "    f1_scores = [f1_score(y_test, to_labels(probs, t)) for t in thresholds]\n",
    "    roc_scores = [roc_auc_score(y_test, to_labels(probs, t)) for t in thresholds]\n",
    "    acc_scores = [accuracy_score(y_test, to_labels(probs, t)) for t in thresholds]\n",
    "\n",
    "    # get best threshold\n",
    "    best_f1 = np.argmax(f1_scores)\n",
    "    best_roc = np.argmax(roc_scores)\n",
    "    best_acc = np.argmax(acc_scores)\n",
    "\n",
    "    print('Threshold=%.3f, F-Score=%.5f' % (thresholds[best_f1], f1_scores[best_f1]))\n",
    "    print('Threshold=%.3f, ROC_AUC=%.5f' % (thresholds[best_roc], roc_scores[best_roc]))\n",
    "    print('Threshold=%.3f, Accuracy=%.5f' % (thresholds[best_acc], acc_scores[best_acc]))"
   ]
  },
  {
   "cell_type": "markdown",
   "id": "a345dc59",
   "metadata": {},
   "source": [
    "### Reducing dimensionality for certain models"
   ]
  },
  {
   "cell_type": "code",
   "execution_count": 17,
   "id": "2e68421c",
   "metadata": {},
   "outputs": [],
   "source": [
    "less_significant_columns = [\"quizzes_taken\", \"average_rating_given\", \"rating_count\"]\n",
    "# Bottom three columns in terms of significance\n",
    "# Significance levels determined through coef attribute from logistic model. \n",
    "# Bottom three values were selected to be dropped\n",
    "\n",
    "X_train_resampled_lower_dim = X_resample.drop(less_significant_columns, axis=1)\n",
    "X_test_resampled_lower_dim = X_test_pre.drop(less_significant_columns, axis=1)"
   ]
  },
  {
   "cell_type": "markdown",
   "id": "7b9901f7",
   "metadata": {},
   "source": [
    "### Model 0 - SGDClassifier"
   ]
  },
  {
   "cell_type": "code",
   "execution_count": 18,
   "id": "e0933366",
   "metadata": {},
   "outputs": [
    {
     "name": "stdout",
     "output_type": "stream",
     "text": [
      "Fitting 5 folds for each of 12 candidates, totalling 60 fits\n",
      "SGDClassifier(alpha=0.01, max_iter=30000, random_state=46) 0.9639801228989887\n",
      "[[6232  396]\n",
      " [  68  350]]\n",
      "----------\n",
      "Precision: 0.4691689008042895\n",
      "Recall: 0.8373205741626795\n",
      "PR-AUC: 0.4024956391401476\n",
      "\n",
      "\n",
      "F1-Score: 0.6013745704467355\n",
      "Accuracy: 0.9341470337780301\n",
      "ROC-AUC: 0.8887870221447074\n"
     ]
    }
   ],
   "source": [
    "parameters = {\n",
    "    \"penalty\": [\"l1\", \"l2\"],\n",
    "    \"learning_rate\": [\"optimal\", \"adaptive\"],\n",
    "    \"alpha\": [0.0001, 0.001, 0.01],\n",
    "}\n",
    "sgd_gs = GridSearchCV(\n",
    "    SGDClassifier(random_state=46, max_iter=30000),\n",
    "    parameters,\n",
    "    scoring=\"roc_auc\",\n",
    "    cv=5,\n",
    "    verbose=1,\n",
    "    n_jobs=-1,\n",
    ")\n",
    "\n",
    "sgd_gs.fit(X_train_resampled_lower_dim, y_resample)\n",
    "\n",
    "print(sgd_gs.best_estimator_, sgd_gs.best_score_)\n",
    "sgd_best = sgd_gs.best_estimator_\n",
    "\n",
    "y_pred = sgd_best.predict(X_test_resampled_lower_dim)\n",
    "results(y_test, y_pred)"
   ]
  },
  {
   "cell_type": "markdown",
   "id": "2198358f",
   "metadata": {},
   "source": [
    "### Model 1 - Ridge"
   ]
  },
  {
   "cell_type": "code",
   "execution_count": 19,
   "id": "d2bc4677",
   "metadata": {},
   "outputs": [
    {
     "name": "stdout",
     "output_type": "stream",
     "text": [
      "Fitting 5 folds for each of 40 candidates, totalling 200 fits\n",
      "RidgeClassifier(solver='svd') 0.966305147024689\n"
     ]
    }
   ],
   "source": [
    "parameters = {\n",
    "    \"alpha\": np.arange(0.1, 1.01, 0.1),\n",
    "    \"solver\": [\"svd\", \"cholesky\", \"lsqr\", \"sparse_cg\"],\n",
    "}\n",
    "\n",
    "rc = RidgeClassifier()\n",
    "\n",
    "rc_gs = GridSearchCV(rc, parameters, scoring=\"roc_auc\", cv=5, verbose=1, n_jobs=-1)\n",
    "rc_gs.fit(X_train_resampled_lower_dim, y_resample)\n",
    "\n",
    "print(rc_gs.best_estimator_, rc_gs.best_score_)\n",
    "rc_best = rc_gs.best_estimator_\n",
    "\n"
   ]
  },
  {
   "cell_type": "code",
   "execution_count": 34,
   "id": "145c207c",
   "metadata": {},
   "outputs": [
    {
     "name": "stdout",
     "output_type": "stream",
     "text": [
      "[[6000  628]\n",
      " [  53  365]]\n",
      "----------\n",
      "Precision: 0.3675730110775428\n",
      "Recall: 0.8732057416267942\n",
      "PR-AUC: 0.3284888620368656\n",
      "\n",
      "\n",
      "F1-Score: 0.517363571934798\n",
      "Accuracy: 0.9033494181095657\n",
      "ROC-AUC: 0.8892280971260103\n"
     ]
    }
   ],
   "source": [
    "y_pred = rc_best.predict(X_test_resampled_lower_dim)\n",
    "results(y_test,y_pred)"
   ]
  },
  {
   "cell_type": "markdown",
   "id": "2fa4a2a7",
   "metadata": {},
   "source": [
    "### Model 2 - Logistic"
   ]
  },
  {
   "cell_type": "code",
   "execution_count": 20,
   "id": "1bb9d0b7",
   "metadata": {
    "scrolled": true
   },
   "outputs": [
    {
     "name": "stdout",
     "output_type": "stream",
     "text": [
      "Fitting 5 folds for each of 18 candidates, totalling 90 fits\n",
      "LogisticRegression(penalty='l1', solver='liblinear') 0.9767700087525245\n"
     ]
    }
   ],
   "source": [
    "# Reference: https://stackoverflow.com/a/66981081\n",
    "parameters = {\n",
    "    \"penalty\": (\"l1\", \"l2\"),\n",
    "    \"C\": np.arange(0.5, 5, 0.5),\n",
    "}\n",
    "\n",
    "lo_gs = GridSearchCV(\n",
    "    LogisticRegression(solver=\"liblinear\"),\n",
    "    parameters,\n",
    "    scoring=\"roc_auc\",\n",
    "    cv=5,\n",
    "    verbose=2,\n",
    "    n_jobs=-1,\n",
    ")\n",
    "lo_gs.fit(X_train_resampled_lower_dim, y_resample)\n",
    "\n",
    "print(lo_gs.best_estimator_, lo_gs.best_score_)\n",
    "lo_best = lo_gs.best_estimator_"
   ]
  },
  {
   "cell_type": "code",
   "execution_count": 21,
   "id": "4c800999",
   "metadata": {},
   "outputs": [
    {
     "name": "stdout",
     "output_type": "stream",
     "text": [
      "[[6311  317]\n",
      " [  71  347]]\n",
      "----------\n",
      "Precision: 0.5225903614457831\n",
      "Recall: 0.8301435406698564\n",
      "PR-AUC: 0.4439016521984731\n",
      "\n",
      "\n",
      "F1-Score: 0.6414048059149722\n",
      "Accuracy: 0.944933295486801\n",
      "ROC-AUC: 0.8911580708780785\n"
     ]
    }
   ],
   "source": [
    "y_pred = lo_best.predict(X_test_resampled_lower_dim)\n",
    "results(y_test, y_pred)\n",
    "\n",
    "# Calculate feature importances\n",
    "feature_importances = lo_best.coef_[0]\n",
    "\n",
    "# Save the results inside a DataFrame using feature_list as an index\n",
    "relative_importances = pd.DataFrame(\n",
    "    index=lo_gs.feature_names_in_, data=feature_importances, columns=[\"importance\"]\n",
    ")"
   ]
  },
  {
   "cell_type": "code",
   "execution_count": 22,
   "id": "cff0d383",
   "metadata": {},
   "outputs": [
    {
     "data": {
      "text/html": [
       "<div>\n",
       "<style scoped>\n",
       "    .dataframe tbody tr th:only-of-type {\n",
       "        vertical-align: middle;\n",
       "    }\n",
       "\n",
       "    .dataframe tbody tr th {\n",
       "        vertical-align: top;\n",
       "    }\n",
       "\n",
       "    .dataframe thead th {\n",
       "        text-align: right;\n",
       "    }\n",
       "</style>\n",
       "<table border=\"1\" class=\"dataframe\">\n",
       "  <thead>\n",
       "    <tr style=\"text-align: right;\">\n",
       "      <th></th>\n",
       "      <th>importance</th>\n",
       "    </tr>\n",
       "  </thead>\n",
       "  <tbody>\n",
       "    <tr>\n",
       "      <th>country</th>\n",
       "      <td>16.069168</td>\n",
       "    </tr>\n",
       "    <tr>\n",
       "      <th>engaged_lessons</th>\n",
       "      <td>2.766130</td>\n",
       "    </tr>\n",
       "    <tr>\n",
       "      <th>correct_quiz_answers</th>\n",
       "      <td>0.092555</td>\n",
       "    </tr>\n",
       "    <tr>\n",
       "      <th>registered_day</th>\n",
       "      <td>0.038064</td>\n",
       "    </tr>\n",
       "    <tr>\n",
       "      <th>quiz_questions_answered</th>\n",
       "      <td>0.024679</td>\n",
       "    </tr>\n",
       "    <tr>\n",
       "      <th>total_minutes_watched</th>\n",
       "      <td>0.005964</td>\n",
       "    </tr>\n",
       "    <tr>\n",
       "      <th>engaged_quiz</th>\n",
       "      <td>0.000000</td>\n",
       "    </tr>\n",
       "    <tr>\n",
       "      <th>registered_month</th>\n",
       "      <td>-0.028325</td>\n",
       "    </tr>\n",
       "    <tr>\n",
       "      <th>engaged_exams</th>\n",
       "      <td>-0.149296</td>\n",
       "    </tr>\n",
       "    <tr>\n",
       "      <th>asked_question</th>\n",
       "      <td>-2.599894</td>\n",
       "    </tr>\n",
       "  </tbody>\n",
       "</table>\n",
       "</div>"
      ],
      "text/plain": [
       "                         importance\n",
       "country                   16.069168\n",
       "engaged_lessons            2.766130\n",
       "correct_quiz_answers       0.092555\n",
       "registered_day             0.038064\n",
       "quiz_questions_answered    0.024679\n",
       "total_minutes_watched      0.005964\n",
       "engaged_quiz               0.000000\n",
       "registered_month          -0.028325\n",
       "engaged_exams             -0.149296\n",
       "asked_question            -2.599894"
      ]
     },
     "execution_count": 22,
     "metadata": {},
     "output_type": "execute_result"
    }
   ],
   "source": [
    "# Sort values to learn most important features\n",
    "relative_importances.sort_values(by=\"importance\", ascending=False)"
   ]
  },
  {
   "cell_type": "markdown",
   "id": "8a51615b",
   "metadata": {},
   "source": [
    "### Model 3 - Decision Tree"
   ]
  },
  {
   "cell_type": "code",
   "execution_count": 23,
   "id": "0166db12",
   "metadata": {
    "scrolled": true
   },
   "outputs": [
    {
     "name": "stdout",
     "output_type": "stream",
     "text": [
      "Fitting 5 folds for each of 40 candidates, totalling 200 fits\n",
      "DecisionTreeClassifier(criterion='entropy', max_depth=8, max_features='sqrt',\n",
      "                       random_state=46) 0.9892084593326402\n",
      "[[6338  290]\n",
      " [  80  338]]\n",
      "----------\n",
      "Precision: 0.5382165605095541\n",
      "Recall: 0.8086124401913876\n",
      "PR-AUC: 0.44656256603848926\n",
      "\n",
      "\n",
      "F1-Score: 0.6462715105162524\n",
      "Accuracy: 0.9474879364178257\n",
      "ROC-AUC: 0.8824293341572508\n"
     ]
    }
   ],
   "source": [
    "parameters = {\n",
    "    \"criterion\": [\"gini\", \"entropy\"],\n",
    "    \"splitter\": [\"random\", \"best\"],\n",
    "    \"max_features\": [\"sqrt\", \"log2\"],\n",
    "    \"max_depth\": [4, 5, 6, 7, 8],\n",
    "}\n",
    "\n",
    "dt_gs = RandomizedSearchCV(\n",
    "    DecisionTreeClassifier(random_state=46),\n",
    "    parameters,\n",
    "    scoring=\"roc_auc\",\n",
    "    verbose=1,\n",
    "    cv=5,\n",
    "    n_iter=50,\n",
    "    n_jobs=-1,\n",
    ")\n",
    "dt_gs.fit(X_train_resampled_lower_dim, y_resample)\n",
    "\n",
    "print(dt_gs.best_estimator_, dt_gs.best_score_)\n",
    "dt_best = dt_gs.best_estimator_\n",
    "\n",
    "y_pred = dt_best.predict(X_test_resampled_lower_dim)\n",
    "results(y_test, y_pred)\n",
    "\n",
    "# # Calculate feature importances\n",
    "# feature_importances = dt_gs.best_estimator_.feature_importances_\n",
    "\n",
    "# # Save the results inside a DataFrame using feature_list as an index\n",
    "# relative_importances = pd.DataFrame(index=dt_gs.feature_names_in_,data=feature_importances, columns=[\"importance\"])\n",
    "\n",
    "# # Sort values to learn most important features\n",
    "# relative_importances.sort_values(by=\"importance\", ascending=False)"
   ]
  },
  {
   "cell_type": "markdown",
   "id": "77b76a80",
   "metadata": {},
   "source": [
    "### Model 4 - KNN"
   ]
  },
  {
   "cell_type": "code",
   "execution_count": 24,
   "id": "34cd2181",
   "metadata": {
    "scrolled": false
   },
   "outputs": [
    {
     "name": "stdout",
     "output_type": "stream",
     "text": [
      "Fitting 5 folds for each of 30 candidates, totalling 150 fits\n",
      "KNeighborsClassifier(algorithm='ball_tree', leaf_size=15, n_neighbors=50, p=1,\n",
      "                     weights='distance') 0.9930210694557399\n",
      "[[6267  361]\n",
      " [  71  347]]\n",
      "----------\n",
      "Precision: 0.4901129943502825\n",
      "Recall: 0.8301435406698564\n",
      "PR-AUC: 0.41694077568617954\n",
      "\n",
      "\n",
      "F1-Score: 0.6163410301953818\n",
      "Accuracy: 0.9386886176554073\n",
      "ROC-AUC: 0.8878388192184528\n"
     ]
    }
   ],
   "source": [
    "parameters = {\n",
    "    \"weights\": (\"uniform\", \"distance\"),\n",
    "    \"n_neighbors\": (50, 100, 150, 200),\n",
    "    \"algorithm\": (\"auto\", \"ball_tree\", \"kd_tree\", \"brute\"),\n",
    "    \"leaf_size\": (15, 30, 45, 60),\n",
    "    \"p\": (1, 2),\n",
    "}\n",
    "\n",
    "knn_gs = RandomizedSearchCV(\n",
    "    KNeighborsClassifier(),\n",
    "    parameters,\n",
    "    scoring=\"roc_auc\",\n",
    "    cv=5,\n",
    "    verbose=1,\n",
    "    n_jobs=-1,\n",
    "    n_iter=30,\n",
    ")\n",
    "knn_gs.fit(X_train_resampled_lower_dim, y_resample)\n",
    "\n",
    "print(knn_gs.best_estimator_, knn_gs.best_score_)\n",
    "knn_best = knn_gs.best_estimator_\n",
    "\n",
    "y_pred = knn_best.predict(X_test_resampled_lower_dim)\n",
    "results(y_test,y_pred)"
   ]
  },
  {
   "cell_type": "markdown",
   "id": "481423df",
   "metadata": {},
   "source": [
    "### Model 5 - Gradient Boost"
   ]
  },
  {
   "cell_type": "code",
   "execution_count": 25,
   "id": "9479dee9",
   "metadata": {
    "scrolled": true
   },
   "outputs": [
    {
     "name": "stdout",
     "output_type": "stream",
     "text": [
      "Fitting 5 folds for each of 65 candidates, totalling 325 fits\n",
      "GradientBoostingClassifier(learning_rate=0.25, max_depth=5, max_features='log2',\n",
      "                           n_estimators=200, random_state=46) 0.9976904060325771\n",
      "--------\n",
      "[[6499  129]\n",
      " [ 119  299]]\n",
      "----------\n",
      "Precision: 0.6985981308411215\n",
      "Recall: 0.715311004784689\n",
      "PR-AUC: 0.5166039459566649\n",
      "\n",
      "\n",
      "F1-Score: 0.706855791962175\n",
      "Accuracy: 0.9648027249503264\n",
      "ROC-AUC: 0.8479240600266232\n"
     ]
    }
   ],
   "source": [
    "parameters = {\n",
    "    \"learning_rate\": [0.25, 0.3],\n",
    "    \"n_estimators\": [50, 100, 200, 300],\n",
    "    \"max_features\": [\"sqrt\", \"log2\"],\n",
    "    \"max_depth\": [3, 4, 5],\n",
    "    \"min_weight_fraction_leaf\": np.arange(0, 0.50, 0.1),\n",
    "}\n",
    "\n",
    "\n",
    "gb_gs = RandomizedSearchCV(\n",
    "    GradientBoostingClassifier(random_state=46),\n",
    "    parameters,\n",
    "    scoring=\"roc_auc\",\n",
    "    cv=5,\n",
    "    verbose=1,\n",
    "    n_iter=65,\n",
    "    n_jobs=-1,\n",
    "    error_score=\"raise\",\n",
    ")\n",
    "gb_gs.fit(X_train_resampled_lower_dim, y_resample)\n",
    "\n",
    "print(gb_gs.best_estimator_, gb_gs.best_score_)\n",
    "print('--------')\n",
    "gb_best = gb_gs.best_estimator_\n",
    "\n",
    "y_pred = gb_best.predict(X_test_resampled_lower_dim)\n",
    "results(y_test, y_pred)"
   ]
  },
  {
   "cell_type": "markdown",
   "id": "0fd984c3",
   "metadata": {},
   "source": [
    "### Model 6 - XGBoost"
   ]
  },
  {
   "cell_type": "code",
   "execution_count": 26,
   "id": "c8f9a8ba",
   "metadata": {},
   "outputs": [
    {
     "name": "stdout",
     "output_type": "stream",
     "text": [
      "Fitting 5 folds for each of 65 candidates, totalling 325 fits\n",
      "XGBClassifier(base_score=None, booster='dart', callbacks=None,\n",
      "              colsample_bylevel=None, colsample_bynode=None,\n",
      "              colsample_bytree=None, early_stopping_rounds=None,\n",
      "              enable_categorical=False, eval_metric=None, feature_types=None,\n",
      "              gamma=0, gpu_id=None, grow_policy=None, importance_type=None,\n",
      "              interaction_constraints=None, learning_rate=0.3, max_bin=None,\n",
      "              max_cat_threshold=None, max_cat_to_onehot=None, max_delta_step=0,\n",
      "              max_depth=8, max_leaves=None, min_child_weight=2, missing=nan,\n",
      "              monotone_constraints=None, n_estimators=100, n_jobs=None,\n",
      "              num_parallel_tree=None, predictor=None, random_state=None, ...) 0.9983991266050353\n",
      "--------\n",
      "[[6505  123]\n",
      " [ 126  292]]\n",
      "----------\n",
      "Precision: 0.7036144578313253\n",
      "Recall: 0.6985645933014354\n",
      "PR-AUC: 0.5094026340931226\n",
      "\n",
      "\n",
      "F1-Score: 0.7010804321728692\n",
      "Accuracy: 0.9646608004541584\n",
      "ROC-AUC: 0.840003479511309\n"
     ]
    }
   ],
   "source": [
    "parameters = {\n",
    "    \"booster\": [\"gbtree\", \"dart\"],\n",
    "    \"gamma\": [0, 0.25],\n",
    "    \"learning_rate\": [0.25, 0.3],\n",
    "    \"max_depth\": [7, 8],\n",
    "    \"min_child_weight\": [1, 2, 3],\n",
    "    \"max_delta_step\": [0, 1, 2],\n",
    "}\n",
    "\n",
    "xgb_gs = RandomizedSearchCV(\n",
    "    XGBClassifier(objective=\"binary:logistic\"),\n",
    "    parameters,\n",
    "    cv=5,\n",
    "    scoring=\"roc_auc\",\n",
    "    n_iter=65,\n",
    "    n_jobs=-1,\n",
    "    verbose=1,\n",
    ")\n",
    "\n",
    "xgb_gs.fit(X_train_resampled_lower_dim, y_resample)\n",
    "\n",
    "print(xgb_gs.best_estimator_, xgb_gs.best_score_)\n",
    "print('--------')\n",
    "xgb_best = xgb_gs.best_estimator_\n",
    "\n",
    "\n",
    "y_pred = xgb_best.predict(X_test_resampled_lower_dim)\n",
    "results(y_test, y_pred)"
   ]
  },
  {
   "cell_type": "markdown",
   "id": "926cb4d8",
   "metadata": {},
   "source": [
    "### Voting Ensemble"
   ]
  },
  {
   "cell_type": "code",
   "execution_count": 45,
   "id": "962bf638",
   "metadata": {
    "scrolled": false
   },
   "outputs": [
    {
     "name": "stdout",
     "output_type": "stream",
     "text": [
      "[Voting] ................. (1 of 6) Processing sgd_best, total=   0.2s\n",
      "[Voting] ................. (2 of 6) Processing xgb_best, total=   3.8s\n",
      "[Voting] .................. (3 of 6) Processing gb_best, total=   3.8s\n",
      "[Voting] .................. (4 of 6) Processing lo_best, total=   0.1s\n",
      "[Voting] .................. (5 of 6) Processing dt_best, total=   0.0s\n",
      "[Voting] ................. (6 of 6) Processing knn_best, total=   0.0s\n",
      "0.9821829823619479\n",
      "Threshold=0.746, F-Score=0.74166\n",
      "Threshold=0.403, ROC_AUC=0.90661\n",
      "Threshold=0.822, Accuracy=0.97105\n"
     ]
    }
   ],
   "source": [
    "vc = VotingClassifier(\n",
    "    estimators=[\n",
    "        (\"sgd_best\", SGDClassifier(loss=\"modified_huber\", alpha = 0.001, random_state=46)),\n",
    "        (\"xgb_best\", xgb_best),\n",
    "        (\"gb_best\", gb_best),\n",
    "        (\"lo_best\", lo_best),\n",
    "        (\"dt_best\", dt_best),\n",
    "        (\"knn_best\", knn_best),\n",
    "    ],\n",
    "    voting=\"soft\",\n",
    "    weights=[1, 1, 1, 2, 1, 1],\n",
    "    verbose=True,\n",
    ")\n",
    "\n",
    "vc.fit(X_train_resampled_lower_dim, y_resample)\n",
    "print(vc.score(X_train_resampled_lower_dim, y_resample))\n",
    "\n",
    "# y_pred = vc.predict(X_test_resampled_lower_dim)\n",
    "# results(y_test, y_pred)\n",
    "\n",
    "y_pred = vc.predict_proba(X_test_resampled_lower_dim)\n",
    "results_proba(y_test, y_pred)"
   ]
  },
  {
   "cell_type": "markdown",
   "id": "c49baef4",
   "metadata": {},
   "source": [
    "### Stack Ensemble"
   ]
  },
  {
   "cell_type": "code",
   "execution_count": 43,
   "id": "d8ab74dc",
   "metadata": {},
   "outputs": [
    {
     "name": "stderr",
     "output_type": "stream",
     "text": [
      "[Parallel(n_jobs=-1)]: Using backend ThreadingBackend with 12 concurrent workers.\n",
      "[Parallel(n_jobs=-1)]: Using backend ThreadingBackend with 12 concurrent workers.\n",
      "[Parallel(n_jobs=-1)]: Done   5 out of   5 | elapsed:    0.1s finished\n",
      "[Parallel(n_jobs=-1)]: Using backend ThreadingBackend with 12 concurrent workers.\n",
      "[Parallel(n_jobs=-1)]: Using backend ThreadingBackend with 12 concurrent workers.\n",
      "[Parallel(n_jobs=-1)]: Using backend ThreadingBackend with 12 concurrent workers.\n",
      "[Parallel(n_jobs=-1)]: Using backend ThreadingBackend with 12 concurrent workers.\n",
      "[Parallel(n_jobs=-1)]: Using backend ThreadingBackend with 12 concurrent workers.\n",
      "[Parallel(n_jobs=-1)]: Done   5 out of   5 | elapsed:    0.4s finished\n",
      "[Parallel(n_jobs=-1)]: Done   5 out of   5 | elapsed:    0.5s finished\n",
      "[Parallel(n_jobs=-1)]: Done   5 out of   5 | elapsed:    0.9s finished\n",
      "[Parallel(n_jobs=-1)]: Done   5 out of   5 | elapsed:    1.6s finished\n",
      "[Parallel(n_jobs=-1)]: Done   5 out of   5 | elapsed:    6.4s finished\n",
      "[Parallel(n_jobs=-1)]: Done   5 out of   5 | elapsed:   14.8s finished\n"
     ]
    },
    {
     "name": "stdout",
     "output_type": "stream",
     "text": [
      "0.9993636779414982\n",
      "Threshold=0.561, F-Score=0.72970\n",
      "Threshold=0.013, ROC_AUC=0.89146\n",
      "Threshold=0.941, Accuracy=0.97034\n"
     ]
    }
   ],
   "source": [
    "sc = StackingClassifier(\n",
    "    estimators=[\n",
    "        (\"sgd_best\", sgd_best),\n",
    "        (\"xgb_best\", xgb_best),\n",
    "        (\"gb_best\", gb_best),\n",
    "        (\"rc_best\", rc_best),\n",
    "        (\"lo_best\", lo_best),\n",
    "        (\"dt_best\", dt_best),\n",
    "        (\"knn_best\", knn_best),\n",
    "    ],\n",
    "    final_estimator=lo_best,\n",
    "    n_jobs=-1,\n",
    "    verbose=True,\n",
    ")\n",
    "\n",
    "sc.fit(X_train_resampled_lower_dim, y_resample)\n",
    "print(sc.score(X_train_resampled_lower_dim, y_resample))\n",
    "\n",
    "# y_pred = sc.predict(X_test_resampled_lower_dim)\n",
    "# results(y_test, y_pred)\n",
    "\n",
    "y_pred = sc.predict_proba(X_test_resampled_lower_dim)\n",
    "results_proba(y_test, y_pred)"
   ]
  },
  {
   "cell_type": "markdown",
   "id": "62f05755",
   "metadata": {},
   "source": [
    "## Observations"
   ]
  },
  {
   "cell_type": "markdown",
   "id": "d7e89e3d",
   "metadata": {},
   "source": [
    "* From the models tested, the voting ensemble had the best *accuracy* peaking at approximately **97.1%**\n",
    "    * It also had the best *F1-Score* out of any model **(0.741 peak)**\n",
    "    * It also had the best *ROC-AUC* score peaking at **90.66%**\n",
    "\n",
    "\n",
    "* In all non-ensemble models, the accuracy and ROC-AUC tend to sit at similar values from each other. In percentage, Accuracy is barely reach mid 90s , ROC-AUC is about low to mid 80s. F1-Score is the most volatile, ranging from the low 60s to mid 70s.\n",
    "\n",
    "\n",
    "* The majority of models tend to have a higher recall precision. \n",
    "\n",
    "* Overall, every model seems to do well in differentiating target labels (> 0.80 ROC-AUC). In other words, it doesn't seem that the models struggle too much in determining a subscriber or free student.\n",
    "\n",
    "\n",
    "* Among the non-ensemble models, Logistic Regression performs the best overall."
   ]
  },
  {
   "cell_type": "markdown",
   "id": "3d8902c8",
   "metadata": {},
   "source": [
    "# Exporting the best performing model"
   ]
  },
  {
   "cell_type": "code",
   "execution_count": 52,
   "id": "8d6d7429",
   "metadata": {},
   "outputs": [],
   "source": [
    "import pickle\n",
    "   \n",
    "pickl = {'model': vc}\n",
    "    \n",
    "pickle.dump(pickl, open('models/'+'model_file' + \".p\", \"wb\"))\n",
    "\n",
    "file_name = \"models/model_file.p\"\n",
    "with open(file_name, 'rb') as pickled:\n",
    "    data = pickle.load(pickled)\n",
    "    model = data['model']"
   ]
  },
  {
   "cell_type": "code",
   "execution_count": 53,
   "id": "154330ef",
   "metadata": {},
   "outputs": [
    {
     "data": {
      "text/plain": [
       "VotingClassifier(estimators=[('sgd_best',\n",
       "                              SGDClassifier(alpha=0.001, loss='modified_huber',\n",
       "                                            random_state=46)),\n",
       "                             ('xgb_best',\n",
       "                              XGBClassifier(base_score=None, booster='dart',\n",
       "                                            callbacks=None,\n",
       "                                            colsample_bylevel=None,\n",
       "                                            colsample_bynode=None,\n",
       "                                            colsample_bytree=None,\n",
       "                                            early_stopping_rounds=None,\n",
       "                                            enable_categorical=False,\n",
       "                                            eval_metric=None,\n",
       "                                            feature_types=None, gamma=0,\n",
       "                                            gpu_id=N...\n",
       "                                                         n_estimators=200,\n",
       "                                                         random_state=46)),\n",
       "                             ('lo_best',\n",
       "                              LogisticRegression(penalty='l1',\n",
       "                                                 solver='liblinear')),\n",
       "                             ('dt_best',\n",
       "                              DecisionTreeClassifier(criterion='entropy',\n",
       "                                                     max_depth=8,\n",
       "                                                     max_features='sqrt',\n",
       "                                                     random_state=46)),\n",
       "                             ('knn_best',\n",
       "                              KNeighborsClassifier(algorithm='ball_tree',\n",
       "                                                   leaf_size=15, n_neighbors=50,\n",
       "                                                   p=1, weights='distance'))],\n",
       "                 verbose=True, voting='soft', weights=[1, 1, 1, 2, 1, 1])"
      ]
     },
     "execution_count": 53,
     "metadata": {},
     "output_type": "execute_result"
    }
   ],
   "source": [
    "model"
   ]
  }
 ],
 "metadata": {
  "kernelspec": {
   "display_name": "Python 3 (ipykernel)",
   "language": "python",
   "name": "python3"
  },
  "language_info": {
   "codemirror_mode": {
    "name": "ipython",
    "version": 3
   },
   "file_extension": ".py",
   "mimetype": "text/x-python",
   "name": "python",
   "nbconvert_exporter": "python",
   "pygments_lexer": "ipython3",
   "version": "3.9.13"
  },
  "notify_time": "5",
  "toc": {
   "base_numbering": 1,
   "nav_menu": {
    "height": "278px",
    "width": "339px"
   },
   "number_sections": true,
   "sideBar": true,
   "skip_h1_title": false,
   "title_cell": "Table of Contents",
   "title_sidebar": "Contents",
   "toc_cell": true,
   "toc_position": {
    "height": "750px",
    "left": "51px",
    "top": "112.133px",
    "width": "369px"
   },
   "toc_section_display": true,
   "toc_window_display": true
  }
 },
 "nbformat": 4,
 "nbformat_minor": 5
}
