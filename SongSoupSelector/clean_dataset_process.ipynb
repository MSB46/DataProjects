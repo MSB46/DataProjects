{
 "cells": [
  {
   "cell_type": "code",
   "execution_count": 1,
   "id": "dc932883",
   "metadata": {},
   "outputs": [],
   "source": [
    "import os\n",
    "import pandas as pd\n",
    "import math\n",
    "pd.options.mode.chained_assignment = None  # default='warn'\n",
    "import numpy as np\n",
    "%matplotlib inline\n",
    "import datetime as dt\n",
    "from sklearn.preprocessing import StandardScaler\n",
    "from sklearn.pipeline import Pipeline\n",
    "import langid"
   ]
  },
  {
   "cell_type": "markdown",
   "id": "4ff7729b",
   "metadata": {},
   "source": [
    "### References (Code used from the following)"
   ]
  },
  {
   "cell_type": "markdown",
   "id": "f88c3afc",
   "metadata": {},
   "source": [
    "* https://www.kaggle.com/code/vatsalmavani/music-recommendation-system-using-spotify-dataset/notebook\n",
    "* https://towardsdatascience.com/how-to-build-an-amazing-music-recommendation-system-4cce2719a572\n",
    "* https://www.kaggle.com/datasets/maharshipandya/-spotify-tracks-dataset/\n",
    "* https://www.kaggle.com/datasets/rodolfofigueroa/spotify-12m-songs/"
   ]
  },
  {
   "cell_type": "code",
   "execution_count": 2,
   "id": "6eddb88c",
   "metadata": {},
   "outputs": [],
   "source": [
    "# The priority is to have many songs inside the final dataframe as possible, \n",
    "# even if a song may have missing features\n",
    "# df1 has the most songs as a base\n",
    "# genre is an important feature to keep which is what df2 has a feature for all of its songs\n",
    "# df3 has more songs that both df1 and df2 lack so we will add those as well\n",
    "# df4 also has a genre column for its songs we will try to merge those to the final df\n",
    "# Eventually all dataframes will be merged into one.\n",
    "\n",
    "df1 = pd.read_csv('songs_a.csv', low_memory=False)\n",
    "df2 = pd.read_csv('songs_b.csv', low_memory=False)\n",
    "\n",
    "df3 = pd.read_csv('songs_c.csv', low_memory=False)\n",
    "df4 = pd.read_csv('songs_d.csv', low_memory=False)  \n",
    "\n",
    "# df2 = df2[['track_id', 'track_genre']]\n",
    "df4 = df4[['id', 'genre']]\n",
    "\n",
    "df4['genre'] = df4['genre'].apply(lambda x: x.lower())"
   ]
  },
  {
   "cell_type": "code",
   "execution_count": 3,
   "id": "987f6a56",
   "metadata": {},
   "outputs": [],
   "source": [
    "df2.dropna(inplace=True)\n",
    "df2.drop([\"Unnamed: 0\",\"popularity\"], axis=1, inplace=True)\n",
    "df2['artists'] = df2['artists'].apply(lambda x: str(x.replace(\";\", \", \").split(\", \")))\n",
    "df2.rename(columns={\"track_id\": \"id\", \"track_name\":\"name\", \"album_name\":\"album\"}, inplace=True)\n",
    "df4.rename(columns={\"genre\": \"track_genre\"}, inplace=True)\n",
    "# df1[df1['artists'].str.contains(\"Stevie Wonder\")]"
   ]
  },
  {
   "cell_type": "code",
   "execution_count": 4,
   "id": "81b9daff",
   "metadata": {},
   "outputs": [
    {
     "data": {
      "text/plain": [
       "(Index(['id', 'name', 'album', 'album_id', 'artists', 'artist_ids',\n",
       "        'track_number', 'disc_number', 'explicit', 'danceability', 'energy',\n",
       "        'key', 'loudness', 'mode', 'speechiness', 'acousticness',\n",
       "        'instrumentalness', 'liveness', 'valence', 'tempo', 'duration_ms',\n",
       "        'time_signature', 'year', 'release_date'],\n",
       "       dtype='object'),\n",
       " Index(['id', 'artists', 'album', 'name', 'duration_ms', 'explicit',\n",
       "        'danceability', 'energy', 'key', 'loudness', 'mode', 'speechiness',\n",
       "        'acousticness', 'instrumentalness', 'liveness', 'valence', 'tempo',\n",
       "        'time_signature', 'track_genre'],\n",
       "       dtype='object'))"
      ]
     },
     "execution_count": 4,
     "metadata": {},
     "output_type": "execute_result"
    }
   ],
   "source": [
    "df1.columns, df2.columns"
   ]
  },
  {
   "cell_type": "code",
   "execution_count": 5,
   "id": "1e869465",
   "metadata": {},
   "outputs": [],
   "source": [
    "df1.dropna(axis=0, inplace=True)\n",
    "df3.drop(\"popularity\", axis=1, inplace=True)"
   ]
  },
  {
   "cell_type": "code",
   "execution_count": 6,
   "id": "7c25747b",
   "metadata": {},
   "outputs": [],
   "source": [
    "cols_to_fill = ['name', 'artists', 'explicit', 'danceability', 'energy',\n",
    "       'key', 'loudness', 'mode', 'speechiness', 'acousticness',\n",
    "       'instrumentalness', 'liveness', 'valence', 'tempo', 'duration_ms']"
   ]
  },
  {
   "cell_type": "code",
   "execution_count": 7,
   "id": "73b3dea3",
   "metadata": {},
   "outputs": [
    {
     "name": "stdout",
     "output_type": "stream",
     "text": [
      "(1158618, 25) Index(['id', 'name', 'album', 'album_id', 'artists', 'artist_ids',\n",
      "       'track_number', 'disc_number', 'explicit', 'danceability', 'energy',\n",
      "       'key', 'loudness', 'mode', 'speechiness', 'acousticness',\n",
      "       'instrumentalness', 'liveness', 'valence', 'tempo', 'duration_ms',\n",
      "       'time_signature', 'year', 'release_date', 'track_genre'],\n",
      "      dtype='object')\n"
     ]
    }
   ],
   "source": [
    "df_ = df1.merge(df2, how=\"outer\", on=\"id\", suffixes=[None, \"_y\"])\n",
    "\n",
    "# print(t.columns)\n",
    "for c in cols_to_fill:\n",
    "    df_[c].fillna(df_[f\"{c}_y\"], inplace=True)\n",
    "\n",
    "df_.drop(df_.filter(regex='_y$').columns, axis=1, inplace=True)\n",
    "\n",
    "print(df_.shape, df_.columns)"
   ]
  },
  {
   "cell_type": "code",
   "execution_count": 8,
   "id": "d83b5553",
   "metadata": {},
   "outputs": [],
   "source": [
    "df_b = df3.merge(df4, how=\"left\", on=\"id\")\n",
    "# print(df_b.shape, df_b.columns, df_b.columns.difference(df_.columns))\n",
    "\n",
    "df_ = df_.merge(df_b, how=\"outer\", on=\"id\", suffixes=[None,\"_y\"])\n",
    "# print(df_.shape, df_.columns)"
   ]
  },
  {
   "cell_type": "code",
   "execution_count": 9,
   "id": "a63fb64e",
   "metadata": {},
   "outputs": [
    {
     "data": {
      "text/plain": [
       "Index(['id', 'name', 'album', 'album_id', 'artists', 'artist_ids',\n",
       "       'track_number', 'disc_number', 'explicit', 'danceability', 'energy',\n",
       "       'key', 'loudness', 'mode', 'speechiness', 'acousticness',\n",
       "       'instrumentalness', 'liveness', 'valence', 'tempo', 'duration_ms',\n",
       "       'time_signature', 'year', 'release_date', 'track_genre', 'valence_y',\n",
       "       'year_y', 'acousticness_y', 'artists_y', 'danceability_y',\n",
       "       'duration_ms_y', 'energy_y', 'explicit_y', 'instrumentalness_y',\n",
       "       'key_y', 'liveness_y', 'loudness_y', 'mode_y', 'name_y',\n",
       "       'release_date_y', 'speechiness_y', 'tempo_y', 'track_genre_y'],\n",
       "      dtype='object')"
      ]
     },
     "execution_count": 9,
     "metadata": {},
     "output_type": "execute_result"
    }
   ],
   "source": [
    "df_.columns"
   ]
  },
  {
   "cell_type": "code",
   "execution_count": 10,
   "id": "f6495277",
   "metadata": {},
   "outputs": [],
   "source": [
    "cols_to_fill = ['name', 'artists', 'explicit', 'danceability', 'energy',\n",
    "       'key', 'loudness', 'mode', 'speechiness', 'acousticness',\n",
    "       'instrumentalness', 'liveness', 'valence', 'tempo', 'duration_ms',\n",
    "       'year', 'release_date']\n",
    "\n",
    "cols_to_use = df_.columns[:25]"
   ]
  },
  {
   "cell_type": "code",
   "execution_count": 11,
   "id": "6b6d3065",
   "metadata": {},
   "outputs": [
    {
     "data": {
      "text/plain": [
       "id                        0\n",
       "name                 146075\n",
       "album                255430\n",
       "album_id             255430\n",
       "artists              146075\n",
       "artist_ids           255430\n",
       "track_number         255430\n",
       "disc_number          255430\n",
       "explicit             146075\n",
       "danceability         146075\n",
       "energy               146075\n",
       "key                  146075\n",
       "loudness             146075\n",
       "mode                 146075\n",
       "speechiness          146075\n",
       "acousticness         146075\n",
       "instrumentalness     146075\n",
       "liveness             146075\n",
       "valence              146075\n",
       "tempo                146075\n",
       "duration_ms          146075\n",
       "time_signature       255430\n",
       "year                 255430\n",
       "release_date         255430\n",
       "track_genre         1190935\n",
       "dtype: int64"
      ]
     },
     "execution_count": 11,
     "metadata": {},
     "output_type": "execute_result"
    }
   ],
   "source": [
    "df_[cols_to_use].isnull().sum()"
   ]
  },
  {
   "cell_type": "code",
   "execution_count": 12,
   "id": "3dd521a6",
   "metadata": {},
   "outputs": [],
   "source": [
    "for c in cols_to_fill:\n",
    "    df_[c].fillna(df_[f\"{c}_y\"], inplace=True)"
   ]
  },
  {
   "cell_type": "code",
   "execution_count": 13,
   "id": "61c58b7c",
   "metadata": {},
   "outputs": [
    {
     "data": {
      "text/plain": [
       "id                        0\n",
       "name                      0\n",
       "album                255430\n",
       "album_id             255430\n",
       "artists                   0\n",
       "artist_ids           255430\n",
       "track_number         255430\n",
       "disc_number          255430\n",
       "explicit                  0\n",
       "danceability              0\n",
       "energy                    0\n",
       "key                       0\n",
       "loudness                  0\n",
       "mode                      0\n",
       "speechiness               0\n",
       "acousticness              0\n",
       "instrumentalness          0\n",
       "liveness                  0\n",
       "valence                   0\n",
       "tempo                     0\n",
       "duration_ms               0\n",
       "time_signature       255430\n",
       "year                 101242\n",
       "release_date         101242\n",
       "track_genre         1190935\n",
       "dtype: int64"
      ]
     },
     "execution_count": 13,
     "metadata": {},
     "output_type": "execute_result"
    }
   ],
   "source": [
    "df_[cols_to_use].isnull().sum()"
   ]
  },
  {
   "cell_type": "code",
   "execution_count": 14,
   "id": "bbdcbd67",
   "metadata": {},
   "outputs": [],
   "source": [
    "df_.drop(df_.filter(regex='_y$').columns, axis=1, inplace=True)"
   ]
  },
  {
   "cell_type": "code",
   "execution_count": 15,
   "id": "8f69c64a",
   "metadata": {},
   "outputs": [
    {
     "data": {
      "text/plain": [
       "id                        0\n",
       "name                      0\n",
       "album                255430\n",
       "album_id             255430\n",
       "artists                   0\n",
       "artist_ids           255430\n",
       "track_number         255430\n",
       "disc_number          255430\n",
       "explicit                  0\n",
       "danceability              0\n",
       "energy                    0\n",
       "key                       0\n",
       "loudness                  0\n",
       "mode                      0\n",
       "speechiness               0\n",
       "acousticness              0\n",
       "instrumentalness          0\n",
       "liveness                  0\n",
       "valence                   0\n",
       "tempo                     0\n",
       "duration_ms               0\n",
       "time_signature       255430\n",
       "year                 101242\n",
       "release_date         101242\n",
       "track_genre         1190935\n",
       "dtype: int64"
      ]
     },
     "execution_count": 15,
     "metadata": {},
     "output_type": "execute_result"
    }
   ],
   "source": [
    "df_.isnull().sum()"
   ]
  },
  {
   "cell_type": "code",
   "execution_count": 18,
   "id": "1f78f690",
   "metadata": {},
   "outputs": [
    {
     "data": {
      "text/plain": [
       "(1305272, 25)"
      ]
     },
     "execution_count": 18,
     "metadata": {},
     "output_type": "execute_result"
    }
   ],
   "source": [
    "df_.shape"
   ]
  },
  {
   "cell_type": "code",
   "execution_count": 19,
   "id": "92492efc",
   "metadata": {},
   "outputs": [],
   "source": [
    "df_.drop(['track_number','disc_number'], axis=1, inplace=True)"
   ]
  },
  {
   "cell_type": "code",
   "execution_count": 20,
   "id": "7802664f",
   "metadata": {},
   "outputs": [],
   "source": [
    "df_.drop_duplicates(subset=['id'], inplace=True, keep='last')\n",
    "df_.drop_duplicates(subset=['artist_ids','name'], inplace=True, keep='first')"
   ]
  },
  {
   "cell_type": "code",
   "execution_count": 21,
   "id": "c53ebcf2",
   "metadata": {},
   "outputs": [],
   "source": [
    "df_['explicit'] = df_['explicit'].astype(bool)"
   ]
  },
  {
   "cell_type": "code",
   "execution_count": 22,
   "id": "1cf54603",
   "metadata": {},
   "outputs": [
    {
     "data": {
      "text/plain": [
       "id                   object\n",
       "name                 object\n",
       "album                object\n",
       "album_id             object\n",
       "artists              object\n",
       "artist_ids           object\n",
       "explicit               bool\n",
       "danceability        float64\n",
       "energy              float64\n",
       "key                 float64\n",
       "loudness            float64\n",
       "mode                float64\n",
       "speechiness         float64\n",
       "acousticness        float64\n",
       "instrumentalness    float64\n",
       "liveness            float64\n",
       "valence             float64\n",
       "tempo               float64\n",
       "duration_ms         float64\n",
       "time_signature      float64\n",
       "year                float64\n",
       "release_date         object\n",
       "track_genre          object\n",
       "dtype: object"
      ]
     },
     "execution_count": 22,
     "metadata": {},
     "output_type": "execute_result"
    }
   ],
   "source": [
    "df_.dtypes"
   ]
  },
  {
   "cell_type": "code",
   "execution_count": 23,
   "id": "cb698ae3",
   "metadata": {},
   "outputs": [
    {
     "data": {
      "text/plain": [
       "track_genre\n",
       "comedy       973\n",
       "grindcore    950\n",
       "sertanejo    932\n",
       "malay        922\n",
       "turkish      916\n",
       "            ... \n",
       "latin        184\n",
       "latino       164\n",
       "reggae       157\n",
       "alt-rock     139\n",
       "edm          113\n",
       "Name: count, Length: 113, dtype: int64"
      ]
     },
     "execution_count": 23,
     "metadata": {},
     "output_type": "execute_result"
    }
   ],
   "source": [
    "df_['track_genre'].value_counts()"
   ]
  },
  {
   "cell_type": "markdown",
   "id": "2ec3ae1d",
   "metadata": {},
   "source": [
    "# Removing remixed songs (songs that are remixes / live performances)"
   ]
  },
  {
   "cell_type": "code",
   "execution_count": 24,
   "id": "ab7d168d",
   "metadata": {},
   "outputs": [],
   "source": [
    "df_ = df_[~df_['name'].str.contains(\"-|\\(|\\)\")]"
   ]
  },
  {
   "cell_type": "code",
   "execution_count": 25,
   "id": "a9b8f393",
   "metadata": {},
   "outputs": [
    {
     "data": {
      "text/plain": [
       "0                              Testify\n",
       "1                      Guerrilla Radio\n",
       "2                     Calm Like a Bomb\n",
       "3                            Mic Check\n",
       "4                Sleep Now In the Fire\n",
       "                      ...             \n",
       "1305263         I Don't Think I'm Okay\n",
       "1305264             Timeless Interlude\n",
       "1305266                       Sunblind\n",
       "1305268         NASTY GIRL / ON CAMERA\n",
       "1305269    Halloweenie III: Seven Days\n",
       "Name: name, Length: 941260, dtype: object"
      ]
     },
     "execution_count": 25,
     "metadata": {},
     "output_type": "execute_result"
    }
   ],
   "source": [
    "df_.name"
   ]
  },
  {
   "cell_type": "code",
   "execution_count": 31,
   "id": "962d594a",
   "metadata": {},
   "outputs": [],
   "source": [
    "# Find the count of the first artist in a list\n",
    "df_[\"artists\"] = df_[\"artists\"].apply(\n",
    "    lambda x: x.replace(\"[\", \"\")\n",
    "    .replace(\"]\", \"\")\n",
    "    .replace(\"'\", \"\")\n",
    "    .replace(\";\", \", \")\n",
    "    .split(\", \")\n",
    ")"
   ]
  },
  {
   "cell_type": "code",
   "execution_count": 32,
   "id": "91e32b60",
   "metadata": {},
   "outputs": [],
   "source": [
    "df_['primary_artist'] = df_['artists'].apply(lambda x: x[0].replace('\\\"',''))\n",
    "df_['secondary_artists'] = df_['artists'].apply(lambda x:\", \".join(x[1:]))"
   ]
  },
  {
   "cell_type": "code",
   "execution_count": 33,
   "id": "13861949",
   "metadata": {},
   "outputs": [],
   "source": [
    "df_[\"artist_ids\"].fillna(\"[]\",inplace=True)"
   ]
  },
  {
   "cell_type": "code",
   "execution_count": 34,
   "id": "6fae9e42",
   "metadata": {},
   "outputs": [],
   "source": [
    "df_[\"artist_ids\"] = df_[\"artist_ids\"].apply(\n",
    "    lambda x: str(x).replace(\"[\", \"\")\n",
    "    .replace(\"]\", \"\")\n",
    "    .replace(\"'\", \"\")\n",
    "    .replace(\";\", \", \")\n",
    "    .split(\", \")\n",
    ")\n",
    "\n",
    "df_['primary_artist_id'] = df_['artist_ids'].apply(lambda x: x[0] if x[0] != '' else None)\n",
    "# 175839 missing\n",
    "df_['primary_artist_id'] = df_['primary_artist_id'].fillna(df_.groupby('primary_artist')['primary_artist_id'].transform(\"first\"))\n",
    "# 82235 missing\n",
    "\n",
    "df_['primary_artist_id'].fillna(\"\", inplace=True)\n",
    "\n",
    "df_['secondary_artist_ids'] = df_['artist_ids'].apply(lambda x:\", \".join(x[1:]))"
   ]
  },
  {
   "cell_type": "markdown",
   "id": "5d4c262b",
   "metadata": {},
   "source": [
    "### Filling other missing data using existing data"
   ]
  },
  {
   "cell_type": "code",
   "execution_count": 35,
   "id": "ca134b0d",
   "metadata": {},
   "outputs": [],
   "source": [
    "df_['temp'] = df_.apply(lambda x:f\"{x['primary_artist_id']} {x['album']}\", axis=1)\n",
    "df_['album_id'].fillna(df_.groupby('temp')['album_id'].transform(\"first\"), inplace=True)"
   ]
  },
  {
   "cell_type": "code",
   "execution_count": 36,
   "id": "bb515e14",
   "metadata": {},
   "outputs": [],
   "source": [
    "df_['release_date'].fillna(df_.groupby('album_id')['year'].transform(\"first\"),inplace=True)\n",
    "df_['release_date'].fillna(df_.groupby('temp')['release_date'].transform(\"first\"), inplace=True)"
   ]
  },
  {
   "cell_type": "code",
   "execution_count": 37,
   "id": "3548a51c",
   "metadata": {},
   "outputs": [],
   "source": [
    "df_['year'].fillna(df_.groupby('album_id')['year'].transform(\"first\"), inplace=True)\n",
    "df_['year'].fillna(df_.groupby('temp')['year'].transform(\"first\"), inplace=True)\n",
    "df_.drop(\"temp\", axis=1, inplace=True)"
   ]
  },
  {
   "cell_type": "code",
   "execution_count": 39,
   "id": "15b11d80",
   "metadata": {},
   "outputs": [],
   "source": [
    "df_.drop_duplicates(subset=[\"name\", \"primary_artist\"], inplace=True)\n",
    "df_clean = df_[['id','name','primary_artist','secondary_artists','track_genre']][:]"
   ]
  },
  {
   "cell_type": "code",
   "execution_count": 40,
   "id": "46dcad0a",
   "metadata": {},
   "outputs": [],
   "source": [
    "# If a genre is null and the artist/album has made music of a certain genre before, fill with that genre \n",
    "df_['track_genre'].fillna(df_.groupby('album_id')['track_genre'].transform(\"first\"), inplace=True)\n",
    "df_['track_genre'].fillna(df_.groupby('primary_artist_id')['track_genre'].transform(\"first\"), inplace=True)"
   ]
  },
  {
   "cell_type": "code",
   "execution_count": 41,
   "id": "f619c1b7",
   "metadata": {},
   "outputs": [
    {
     "data": {
      "text/plain": [
       "track_genre\n",
       "songwriter    34535\n",
       "classical     12489\n",
       "german         8468\n",
       "bluegrass      5782\n",
       "new-age        5013\n",
       "              ...  \n",
       "deep-house      343\n",
       "happy           330\n",
       "pagode          301\n",
       "brazil          245\n",
       "edm              83\n",
       "Name: count, Length: 113, dtype: int64"
      ]
     },
     "execution_count": 41,
     "metadata": {},
     "output_type": "execute_result"
    }
   ],
   "source": [
    "df_['track_genre'].value_counts()"
   ]
  },
  {
   "cell_type": "code",
   "execution_count": 42,
   "id": "632ea7b9",
   "metadata": {},
   "outputs": [],
   "source": [
    "df_['artist_count'] = df_['artists'].apply(lambda x: len(x))\n",
    "df_.drop(['artists','artist_ids'],axis=1,inplace=True)"
   ]
  },
  {
   "cell_type": "code",
   "execution_count": 46,
   "id": "99c8068c",
   "metadata": {},
   "outputs": [
    {
     "data": {
      "text/plain": [
       "explicit\n",
       "False    865939\n",
       "True      57703\n",
       "Name: count, dtype: int64"
      ]
     },
     "execution_count": 46,
     "metadata": {},
     "output_type": "execute_result"
    }
   ],
   "source": [
    "df_['explicit'].value_counts()"
   ]
  },
  {
   "cell_type": "code",
   "execution_count": 48,
   "id": "b92df238",
   "metadata": {},
   "outputs": [],
   "source": [
    "df_['decade'] = df_['year'].apply(lambda x: str(x - (x % 10)))\n",
    "df_['time_signature'] = df_['time_signature'].apply(lambda x: str(x)+\"tsig\")"
   ]
  },
  {
   "cell_type": "markdown",
   "id": "b00a5da4",
   "metadata": {},
   "source": [
    "### Compressing categorical data into a single column"
   ]
  },
  {
   "cell_type": "code",
   "execution_count": 49,
   "id": "2a2f3e39",
   "metadata": {},
   "outputs": [],
   "source": [
    "df_[\"content\"] = df_.apply(\n",
    "    lambda x: \n",
    "    f'{\" \".join([str(x[\"primary_artist\"]).lower().replace(\" \", \"\")] * (2 if x[\"track_genre\"] else 3))} '\n",
    "    f'{\" \".join([str(x[\"secondary_artists\"]).lower().replace(\" \", \"\")] * (1 if x[\"track_genre\"] else 2))} '\n",
    "    f'{\" \".join([str(x[\"album\"]).replace(\" \", \"\").lower()] * 1)} '\n",
    "    f'{\" \".join([str(x[\"name\"]).lower()] * 1)} '\n",
    "    f'{\" \".join([str(x[\"track_genre\"]).replace(\" \", \"\")] * 2)} '\n",
    "    f'{\" \".join([str(x[\"decade\"])] * 2)} '\n",
    "    f'{\" \".join([str(x[\"language\"])] * 1)}'\n",
    "    f'{\" \".join([str(x[\"time_signature\"])] * 2)}',axis=1,\n",
    ")\n",
    "\n",
    "df_[\"content\"] = df_[\"content\"].apply(\n",
    "    lambda x: x.lower().replace(\",\", \"\").replace(\".\", \"\").replace(\":\", \"\").replace(\"[\", \"\").replace(\"]\",\"\").replace(\"/\", \"\"))"
   ]
  },
  {
   "cell_type": "markdown",
   "id": "6b58cd5b",
   "metadata": {},
   "source": [
    "### Removing more duplicate songs in current dataset"
   ]
  },
  {
   "cell_type": "code",
   "execution_count": 50,
   "id": "4bec562c",
   "metadata": {},
   "outputs": [],
   "source": [
    "import string\n",
    "df_['name_upper'] = df_['name'].apply(lambda x: x.translate(str.maketrans('', '', string.punctuation)).title().replace(\" \", \"\"))\n",
    "df_['artist_upper'] = df_['primary_artist'].apply(lambda x: x.translate(str.maketrans('', '', string.punctuation)).title().replace(\" \", \"\"))"
   ]
  },
  {
   "cell_type": "code",
   "execution_count": 51,
   "id": "20164ee4",
   "metadata": {},
   "outputs": [
    {
     "name": "stdout",
     "output_type": "stream",
     "text": [
      "(923642, 31)\n",
      "(918039, 29)\n"
     ]
    }
   ],
   "source": [
    "print(df_.shape)\n",
    "df_[df_.duplicated(['name_upper', 'artist_upper'])]\n",
    "df_ = df_.drop_duplicates(subset=['name_upper', 'artist_upper'], keep='first')\n",
    "df_.drop(['name_upper', 'artist_upper'], axis=1, inplace=True)\n",
    "print(df_.shape)"
   ]
  },
  {
   "cell_type": "code",
   "execution_count": 52,
   "id": "35519663",
   "metadata": {},
   "outputs": [],
   "source": [
    "num_cols = list(df_.select_dtypes(include=[np.number]).columns)\n",
    "cat_cols = list(df_.select_dtypes(include=['object']).columns)"
   ]
  },
  {
   "cell_type": "code",
   "execution_count": 53,
   "id": "b8f8603f",
   "metadata": {},
   "outputs": [],
   "source": [
    "df_cat = df_[cat_cols]\n",
    "df_num = df_[num_cols]"
   ]
  },
  {
   "cell_type": "code",
   "execution_count": 54,
   "id": "7b0fbd84",
   "metadata": {},
   "outputs": [
    {
     "data": {
      "text/plain": [
       "((918039, 14), (918039, 14))"
      ]
     },
     "execution_count": 54,
     "metadata": {},
     "output_type": "execute_result"
    }
   ],
   "source": [
    "df_cat.shape, df_num.shape"
   ]
  },
  {
   "cell_type": "code",
   "execution_count": 55,
   "id": "8f53f288",
   "metadata": {},
   "outputs": [],
   "source": [
    "ss = StandardScaler()\n",
    "df_num = pd.DataFrame(ss.fit_transform(df_num), columns=num_cols, index=df_num.index)"
   ]
  },
  {
   "cell_type": "code",
   "execution_count": 56,
   "id": "5f40046d",
   "metadata": {},
   "outputs": [],
   "source": [
    "df_cat.reset_index(drop=True, inplace=True)\n",
    "df_num.reset_index(drop=True, inplace=True)"
   ]
  },
  {
   "cell_type": "code",
   "execution_count": 57,
   "id": "0ff3474d",
   "metadata": {},
   "outputs": [],
   "source": [
    "df_m = pd.concat([df_cat, df_num], axis=1)"
   ]
  },
  {
   "cell_type": "code",
   "execution_count": 58,
   "id": "b3e87518",
   "metadata": {},
   "outputs": [
    {
     "data": {
      "text/plain": [
       "id                           0\n",
       "name                         0\n",
       "album                   118438\n",
       "album_id                118438\n",
       "time_signature               0\n",
       "release_date              6120\n",
       "track_genre             716208\n",
       "language                     0\n",
       "primary_artist               0\n",
       "secondary_artists            0\n",
       "primary_artist_id            0\n",
       "secondary_artist_ids         0\n",
       "decade                       0\n",
       "content                      0\n",
       "danceability                 0\n",
       "energy                       0\n",
       "key                          0\n",
       "loudness                     0\n",
       "mode                         0\n",
       "speechiness                  0\n",
       "acousticness                 0\n",
       "instrumentalness             0\n",
       "liveness                     0\n",
       "valence                      0\n",
       "tempo                        0\n",
       "duration_ms                  0\n",
       "year                      6120\n",
       "artist_count                 0\n",
       "dtype: int64"
      ]
     },
     "execution_count": 58,
     "metadata": {},
     "output_type": "execute_result"
    }
   ],
   "source": [
    "df_m.isnull().sum()"
   ]
  },
  {
   "cell_type": "code",
   "execution_count": 59,
   "id": "4805bf10",
   "metadata": {},
   "outputs": [],
   "source": [
    "df_m.to_csv(\"dataset_final.csv\", index=False)"
   ]
  }
 ],
 "metadata": {
  "kernelspec": {
   "display_name": "Python 3 (ipykernel)",
   "language": "python",
   "name": "python3"
  },
  "language_info": {
   "codemirror_mode": {
    "name": "ipython",
    "version": 3
   },
   "file_extension": ".py",
   "mimetype": "text/x-python",
   "name": "python",
   "nbconvert_exporter": "python",
   "pygments_lexer": "ipython3",
   "version": "3.9.13"
  },
  "notify_time": "5",
  "toc": {
   "base_numbering": 1,
   "nav_menu": {},
   "number_sections": true,
   "sideBar": true,
   "skip_h1_title": false,
   "title_cell": "Table of Contents",
   "title_sidebar": "Contents",
   "toc_cell": true,
   "toc_position": {},
   "toc_section_display": true,
   "toc_window_display": true
  },
  "varInspector": {
   "cols": {
    "lenName": 16,
    "lenType": 16,
    "lenVar": 40
   },
   "kernels_config": {
    "python": {
     "delete_cmd_postfix": "",
     "delete_cmd_prefix": "del ",
     "library": "var_list.py",
     "varRefreshCmd": "print(var_dic_list())"
    },
    "r": {
     "delete_cmd_postfix": ") ",
     "delete_cmd_prefix": "rm(",
     "library": "var_list.r",
     "varRefreshCmd": "cat(var_dic_list()) "
    }
   },
   "types_to_exclude": [
    "module",
    "function",
    "builtin_function_or_method",
    "instance",
    "_Feature"
   ],
   "window_display": false
  }
 },
 "nbformat": 4,
 "nbformat_minor": 5
}
