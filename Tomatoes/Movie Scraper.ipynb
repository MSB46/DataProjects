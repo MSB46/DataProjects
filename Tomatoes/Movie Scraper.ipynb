{
 "cells": [
  {
   "cell_type": "markdown",
   "id": "a50075ad",
   "metadata": {},
   "source": [
    "## IMDb Movie Scraper\n",
    "\n",
    "Author: **Michael B (MSB46)**\n",
    "\n",
    "Additional Credit to **Brian Sheehy** for [JSON API storage code](https://towardsdatascience.com/store-api-credentials-easily-and-securely-in-jupyter-notebooks-50411e98e81c)\n",
    "\n",
    "\n",
    "## Objective:\n",
    "\n",
    "The purpose of this notebook is to scrape various information from the most popular and top rated animated movies according to IMDb. Upon scraping the data, I will be able to convert that data into a more readable format through a DataFrame which will be cleaned and modeled upon later.\n",
    "\n",
    "**_Note: The scrapers used were for educational purposes only._**\n"
   ]
  },
  {
   "cell_type": "code",
   "execution_count": 1,
   "id": "e3bf84a7",
   "metadata": {
    "scrolled": true
   },
   "outputs": [],
   "source": [
    "import time\n",
    "from selenium import webdriver\n",
    "from selenium.webdriver.common.by import By\n",
    "import pandas as pd\n",
    "import warnings\n",
    "warnings.filterwarnings('ignore')\n",
    "\n",
    "links = []\n",
    "driver = webdriver.Chrome() \n",
    "\n",
    "value = 1\n",
    "next_page = \"\""
   ]
  },
  {
   "cell_type": "markdown",
   "id": "f9fde56f",
   "metadata": {},
   "source": [
    "#### The first step would be to gather all of the links that lead to the IMDb page of each animated movie. Should note that in the list of the \"top\" movies, there are currently 7 pages worth as of October 2022.\n",
    "#### To achieve this, I used Selenium's web driver to search for any element that would lead to a movie page. Fortunately in this case, IMDb's lists are consistently structured which means I can get away with using a single XPATH to gather each link."
   ]
  },
  {
   "cell_type": "code",
   "execution_count": 2,
   "id": "d7d887dc",
   "metadata": {},
   "outputs": [],
   "source": [
    "for _ in range(7):\n",
    "    driver.get('https://www.imdb.com/search/title/?title_type=feature&num_votes=25000,&genres=animation&sort=alpha,asc'+next_page+'&view=advanced')\n",
    "    time.sleep(3)\n",
    "    movie_we = driver.find_elements(By.XPATH, \"/html/body/div[2]/div/div[2]/div[3]/div[1]/div/div[3]/div/div/div[2]/a\")\n",
    "\n",
    "    for i in range(len(movie_we)):\n",
    "        links.append(movie_we[i].get_attribute('href'))\n",
    "        \n",
    "    value += 50\n",
    "    next_page = \"&start=\"+str(value)"
   ]
  },
  {
   "cell_type": "code",
   "execution_count": 3,
   "id": "75749b44",
   "metadata": {},
   "outputs": [
    {
     "data": {
      "text/plain": [
       "['https://www.imdb.com/title/tt0472033/?ref_=adv_li_i',\n",
       " 'https://www.imdb.com/title/tt0120623/?ref_=adv_li_i',\n",
       " 'https://www.imdb.com/title/tt1067106/?ref_=adv_li_i',\n",
       " 'https://www.imdb.com/title/tt0113198/?ref_=adv_li_i',\n",
       " 'https://www.imdb.com/title/tt0405296/?ref_=adv_li_i']"
      ]
     },
     "execution_count": 3,
     "metadata": {},
     "output_type": "execute_result"
    }
   ],
   "source": [
    "links[:5]"
   ]
  },
  {
   "cell_type": "markdown",
   "id": "1ce21c49",
   "metadata": {},
   "source": [
    "#### Before, traversing each link, I thought it'd be easier to scrap some of the data that is previewed from the list. This includes important information like the title, release year, and scores. \n",
    "\n",
    "#### To perform this task, I resorted to using ParseHub due to the streamlined process of scraping data especially from a list. ParseHub also allows me to efficiently convert and import the scrapped data using an API key. "
   ]
  },
  {
   "cell_type": "code",
   "execution_count": 4,
   "id": "7892f9ff",
   "metadata": {},
   "outputs": [],
   "source": [
    "import requests\n",
    "from tkinter import filedialog\n",
    "from tkinter import Tk\n",
    "import json\n",
    "\n",
    "# Quickly get rid of the root window popup\n",
    "root = Tk()\n",
    "root.withdraw()\n",
    "\n",
    "# Use Filedialog.askopenfilename to open a dialog window where you can select your credentials file.\n",
    "filepath = filedialog.askopenfilename()\n",
    "file = open(filepath, 'r')\n",
    "\n",
    "# Open the credentials file with json.load\n",
    "credentials = json.load(file)\n",
    "\n",
    "token = credentials['project_token_key']\n",
    "api_key = credentials['api_key']\n",
    "\n",
    "# token = \"tp4fTT4w1AgB\"\n",
    "# api_key = \"tW7pdstyiydo\"\n",
    "\n",
    "params = {\n",
    "  \"api_key\": api_key,\n",
    "  \"format\": \"json\"\n",
    "}\n",
    "r = requests.get('https://parsehub.com/api/v2/projects/'+token+'/last_ready_run/data', params=params)\n",
    "file.close()"
   ]
  },
  {
   "cell_type": "markdown",
   "id": "7aeb91c8",
   "metadata": {},
   "source": [
    "#### I don't want to stop just yet. I decided to add another column I thought can be interesting: budget. However the budget can only be seen inside a movie's page and not from the preview. This is where the list of links come into play. I intend to traverse through each link to scrap the available data regarding a movie's budget."
   ]
  },
  {
   "cell_type": "code",
   "execution_count": 5,
   "id": "b052f092",
   "metadata": {},
   "outputs": [],
   "source": [
    "j = json.loads(r.text)\n",
    "df = pd.DataFrame(j['movie'])\n",
    "copy_df = df\n",
    "copy_df.insert(9,\"budget\",\"\",True)"
   ]
  },
  {
   "cell_type": "markdown",
   "id": "4a467c29",
   "metadata": {},
   "source": [
    "This is the part that gave me the most trouble. Unfortunately, the page layout of every movie while seemingly similar in layout, are not exactly 1:1 levels of consistent. For example, in most pages, the budget of a movie would be the first span element on the Box Office section of the page. However, some movie pages like [_An American Tail_](https://www.imdb.com/title/tt0090633/?ref_=adv_li_tt) don't include the budget. This would mean using an element's class name or XPATH to find where the budget (and similar elements) can be done without a problem on some pages but would fail on others. As a temporary \"solution\" I decided to label any unknown budget as \"-1\" so I can make note of it in the data cleaning process.\n",
    "\n",
    "There are also some cases where something else is unexpectedly scrapped instead of the budget despite being there (there are some movies where I'm just given the U.S/Canada gross, for example). Due to the inconsistent layout of the pages, a \"one size fits all\" solution where I can perfectly parse the budget of each page isn't going to be in the cards at the moment. On the bright side, the latter effect could easily be fixed due to an observation of mine regarding how the data in the budget column is presented (perhaps you might notice it too). But let's worry about that in the data cleaning process. "
   ]
  },
  {
   "cell_type": "code",
   "execution_count": 6,
   "id": "56a46c43",
   "metadata": {},
   "outputs": [
    {
     "name": "stderr",
     "output_type": "stream",
     "text": [
      "Getting movie data....:  21%|█████████▉                                      | 67/322 [04:42<19:13,  4.52s/it]"
     ]
    },
    {
     "name": "stdout",
     "output_type": "stream",
     "text": [
      "https://www.imdb.com/title/tt0385700/?ref_=adv_li_i: Oops! Budget not Found!\n"
     ]
    },
    {
     "name": "stderr",
     "output_type": "stream",
     "text": [
      "Getting movie data....:  31%|██████████████▋                                | 101/322 [07:02<13:52,  3.77s/it]"
     ]
    },
    {
     "name": "stdout",
     "output_type": "stream",
     "text": [
      "https://www.imdb.com/title/tt9848626/?ref_=adv_li_i: Oops! Budget not Found!\n"
     ]
    },
    {
     "name": "stderr",
     "output_type": "stream",
     "text": [
      "Getting movie data....:  84%|███████████████████████████████████████▎       | 269/322 [18:15<03:33,  4.03s/it]"
     ]
    },
    {
     "name": "stdout",
     "output_type": "stream",
     "text": [
      "https://www.imdb.com/title/tt0076363/?ref_=adv_li_i: Oops! Budget not Found!\n"
     ]
    },
    {
     "name": "stderr",
     "output_type": "stream",
     "text": [
      "\r",
      "Getting movie data....:  84%|███████████████████████████████████████▍       | 270/322 [18:19<03:29,  4.02s/it]"
     ]
    },
    {
     "name": "stdout",
     "output_type": "stream",
     "text": [
      "https://www.imdb.com/title/tt7979580/?ref_=adv_li_i: Oops! Budget not Found!\n"
     ]
    },
    {
     "name": "stderr",
     "output_type": "stream",
     "text": [
      "Getting movie data....:  87%|█████████████████████████████████████████      | 281/322 [19:04<02:47,  4.08s/it]"
     ]
    },
    {
     "name": "stdout",
     "output_type": "stream",
     "text": [
      "https://www.imdb.com/title/tt9288046/?ref_=adv_li_i: Oops! Budget not Found!\n"
     ]
    },
    {
     "name": "stderr",
     "output_type": "stream",
     "text": [
      "Getting movie data....:  92%|███████████████████████████████████████████▏   | 296/322 [20:05<01:49,  4.21s/it]"
     ]
    },
    {
     "name": "stdout",
     "output_type": "stream",
     "text": [
      "https://www.imdb.com/title/tt11657662/?ref_=adv_li_i: Oops! Budget not Found!\n"
     ]
    },
    {
     "name": "stderr",
     "output_type": "stream",
     "text": [
      "Getting movie data....:  98%|█████████████████████████████████████████████▊ | 314/322 [21:17<00:32,  4.11s/it]"
     ]
    },
    {
     "name": "stdout",
     "output_type": "stream",
     "text": [
      "https://www.imdb.com/title/tt0078480/?ref_=adv_li_i: Oops! Budget not Found!\n"
     ]
    },
    {
     "name": "stderr",
     "output_type": "stream",
     "text": [
      "Getting movie data....: 100%|███████████████████████████████████████████████| 322/322 [21:48<00:00,  4.06s/it]\n"
     ]
    }
   ],
   "source": [
    "from tqdm import tqdm\n",
    "from selenium.common.exceptions import NoSuchElementException\n",
    "x = 0\n",
    "for link in tqdm(links, desc='Getting movie data....'):\n",
    "    driver.get(link)\n",
    "    time.sleep(2)\n",
    "\n",
    "    try:\n",
    "        b = driver.find_element(By.CSS_SELECTOR, '.fJEELB li:first-of-type,  ipc-metadata-list-item__list-content-item').text\n",
    "    except NoSuchElementException:\n",
    "        print(link + \": Oops! Budget not Found!\")\n",
    "        b = \"-1\"\n",
    "    \n",
    "    finally:\n",
    "        copy_df['budget'][x] = b\n",
    "        x+=1\n",
    "        \n",
    "driver.quit()"
   ]
  },
  {
   "cell_type": "markdown",
   "id": "54a4cfa6",
   "metadata": {},
   "source": [
    "#### I probably could've used ParseHub all the way instead of relying on Selenium for a few parts. Unfortunately, going through the pages of 300+ as opposed to only 7 pages from the list is going to require a lot of traversing, something the free version of ParseHub doesn't care much for. Oh well."
   ]
  },
  {
   "cell_type": "code",
   "execution_count": 7,
   "id": "9a5151ce",
   "metadata": {},
   "outputs": [
    {
     "data": {
      "text/html": [
       "<div>\n",
       "<style scoped>\n",
       "    .dataframe tbody tr th:only-of-type {\n",
       "        vertical-align: middle;\n",
       "    }\n",
       "\n",
       "    .dataframe tbody tr th {\n",
       "        vertical-align: top;\n",
       "    }\n",
       "\n",
       "    .dataframe thead th {\n",
       "        text-align: right;\n",
       "    }\n",
       "</style>\n",
       "<table border=\"1\" class=\"dataframe\">\n",
       "  <thead>\n",
       "    <tr style=\"text-align: right;\">\n",
       "      <th></th>\n",
       "      <th>name</th>\n",
       "      <th>rating</th>\n",
       "      <th>runtime</th>\n",
       "      <th>genre</th>\n",
       "      <th>votescore</th>\n",
       "      <th>metacritic</th>\n",
       "      <th>year</th>\n",
       "      <th>votes</th>\n",
       "      <th>gross</th>\n",
       "      <th>budget</th>\n",
       "      <th>director</th>\n",
       "    </tr>\n",
       "  </thead>\n",
       "  <tbody>\n",
       "    <tr>\n",
       "      <th>0</th>\n",
       "      <td>9</td>\n",
       "      <td>PG-13</td>\n",
       "      <td>79 min</td>\n",
       "      <td>Animation, Action, Adventure</td>\n",
       "      <td>7.0</td>\n",
       "      <td>60</td>\n",
       "      <td>(I) (2009)</td>\n",
       "      <td>140,609</td>\n",
       "      <td>$31.74M</td>\n",
       "      <td>$30,000,000 (estimated)</td>\n",
       "      <td>Shane Acker</td>\n",
       "    </tr>\n",
       "    <tr>\n",
       "      <th>1</th>\n",
       "      <td>A Bug's Life</td>\n",
       "      <td>G</td>\n",
       "      <td>95 min</td>\n",
       "      <td>Animation, Adventure, Comedy</td>\n",
       "      <td>7.2</td>\n",
       "      <td>77</td>\n",
       "      <td>(I) (1998)</td>\n",
       "      <td>292,528</td>\n",
       "      <td>$162.80M</td>\n",
       "      <td>$120,000,000 (estimated)</td>\n",
       "      <td>John Lasseter</td>\n",
       "    </tr>\n",
       "    <tr>\n",
       "      <th>2</th>\n",
       "      <td>A Christmas Carol</td>\n",
       "      <td>PG</td>\n",
       "      <td>96 min</td>\n",
       "      <td>Animation, Adventure, Comedy</td>\n",
       "      <td>6.8</td>\n",
       "      <td>55</td>\n",
       "      <td>(2009)</td>\n",
       "      <td>115,397</td>\n",
       "      <td>$137.86M</td>\n",
       "      <td>$200,000,000 (estimated)</td>\n",
       "      <td>Robert Zemeckis</td>\n",
       "    </tr>\n",
       "    <tr>\n",
       "      <th>3</th>\n",
       "      <td>A Goofy Movie</td>\n",
       "      <td>G</td>\n",
       "      <td>78 min</td>\n",
       "      <td>Animation, Adventure, Comedy</td>\n",
       "      <td>6.9</td>\n",
       "      <td>53</td>\n",
       "      <td>(1995)</td>\n",
       "      <td>55,042</td>\n",
       "      <td>$35.35M</td>\n",
       "      <td>$18,000,000 (estimated)</td>\n",
       "      <td>Kevin Lima</td>\n",
       "    </tr>\n",
       "    <tr>\n",
       "      <th>4</th>\n",
       "      <td>A Scanner Darkly</td>\n",
       "      <td>R</td>\n",
       "      <td>100 min</td>\n",
       "      <td>Animation, Comedy, Crime</td>\n",
       "      <td>7.0</td>\n",
       "      <td>73</td>\n",
       "      <td>(2006)</td>\n",
       "      <td>112,406</td>\n",
       "      <td>$5.50M</td>\n",
       "      <td>$8,700,000 (estimated)</td>\n",
       "      <td>Richard Linklater</td>\n",
       "    </tr>\n",
       "    <tr>\n",
       "      <th>...</th>\n",
       "      <td>...</td>\n",
       "      <td>...</td>\n",
       "      <td>...</td>\n",
       "      <td>...</td>\n",
       "      <td>...</td>\n",
       "      <td>...</td>\n",
       "      <td>...</td>\n",
       "      <td>...</td>\n",
       "      <td>...</td>\n",
       "      <td>...</td>\n",
       "      <td>...</td>\n",
       "    </tr>\n",
       "    <tr>\n",
       "      <th>317</th>\n",
       "      <td>Wolfwalkers</td>\n",
       "      <td>PG</td>\n",
       "      <td>103 min</td>\n",
       "      <td>Animation, Adventure, Family</td>\n",
       "      <td>8.0</td>\n",
       "      <td>87</td>\n",
       "      <td>(2020)</td>\n",
       "      <td>32,143</td>\n",
       "      <td>NaN</td>\n",
       "      <td>$12,000,000 (estimated)</td>\n",
       "      <td>Tomm Moore</td>\n",
       "    </tr>\n",
       "    <tr>\n",
       "      <th>318</th>\n",
       "      <td>Wreck-It Ralph</td>\n",
       "      <td>PG</td>\n",
       "      <td>101 min</td>\n",
       "      <td>Animation, Adventure, Comedy</td>\n",
       "      <td>7.7</td>\n",
       "      <td>72</td>\n",
       "      <td>(2012)</td>\n",
       "      <td>421,019</td>\n",
       "      <td>$189.42M</td>\n",
       "      <td>$165,000,000 (estimated)</td>\n",
       "      <td>Rich Moore</td>\n",
       "    </tr>\n",
       "    <tr>\n",
       "      <th>319</th>\n",
       "      <td>Yellow Submarine</td>\n",
       "      <td>G</td>\n",
       "      <td>85 min</td>\n",
       "      <td>Animation, Adventure, Comedy</td>\n",
       "      <td>7.4</td>\n",
       "      <td>79</td>\n",
       "      <td>(1968)</td>\n",
       "      <td>26,501</td>\n",
       "      <td>$0.99M</td>\n",
       "      <td>£250,000 (estimated)</td>\n",
       "      <td>George Dunning</td>\n",
       "    </tr>\n",
       "    <tr>\n",
       "      <th>320</th>\n",
       "      <td>Zootopia</td>\n",
       "      <td>PG</td>\n",
       "      <td>108 min</td>\n",
       "      <td>Animation, Adventure, Comedy</td>\n",
       "      <td>8.0</td>\n",
       "      <td>78</td>\n",
       "      <td>(2016)</td>\n",
       "      <td>494,634</td>\n",
       "      <td>$341.27M</td>\n",
       "      <td>$150,000,000 (estimated)</td>\n",
       "      <td>Byron Howard</td>\n",
       "    </tr>\n",
       "    <tr>\n",
       "      <th>321</th>\n",
       "      <td>Wolf Children</td>\n",
       "      <td>PG</td>\n",
       "      <td>117 min</td>\n",
       "      <td>Animation, Drama, Family</td>\n",
       "      <td>8.1</td>\n",
       "      <td>71</td>\n",
       "      <td>(2012)</td>\n",
       "      <td>45,024</td>\n",
       "      <td>NaN</td>\n",
       "      <td>$54,999,779</td>\n",
       "      <td>Mamoru Hosoda</td>\n",
       "    </tr>\n",
       "  </tbody>\n",
       "</table>\n",
       "<p>322 rows × 11 columns</p>\n",
       "</div>"
      ],
      "text/plain": [
       "                  name rating  runtime                         genre  \\\n",
       "0                    9  PG-13   79 min  Animation, Action, Adventure   \n",
       "1         A Bug's Life      G   95 min  Animation, Adventure, Comedy   \n",
       "2    A Christmas Carol     PG   96 min  Animation, Adventure, Comedy   \n",
       "3        A Goofy Movie      G   78 min  Animation, Adventure, Comedy   \n",
       "4     A Scanner Darkly      R  100 min      Animation, Comedy, Crime   \n",
       "..                 ...    ...      ...                           ...   \n",
       "317        Wolfwalkers     PG  103 min  Animation, Adventure, Family   \n",
       "318     Wreck-It Ralph     PG  101 min  Animation, Adventure, Comedy   \n",
       "319   Yellow Submarine      G   85 min  Animation, Adventure, Comedy   \n",
       "320           Zootopia     PG  108 min  Animation, Adventure, Comedy   \n",
       "321      Wolf Children     PG  117 min      Animation, Drama, Family   \n",
       "\n",
       "    votescore metacritic        year    votes     gross  \\\n",
       "0         7.0         60  (I) (2009)  140,609   $31.74M   \n",
       "1         7.2         77  (I) (1998)  292,528  $162.80M   \n",
       "2         6.8         55      (2009)  115,397  $137.86M   \n",
       "3         6.9         53      (1995)   55,042   $35.35M   \n",
       "4         7.0         73      (2006)  112,406    $5.50M   \n",
       "..        ...        ...         ...      ...       ...   \n",
       "317       8.0         87      (2020)   32,143       NaN   \n",
       "318       7.7         72      (2012)  421,019  $189.42M   \n",
       "319       7.4         79      (1968)   26,501    $0.99M   \n",
       "320       8.0         78      (2016)  494,634  $341.27M   \n",
       "321       8.1         71      (2012)   45,024       NaN   \n",
       "\n",
       "                       budget           director  \n",
       "0     $30,000,000 (estimated)        Shane Acker  \n",
       "1    $120,000,000 (estimated)      John Lasseter  \n",
       "2    $200,000,000 (estimated)    Robert Zemeckis  \n",
       "3     $18,000,000 (estimated)         Kevin Lima  \n",
       "4      $8,700,000 (estimated)  Richard Linklater  \n",
       "..                        ...                ...  \n",
       "317   $12,000,000 (estimated)         Tomm Moore  \n",
       "318  $165,000,000 (estimated)         Rich Moore  \n",
       "319      £250,000 (estimated)     George Dunning  \n",
       "320  $150,000,000 (estimated)       Byron Howard  \n",
       "321               $54,999,779      Mamoru Hosoda  \n",
       "\n",
       "[322 rows x 11 columns]"
      ]
     },
     "execution_count": 7,
     "metadata": {},
     "output_type": "execute_result"
    }
   ],
   "source": [
    "copy_df"
   ]
  },
  {
   "cell_type": "code",
   "execution_count": 8,
   "id": "28f8c6df",
   "metadata": {},
   "outputs": [],
   "source": [
    "copy_df.to_csv(\"imdb_animated_movies.csv\", index = False)"
   ]
  },
  {
   "cell_type": "markdown",
   "id": "e4801366",
   "metadata": {},
   "source": [
    "After converting this table into a readable csv, the data scraping process is concluded. Next step involves cleaning the data using the recently made csv file as a base."
   ]
  }
 ],
 "metadata": {
  "kernelspec": {
   "display_name": "Python 3 (ipykernel)",
   "language": "python",
   "name": "python3"
  },
  "language_info": {
   "codemirror_mode": {
    "name": "ipython",
    "version": 3
   },
   "file_extension": ".py",
   "mimetype": "text/x-python",
   "name": "python",
   "nbconvert_exporter": "python",
   "pygments_lexer": "ipython3",
   "version": "3.9.12"
  }
 },
 "nbformat": 4,
 "nbformat_minor": 5
}
