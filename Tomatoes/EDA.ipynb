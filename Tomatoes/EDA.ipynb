{
 "cells": [
  {
   "cell_type": "code",
   "execution_count": 1,
   "id": "a6333d9b",
   "metadata": {},
   "outputs": [
    {
     "data": {
      "text/html": [
       "<div>\n",
       "<style scoped>\n",
       "    .dataframe tbody tr th:only-of-type {\n",
       "        vertical-align: middle;\n",
       "    }\n",
       "\n",
       "    .dataframe tbody tr th {\n",
       "        vertical-align: top;\n",
       "    }\n",
       "\n",
       "    .dataframe thead th {\n",
       "        text-align: right;\n",
       "    }\n",
       "</style>\n",
       "<table border=\"1\" class=\"dataframe\">\n",
       "  <thead>\n",
       "    <tr style=\"text-align: right;\">\n",
       "      <th></th>\n",
       "      <th>name</th>\n",
       "      <th>rating</th>\n",
       "      <th>year</th>\n",
       "      <th>genre_a</th>\n",
       "      <th>genre_b</th>\n",
       "      <th>runtime_minutes</th>\n",
       "      <th>story_desc</th>\n",
       "      <th>avg_rating_score</th>\n",
       "      <th>votescore</th>\n",
       "      <th>metacritic</th>\n",
       "      <th>votes</th>\n",
       "      <th>gross_dollar</th>\n",
       "      <th>profit_dollar</th>\n",
       "      <th>avg_dollar_budget_per_minute</th>\n",
       "      <th>budget_est_dollar</th>\n",
       "      <th>orig_bgt_currency</th>\n",
       "      <th>director</th>\n",
       "    </tr>\n",
       "  </thead>\n",
       "  <tbody>\n",
       "    <tr>\n",
       "      <th>0</th>\n",
       "      <td>9</td>\n",
       "      <td>PG-13</td>\n",
       "      <td>2009</td>\n",
       "      <td>Action</td>\n",
       "      <td>Adventure</td>\n",
       "      <td>79</td>\n",
       "      <td>A rag doll that awakens in a postapocalyptic f...</td>\n",
       "      <td>65.0</td>\n",
       "      <td>70.0</td>\n",
       "      <td>60.0</td>\n",
       "      <td>140989</td>\n",
       "      <td>31740000</td>\n",
       "      <td>1740000</td>\n",
       "      <td>379746.84</td>\n",
       "      <td>30000000</td>\n",
       "      <td>dollar</td>\n",
       "      <td>Shane Acker</td>\n",
       "    </tr>\n",
       "    <tr>\n",
       "      <th>1</th>\n",
       "      <td>A Bug's Life</td>\n",
       "      <td>G</td>\n",
       "      <td>1998</td>\n",
       "      <td>Adventure</td>\n",
       "      <td>Comedy</td>\n",
       "      <td>95</td>\n",
       "      <td>A misfit ant, looking for \"warriors\" to save h...</td>\n",
       "      <td>74.5</td>\n",
       "      <td>72.0</td>\n",
       "      <td>77.0</td>\n",
       "      <td>293639</td>\n",
       "      <td>162800000</td>\n",
       "      <td>42800000</td>\n",
       "      <td>1263157.89</td>\n",
       "      <td>120000000</td>\n",
       "      <td>dollar</td>\n",
       "      <td>John Lasseter</td>\n",
       "    </tr>\n",
       "    <tr>\n",
       "      <th>2</th>\n",
       "      <td>A Christmas Carol</td>\n",
       "      <td>PG</td>\n",
       "      <td>2009</td>\n",
       "      <td>Adventure</td>\n",
       "      <td>Comedy</td>\n",
       "      <td>96</td>\n",
       "      <td>An animated retelling of Charles Dickens' clas...</td>\n",
       "      <td>61.5</td>\n",
       "      <td>68.0</td>\n",
       "      <td>55.0</td>\n",
       "      <td>115942</td>\n",
       "      <td>137860000</td>\n",
       "      <td>-62140000</td>\n",
       "      <td>2083333.33</td>\n",
       "      <td>200000000</td>\n",
       "      <td>dollar</td>\n",
       "      <td>Robert Zemeckis</td>\n",
       "    </tr>\n",
       "    <tr>\n",
       "      <th>3</th>\n",
       "      <td>A Goofy Movie</td>\n",
       "      <td>G</td>\n",
       "      <td>1995</td>\n",
       "      <td>Adventure</td>\n",
       "      <td>Comedy</td>\n",
       "      <td>78</td>\n",
       "      <td>When Max makes a preposterous promise to a gir...</td>\n",
       "      <td>61.0</td>\n",
       "      <td>69.0</td>\n",
       "      <td>53.0</td>\n",
       "      <td>55556</td>\n",
       "      <td>35350000</td>\n",
       "      <td>17350000</td>\n",
       "      <td>230769.23</td>\n",
       "      <td>18000000</td>\n",
       "      <td>dollar</td>\n",
       "      <td>Kevin Lima</td>\n",
       "    </tr>\n",
       "    <tr>\n",
       "      <th>4</th>\n",
       "      <td>A Scanner Darkly</td>\n",
       "      <td>R</td>\n",
       "      <td>2006</td>\n",
       "      <td>Comedy</td>\n",
       "      <td>Crime</td>\n",
       "      <td>100</td>\n",
       "      <td>An undercover cop in a not-too-distant future ...</td>\n",
       "      <td>71.5</td>\n",
       "      <td>70.0</td>\n",
       "      <td>73.0</td>\n",
       "      <td>112638</td>\n",
       "      <td>5500000</td>\n",
       "      <td>-3200000</td>\n",
       "      <td>87000.00</td>\n",
       "      <td>8700000</td>\n",
       "      <td>dollar</td>\n",
       "      <td>Richard Linklater</td>\n",
       "    </tr>\n",
       "  </tbody>\n",
       "</table>\n",
       "</div>"
      ],
      "text/plain": [
       "                name rating  year    genre_a    genre_b  runtime_minutes  \\\n",
       "0                  9  PG-13  2009     Action  Adventure               79   \n",
       "1       A Bug's Life      G  1998  Adventure     Comedy               95   \n",
       "2  A Christmas Carol     PG  2009  Adventure     Comedy               96   \n",
       "3      A Goofy Movie      G  1995  Adventure     Comedy               78   \n",
       "4   A Scanner Darkly      R  2006     Comedy      Crime              100   \n",
       "\n",
       "                                          story_desc  avg_rating_score  \\\n",
       "0  A rag doll that awakens in a postapocalyptic f...              65.0   \n",
       "1  A misfit ant, looking for \"warriors\" to save h...              74.5   \n",
       "2  An animated retelling of Charles Dickens' clas...              61.5   \n",
       "3  When Max makes a preposterous promise to a gir...              61.0   \n",
       "4  An undercover cop in a not-too-distant future ...              71.5   \n",
       "\n",
       "   votescore  metacritic   votes  gross_dollar  profit_dollar  \\\n",
       "0       70.0        60.0  140989      31740000        1740000   \n",
       "1       72.0        77.0  293639     162800000       42800000   \n",
       "2       68.0        55.0  115942     137860000      -62140000   \n",
       "3       69.0        53.0   55556      35350000       17350000   \n",
       "4       70.0        73.0  112638       5500000       -3200000   \n",
       "\n",
       "   avg_dollar_budget_per_minute  budget_est_dollar orig_bgt_currency  \\\n",
       "0                     379746.84           30000000            dollar   \n",
       "1                    1263157.89          120000000            dollar   \n",
       "2                    2083333.33          200000000            dollar   \n",
       "3                     230769.23           18000000            dollar   \n",
       "4                      87000.00            8700000            dollar   \n",
       "\n",
       "            director  \n",
       "0        Shane Acker  \n",
       "1      John Lasseter  \n",
       "2    Robert Zemeckis  \n",
       "3         Kevin Lima  \n",
       "4  Richard Linklater  "
      ]
     },
     "execution_count": 1,
     "metadata": {},
     "output_type": "execute_result"
    }
   ],
   "source": [
    "import pandas as pd\n",
    "import re\n",
    "import warnings\n",
    "warnings.filterwarnings('ignore')\n",
    "\n",
    "df = pd.read_csv(\"imdb_animated_movies_clean.csv\")\n",
    "df.head()"
   ]
  },
  {
   "cell_type": "code",
   "execution_count": 4,
   "id": "f677772e",
   "metadata": {},
   "outputs": [
    {
     "data": {
      "text/plain": [
       "PG           189\n",
       "G             86\n",
       "PG-13         18\n",
       "R             13\n",
       "Not Rated      6\n",
       "TV-MA          4\n",
       "TV-PG          3\n",
       "TV-14          2\n",
       "Name: rating, dtype: int64"
      ]
     },
     "execution_count": 4,
     "metadata": {},
     "output_type": "execute_result"
    }
   ],
   "source": [
    "df.rating.value_counts()"
   ]
  },
  {
   "cell_type": "code",
   "execution_count": 2,
   "id": "4c6e9d7b",
   "metadata": {},
   "outputs": [
    {
     "data": {
      "text/plain": [
       "Adventure    212\n",
       "Action        62\n",
       "Drama         22\n",
       "Comedy        15\n",
       "Family         5\n",
       "Biography      3\n",
       "Sci-Fi         1\n",
       "Crime          1\n",
       "Name: genre_a, dtype: int64"
      ]
     },
     "execution_count": 2,
     "metadata": {},
     "output_type": "execute_result"
    }
   ],
   "source": [
    "df.genre_a.value_counts()"
   ]
  },
  {
   "cell_type": "code",
   "execution_count": 3,
   "id": "f406b288",
   "metadata": {},
   "outputs": [
    {
     "data": {
      "text/plain": [
       "Comedy       175\n",
       "Adventure     54\n",
       "Family        32\n",
       "Drama         31\n",
       "Fantasy       16\n",
       "Crime          5\n",
       "Romance        2\n",
       "Horror         1\n",
       "War            1\n",
       "Mystery        1\n",
       "Sci-Fi         1\n",
       "Name: genre_b, dtype: int64"
      ]
     },
     "execution_count": 3,
     "metadata": {},
     "output_type": "execute_result"
    }
   ],
   "source": [
    "df.genre_b.value_counts()"
   ]
  }
 ],
 "metadata": {
  "kernelspec": {
   "display_name": "Python 3 (ipykernel)",
   "language": "python",
   "name": "python3"
  },
  "language_info": {
   "codemirror_mode": {
    "name": "ipython",
    "version": 3
   },
   "file_extension": ".py",
   "mimetype": "text/x-python",
   "name": "python",
   "nbconvert_exporter": "python",
   "pygments_lexer": "ipython3",
   "version": "3.9.12"
  }
 },
 "nbformat": 4,
 "nbformat_minor": 5
}
